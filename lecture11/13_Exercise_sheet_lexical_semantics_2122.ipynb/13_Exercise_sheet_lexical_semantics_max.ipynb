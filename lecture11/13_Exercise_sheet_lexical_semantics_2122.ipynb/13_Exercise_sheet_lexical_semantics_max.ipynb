{
 "cells": [
  {
   "cell_type": "markdown",
   "metadata": {},
   "source": [
    "# Exercise \"Lecture 11: Lexical Semantics\"\n",
    "\n",
    "\n",
    "In this set of exercises, we will convert words to vectors representing their distributional properties. \n",
    "\n",
    "We will start by building a word cooccurrences matrix from the Wikipedia corpus. \n",
    "\n",
    "We will then use Gensim and sklearn predefined methods to build an SVD word context matrix from the Wikipedia corpus used in the preceding two lectures. Finally we'll use cosine to compare the similarity between different pairs of words. \n",
    "\n",
    "The exercises cover the following points:\n",
    "\n",
    "* Converting a corpus to a list of integers where each integer represent a token (this is needed for efficient computation)\n",
    "* Computing a word frequency distribution \n",
    "* Creating word coocurrence matrices\n",
    "* Applying SVD decomposition\n",
    "* Finding neighbours"
   ]
  },
  {
   "cell_type": "markdown",
   "metadata": {},
   "source": [
    "### Create a corpus from a set of files"
   ]
  },
  {
   "cell_type": "markdown",
   "metadata": {},
   "source": [
    "**Exercise 1:** Store all files in 'data/wkp/' into a pandas dataframe with column Text where each row contains the content of one file\n",
    "\n",
    "* use os.scandir to list the files in the directory, read each file into a list of strings (one string per file)   \n",
    "_**Cheatsheet:**_ python_basics"
   ]
  },
  {
   "cell_type": "code",
   "execution_count": 1,
   "metadata": {},
   "outputs": [
    {
     "data": {
      "text/html": [
       "<div>\n",
       "<style scoped>\n",
       "    .dataframe tbody tr th:only-of-type {\n",
       "        vertical-align: middle;\n",
       "    }\n",
       "\n",
       "    .dataframe tbody tr th {\n",
       "        vertical-align: top;\n",
       "    }\n",
       "\n",
       "    .dataframe thead th {\n",
       "        text-align: right;\n",
       "    }\n",
       "</style>\n",
       "<table border=\"1\" class=\"dataframe\">\n",
       "  <thead>\n",
       "    <tr style=\"text-align: right;\">\n",
       "      <th></th>\n",
       "      <th>Text</th>\n",
       "    </tr>\n",
       "  </thead>\n",
       "  <tbody>\n",
       "    <tr>\n",
       "      <th>0</th>\n",
       "      <td>Airports of Serbia (Serbian Cyrillic: Аеродром...</td>\n",
       "    </tr>\n",
       "    <tr>\n",
       "      <th>1</th>\n",
       "      <td>An airport authority is an independent entity ...</td>\n",
       "    </tr>\n",
       "    <tr>\n",
       "      <th>2</th>\n",
       "      <td>An airport bus, or airport shuttle bus or airp...</td>\n",
       "    </tr>\n",
       "    <tr>\n",
       "      <th>3</th>\n",
       "      <td>Airport check-in is the process whereby passen...</td>\n",
       "    </tr>\n",
       "    <tr>\n",
       "      <th>4</th>\n",
       "      <td>Airport security refers to the techniques and ...</td>\n",
       "    </tr>\n",
       "    <tr>\n",
       "      <th>...</th>\n",
       "      <td>...</td>\n",
       "    </tr>\n",
       "    <tr>\n",
       "      <th>155</th>\n",
       "      <td>Votice (Czech pronunciation: [ˈvocɪtsɛ]; Germa...</td>\n",
       "    </tr>\n",
       "    <tr>\n",
       "      <th>156</th>\n",
       "      <td>The surface area that interacts with the worki...</td>\n",
       "    </tr>\n",
       "    <tr>\n",
       "      <th>157</th>\n",
       "      <td>William Hogarth  (; 10 November 1697 – 26 Octo...</td>\n",
       "    </tr>\n",
       "    <tr>\n",
       "      <th>158</th>\n",
       "      <td>Wolfgang Nordwig (born 27 August 1943) is a fo...</td>\n",
       "    </tr>\n",
       "    <tr>\n",
       "      <th>159</th>\n",
       "      <td>Židlochovice (Czech pronunciation: [ˈʒɪdloxovɪ...</td>\n",
       "    </tr>\n",
       "  </tbody>\n",
       "</table>\n",
       "<p>160 rows × 1 columns</p>\n",
       "</div>"
      ],
      "text/plain": [
       "                                                  Text\n",
       "0    Airports of Serbia (Serbian Cyrillic: Аеродром...\n",
       "1    An airport authority is an independent entity ...\n",
       "2    An airport bus, or airport shuttle bus or airp...\n",
       "3    Airport check-in is the process whereby passen...\n",
       "4    Airport security refers to the techniques and ...\n",
       "..                                                 ...\n",
       "155  Votice (Czech pronunciation: [ˈvocɪtsɛ]; Germa...\n",
       "156  The surface area that interacts with the worki...\n",
       "157  William Hogarth  (; 10 November 1697 – 26 Octo...\n",
       "158  Wolfgang Nordwig (born 27 August 1943) is a fo...\n",
       "159  Židlochovice (Czech pronunciation: [ˈʒɪdloxovɪ...\n",
       "\n",
       "[160 rows x 1 columns]"
      ]
     },
     "execution_count": 1,
     "metadata": {},
     "output_type": "execute_result"
    }
   ],
   "source": [
    "import os\n",
    "import pandas as pd\n",
    "\n",
    "all_strings = []\n",
    "\n",
    "for filename in os.listdir('wkp'):\n",
    "    file_contents = open('wkp/' + filename).read()\n",
    "    all_strings.append(file_contents)\n",
    "\n",
    "df = pd.DataFrame(all_strings, columns=['Text'])\n",
    "df"
   ]
  },
  {
   "cell_type": "markdown",
   "metadata": {},
   "source": [
    "**Exercise 2:** Clean the corpus\n",
    "\n",
    "* Store the content of the 'Text\" column into a string (cf. Pandas CS, \"Extracting all text from a colum\")\n",
    "* Tokenize the string into words (cf. NLTK CS)\n",
    "* Print out the first and the last 10 words of your list of tokens. Do you see tokens that may not be useful for learning word representations ?\n",
    "* Lower case all tokens and remove all tokens that contains characters that are not letters"
   ]
  },
  {
   "cell_type": "code",
   "execution_count": 2,
   "metadata": {},
   "outputs": [
    {
     "name": "stdout",
     "output_type": "stream",
     "text": [
      "['Airports', 'of', 'Serbia', '(', 'Serbian', 'Cyrillic', ':', 'Аеродроми', 'Србије', ')']\n",
      "['Italy', '==', 'References', '==', '==', 'External', 'links', '==', 'Official', 'website']\n",
      "\n",
      "['airports', 'of', 'serbia', 'serbian', 'cyrillic', 'аеродроми', 'србије', 'is', 'a', 'serbian']\n",
      "['with', 'gbely', 'slovakia', 'montevago', 'italy', 'references', 'external', 'links', 'official', 'website']\n"
     ]
    }
   ],
   "source": [
    "from nltk.tokenize import word_tokenize\n",
    "\n",
    "text = ' '.join(df['Text'])\n",
    "tokenized_text = word_tokenize(text)\n",
    "\n",
    "print(tokenized_text[:10])\n",
    "print(tokenized_text[-10:])\n",
    "\n",
    "tokenized_text = [token.lower() for token in tokenized_text]\n",
    "tokenized_text = [token for token in tokenized_text if token.isalpha()]\n",
    "\n",
    "print()\n",
    "print(tokenized_text[:10])\n",
    "print(tokenized_text[-10:])"
   ]
  },
  {
   "cell_type": "markdown",
   "metadata": {},
   "source": [
    "### Create a frequency distribution"
   ]
  },
  {
   "cell_type": "markdown",
   "metadata": {},
   "source": [
    "**Exercise 3:** Create a frequency distribution from the list of tokens created in the previous exercise. Print out the 10 most and least frequent tokens.\n",
    "\n",
    "_**Cheatsheet:**_ lexical semantics and stats_and_visu \n",
    "* Create a frequency distribution by iterating over the list of token while incrementing each token frequency accordingly\n",
    "* Sort the tokens by decreasing frequency into a list\n",
    "* Print out the first and last 10 tokens of this list (which tokens are most and least frequent ?)"
   ]
  },
  {
   "cell_type": "code",
   "execution_count": 3,
   "metadata": {},
   "outputs": [
    {
     "data": {
      "image/png": "[encoded data removed]",
      "text/plain": [
       "<Figure size 432x288 with 1 Axes>"
      ]
     },
     "metadata": {
      "needs_background": "light"
     },
     "output_type": "display_data"
    },
    {
     "name": "stdout",
     "output_type": "stream",
     "text": [
      "[('the', 11652), ('of', 5443), ('and', 4677), ('in', 4564), ('to', 3773), ('a', 3479), ('is', 1633), ('was', 1596), ('as', 1495), ('for', 1284)]\n",
      "[('linhart', 1), ('strakosch', 1), ('manó', 1), ('kogutowicz', 1), ('cartographer', 1), ('teschen', 1), ('admiral', 1), ('eugen', 1), ('gbely', 1), ('montevago', 1)]\n"
     ]
    }
   ],
   "source": [
    "%matplotlib inline\n",
    "\n",
    "import nltk\n",
    "\n",
    "frequency_dist = nltk.FreqDist(tokenized_text)\n",
    "frequency_dist.plot(10)\n",
    "\n",
    "print(frequency_dist.most_common(10))\n",
    "print(frequency_dist.most_common()[-10:])"
   ]
  },
  {
   "cell_type": "markdown",
   "metadata": {},
   "source": [
    "### Convert the corpus to a list of integers"
   ]
  },
  {
   "cell_type": "markdown",
   "metadata": {},
   "source": [
    "**Exercise 4:** Convert the list of tokens created in Exercise 2 (corpus cleaning) into a list of integers\n",
    "\n",
    "* Create a dictionary mapping each token to a distinct integer (Cf. Lexical Semantics CS)\n",
    "* Use this dictionary to convert each token from your cleaned corpus (Exercise 2) into an integer."
   ]
  },
  {
   "cell_type": "code",
   "execution_count": null,
   "metadata": {},
   "outputs": [],
   "source": [
    "from collections import defaultdict\n",
    "\n",
    "token2int = defaultdict(lambda: len(token2int)) \n",
    "\n",
    "integer_text = [token2int[token] for token in tokenized_text]\n",
    "integer_text"
   ]
  },
  {
   "cell_type": "markdown",
   "metadata": {},
   "source": [
    "### Create a dictionary of co-occurences"
   ]
  },
  {
   "cell_type": "markdown",
   "metadata": {},
   "source": [
    "**Exercise 5:** In the previous exercise, you created a list of integers where each integer is the identifier for the corresponding token in your cleaned up corpus. Iterate over that list and for each \"integer token\" *i*:\n",
    "\n",
    "* get the neihbours of *i* within a window of size 5 (only looking at the right side of *i*)\n",
    "* store these neihbours in a dictionary of coocurrences of the form {(i,j):f,} where *(i,j)* are neighbours and *f* is the frequency of the co-occurence \n",
    "* Sort co-occurences using integer order i.e., if the neighbour *n* is represented by an identifier smaller than *i*, store the co-occurence as *(n,i)*, otherwise as *(i,n)* .\n"
   ]
  },
  {
   "cell_type": "code",
   "execution_count": null,
   "metadata": {},
   "outputs": [],
   "source": [
    "cooccurrences = defaultdict(int)\n",
    "\n",
    "for i, token in enumerate(integer_text[:-5]):\n",
    "    for j in range(1, 6):\n",
    "        neighbour_token = integer_text[i + j]\n",
    "        cooccurrences[(min(token, neighbour_token), max(token, neighbour_token))] += 1\n",
    "cooccurrences"
   ]
  },
  {
   "cell_type": "markdown",
   "metadata": {},
   "source": [
    "### Compute the SVD decomposition of the Co-occurence Matrix"
   ]
  },
  {
   "cell_type": "markdown",
   "metadata": {},
   "source": [
    "**Exercise 6:** Compute the  SVD decomposition of the word co-occurence matrix you just created\n",
    "\n",
    "* Create a matrix A of size (vocab_length, vocab_length)\n",
    "* Fill each cell *(i,j)* in this matrix with the frequency the co-occurrence between *i* and *j*\n",
    "* Use numpy [svd](https://docs.scipy.org/doc/numpy/reference/generated/numpy.linalg.svd.html) method from the linalg module\n",
    "* full_matrices = False ensures that reduced SVD is applied (rather than full SVD)\n",
    "\n",
    "A = U * s * V"
   ]
  },
  {
   "cell_type": "code",
   "execution_count": 6,
   "metadata": {},
   "outputs": [
    {
     "data": {
      "text/plain": [
       "array([[  9.,  37.,   5., ...,   0.,   0.,   0.],\n",
       "       [  0., 627.,   9., ...,   1.,   0.,   0.],\n",
       "       [  0.,   0.,   0., ...,   0.,   0.,   0.],\n",
       "       ...,\n",
       "       [  0.,   0.,   0., ...,   0.,   0.,   0.],\n",
       "       [  0.,   0.,   0., ...,   0.,   0.,   1.],\n",
       "       [  0.,   0.,   0., ...,   0.,   0.,   0.]])"
      ]
     },
     "execution_count": 6,
     "metadata": {},
     "output_type": "execute_result"
    }
   ],
   "source": [
    "import numpy as np\n",
    "\n",
    "matrix = np.zeros((len(token2int), len(token2int)))\n",
    "for (i, j), value in cooccurrences.items():\n",
    "    matrix[i, j] = value\n",
    "matrix"
   ]
  },
  {
   "cell_type": "code",
   "execution_count": 7,
   "metadata": {},
   "outputs": [
    {
     "data": {
      "text/plain": [
       "17627"
      ]
     },
     "execution_count": 7,
     "metadata": {},
     "output_type": "execute_result"
    }
   ],
   "source": [
    "U, s, V = np.linalg.svd(matrix, full_matrices=False)"
   ]
  },
  {
   "cell_type": "markdown",
   "metadata": {},
   "source": [
    "**Exercise 7 (PROVIDED):** Define a function which returns the similarity between two words and apply to measure the similarity of airport and news, airport and international, john and peter"
   ]
  },
  {
   "cell_type": "code",
   "execution_count": 8,
   "metadata": {},
   "outputs": [
    {
     "ename": "NameError",
     "evalue": "name 'U' is not defined",
     "output_type": "error",
     "traceback": [
      "\u001b[0;31m---------------------------------------------------------------------------\u001b[0m",
      "\u001b[0;31mNameError\u001b[0m                                 Traceback (most recent call last)",
      "\u001b[0;32m<ipython-input-8-ff9ed2f1f1a1>\u001b[0m in \u001b[0;36m<module>\u001b[0;34m\u001b[0m\n\u001b[1;32m      7\u001b[0m     \u001b[0;32mreturn\u001b[0m \u001b[0mcosine_similarity\u001b[0m\u001b[0;34m(\u001b[0m\u001b[0mv1\u001b[0m\u001b[0;34m,\u001b[0m \u001b[0mv2\u001b[0m\u001b[0;34m)\u001b[0m\u001b[0;34m[\u001b[0m\u001b[0;36m0\u001b[0m\u001b[0;34m]\u001b[0m\u001b[0;34m[\u001b[0m\u001b[0;36m0\u001b[0m\u001b[0;34m]\u001b[0m\u001b[0;34m\u001b[0m\u001b[0;34m\u001b[0m\u001b[0m\n\u001b[1;32m      8\u001b[0m \u001b[0;34m\u001b[0m\u001b[0m\n\u001b[0;32m----> 9\u001b[0;31m \u001b[0mprint\u001b[0m\u001b[0;34m(\u001b[0m\u001b[0;34m'cosine(airport, news) ='\u001b[0m\u001b[0;34m,\u001b[0m \u001b[0msimilarity\u001b[0m\u001b[0;34m(\u001b[0m\u001b[0mU\u001b[0m\u001b[0;34m,\u001b[0m \u001b[0;34m'airport'\u001b[0m\u001b[0;34m,\u001b[0m \u001b[0;34m'news'\u001b[0m\u001b[0;34m)\u001b[0m\u001b[0;34m)\u001b[0m\u001b[0;34m\u001b[0m\u001b[0;34m\u001b[0m\u001b[0m\n\u001b[0m\u001b[1;32m     10\u001b[0m \u001b[0mprint\u001b[0m\u001b[0;34m(\u001b[0m\u001b[0;34m'cosine(airport, international) ='\u001b[0m\u001b[0;34m,\u001b[0m \u001b[0msimilarity\u001b[0m\u001b[0;34m(\u001b[0m\u001b[0mU\u001b[0m\u001b[0;34m,\u001b[0m \u001b[0;34m'airport'\u001b[0m\u001b[0;34m,\u001b[0m \u001b[0;34m'international'\u001b[0m\u001b[0;34m)\u001b[0m\u001b[0;34m)\u001b[0m\u001b[0;34m\u001b[0m\u001b[0;34m\u001b[0m\u001b[0m\n\u001b[1;32m     11\u001b[0m \u001b[0mprint\u001b[0m\u001b[0;34m(\u001b[0m\u001b[0;34m'cosine(john, peter) ='\u001b[0m\u001b[0;34m,\u001b[0m \u001b[0msimilarity\u001b[0m\u001b[0;34m(\u001b[0m\u001b[0mU\u001b[0m\u001b[0;34m,\u001b[0m \u001b[0;34m'john'\u001b[0m\u001b[0;34m,\u001b[0m \u001b[0;34m'peter'\u001b[0m\u001b[0;34m)\u001b[0m\u001b[0;34m)\u001b[0m\u001b[0;34m\u001b[0m\u001b[0;34m\u001b[0m\u001b[0m\n",
      "\u001b[0;31mNameError\u001b[0m: name 'U' is not defined"
     ]
    }
   ],
   "source": [
    "from sklearn.metrics.pairwise import cosine_similarity\n",
    "\n",
    "def similarity(embedding, word1, word2):\n",
    "  if word1 in vocab and word2 in vocab:\n",
    "    v1 = embedding[token2int[word1]].reshape(1, -1)  \n",
    "    v2 = embedding[token2int[word2]].reshape(1, -1)\n",
    "    return cosine_similarity(v1, v2)[0][0]\n",
    "\n",
    "print('cosine(airport, news) =', similarity(U, 'airport', 'news'))\n",
    "print('cosine(airport, international) =', similarity(U, 'airport', 'international'))\n",
    "print('cosine(john, peter) =', similarity(U, 'john', 'peter'))"
   ]
  },
  {
   "cell_type": "markdown",
   "metadata": {},
   "source": [
    "**Exercise 8 (PROVIDED):** Define a function which outputs the neighbours of a word"
   ]
  },
  {
   "cell_type": "code",
   "execution_count": 9,
   "metadata": {},
   "outputs": [
    {
     "ename": "NameError",
     "evalue": "name 'U' is not defined",
     "output_type": "error",
     "traceback": [
      "\u001b[0;31m---------------------------------------------------------------------------\u001b[0m",
      "\u001b[0;31mNameError\u001b[0m                                 Traceback (most recent call last)",
      "\u001b[0;32m<ipython-input-9-89f0fa97efac>\u001b[0m in \u001b[0;36m<module>\u001b[0;34m\u001b[0m\n\u001b[1;32m     12\u001b[0m     \u001b[0;32mreturn\u001b[0m \u001b[0mresult\u001b[0m\u001b[0;34m\u001b[0m\u001b[0;34m\u001b[0m\u001b[0m\n\u001b[1;32m     13\u001b[0m \u001b[0;34m\u001b[0m\u001b[0m\n\u001b[0;32m---> 14\u001b[0;31m \u001b[0mprint\u001b[0m\u001b[0;34m(\u001b[0m\u001b[0mmost_similar\u001b[0m\u001b[0;34m(\u001b[0m\u001b[0mU\u001b[0m\u001b[0;34m,\u001b[0m \u001b[0;34m'airport'\u001b[0m\u001b[0;34m)\u001b[0m\u001b[0;34m)\u001b[0m\u001b[0;34m\u001b[0m\u001b[0;34m\u001b[0m\u001b[0m\n\u001b[0m\u001b[1;32m     15\u001b[0m \u001b[0mprint\u001b[0m\u001b[0;34m(\u001b[0m\u001b[0mmost_similar\u001b[0m\u001b[0;34m(\u001b[0m\u001b[0mU\u001b[0m\u001b[0;34m,\u001b[0m \u001b[0;34m'news'\u001b[0m\u001b[0;34m)\u001b[0m\u001b[0;34m)\u001b[0m\u001b[0;34m\u001b[0m\u001b[0;34m\u001b[0m\u001b[0m\n",
      "\u001b[0;31mNameError\u001b[0m: name 'U' is not defined"
     ]
    }
   ],
   "source": [
    "reverse_vocab = {j: i for i, j in token2int.items()}\n",
    "\n",
    "def most_similar(embedding, word, n=10):\n",
    "  if word in vocab:\n",
    "    v = embedding[token2int[word]].reshape(1, -1)\n",
    "    scores = cosine_similarity(v, embedding).reshape(-1)\n",
    "    result = []\n",
    "\n",
    "    # argsort gives n-best scores\n",
    "    for i in reversed(scores.argsort()[-n:]):\n",
    "      result.append((reverse_vocab[i], scores[i]))\n",
    "    return result\n",
    "\n",
    "print(most_similar(U, 'airport'))\n",
    "print(most_similar(U, 'news'))"
   ]
  },
  {
   "cell_type": "markdown",
   "metadata": {},
   "source": [
    "# 2. Creating a word cooccurence matrix using vectorizers\n",
    "\n",
    "In the preceding section, we created the word co-occurence matrix programatically (we wrote the algorithm for deriving the matrix from the corpus). There is in fact a much quicker way to do this which can be summarised as follows:\n",
    "\n",
    "* Use sklearn vectorizer methods (CountVectorizer, TfidfVectorizer) to convert the corpus (a list of documents) to a _**document/token matrix**_\n",
    "* Use algebra to create the token/token matrix.  To create a _**token co-occurence matrix**_ , we simply multiply the transpose of the documents/tokens matrix by the documents/token matrix\n",
    "    * shape of X: (#doc, #tokens)   \n",
    "    * shape of X transpose: (#tokens, #doc)   \n",
    "    * shape of X transpose * X : (#tokens, #doc) * (#doc, #tokens) = (#tokens, #tokens)\n"
   ]
  },
  {
   "cell_type": "markdown",
   "metadata": {},
   "source": [
    "**Exercise 9:** Convert the Wikipedia files into a list of strings and preprocess each string\n",
    "\n",
    "* Convert the Text column of the dataframe created in Exercise 1 into a list of strings\n",
    "* Define a preprocessing function which takes a list of strings as input, tokenizes each string, lowercases the tokens, only keep tokens made of letters (use isalpha() method), convert the list of cleaned tokens back into a string (use \"join\") and stores the result into a lists of preprocessed strings"
   ]
  },
  {
   "cell_type": "code",
   "execution_count": null,
   "metadata": {},
   "outputs": [],
   "source": [
    "strings = df['Text'].tolist()\n",
    "strings = [word_tokenize(string) for string in strings]\n",
    "strings = [[token for token in string if token.isalpha()] for string in strings]\n",
    "strings = [[token.lower() for token in string] for string in strings]\n",
    "strings = [' '.join(string) for string in strings]\n",
    "strings"
   ]
  },
  {
   "cell_type": "markdown",
   "metadata": {},
   "source": [
    "**Exercice 10:** Creating a document / token matrix\n",
    "\n",
    "* Use sklearn [sklearn.feature_extraction.text.CountVectorizer](https://scikit-learn.org/stable/modules/generated/sklearn.feature_extraction.text.CountVectorizer.html) method which transforms a list of documents (strings) into a a document/token matrix where each cell indicates the frequency of a token in a document\n",
    "* Use the stop_words option to remove stop words"
   ]
  },
  {
   "cell_type": "code",
   "execution_count": 20,
   "metadata": {},
   "outputs": [
    {
     "name": "stdout",
     "output_type": "stream",
     "text": [
      "  (0, 399)\t8\n",
      "  (0, 13795)\t8\n",
      "  (0, 13796)\t2\n",
      "  (0, 3784)\t1\n",
      "  (0, 17230)\t1\n",
      "  (0, 17246)\t1\n",
      "  (0, 3076)\t2\n",
      "  (0, 11145)\t1\n",
      "  (0, 10940)\t1\n",
      "  (0, 6969)\t1\n",
      "  (0, 10841)\t1\n",
      "  (0, 10608)\t1\n",
      "  (0, 3309)\t1\n",
      "  (0, 6642)\t1\n",
      "  (0, 398)\t9\n",
      "  (0, 6058)\t1\n",
      "  (0, 8134)\t1\n",
      "  (0, 6579)\t1\n",
      "  (0, 9379)\t3\n",
      "  (0, 15314)\t1\n",
      "  (0, 9443)\t1\n",
      "  (0, 4229)\t1\n",
      "  (0, 9390)\t1\n",
      "  (0, 7742)\t1\n",
      "  (0, 1564)\t2\n",
      "  :\t:\n",
      "  (159, 9487)\t1\n",
      "  (159, 11463)\t1\n",
      "  (159, 17173)\t1\n",
      "  (159, 4285)\t1\n",
      "  (159, 6766)\t1\n",
      "  (159, 10121)\t1\n",
      "  (159, 3136)\t1\n",
      "  (159, 1208)\t1\n",
      "  (159, 7358)\t1\n",
      "  (159, 1647)\t1\n",
      "  (159, 10177)\t1\n",
      "  (159, 11462)\t1\n",
      "  (159, 10614)\t4\n",
      "  (159, 16793)\t1\n",
      "  (159, 9042)\t1\n",
      "  (159, 14779)\t1\n",
      "  (159, 9500)\t1\n",
      "  (159, 8584)\t1\n",
      "  (159, 2368)\t1\n",
      "  (159, 898)\t3\n",
      "  (159, 15471)\t1\n",
      "  (159, 224)\t1\n",
      "  (159, 5341)\t1\n",
      "  (159, 6364)\t1\n",
      "  (159, 10148)\t1\n",
      "[[0 0 0 ... 0 0 0]\n",
      " [0 0 0 ... 0 0 0]\n",
      " [0 0 0 ... 0 0 0]\n",
      " ...\n",
      " [0 0 0 ... 0 0 0]\n",
      " [0 0 0 ... 0 0 0]\n",
      " [0 0 0 ... 0 0 0]]\n"
     ]
    }
   ],
   "source": [
    "from sklearn.feature_extraction.text import CountVectorizer\n",
    "\n",
    "count_model = CountVectorizer(ngram_range=(1,1), stop_words='english') \n",
    "X = count_model.fit_transform(strings)\n",
    "\n",
    "print(X)\n",
    "print(X.todense())"
   ]
  },
  {
   "cell_type": "markdown",
   "metadata": {},
   "source": [
    "**Exercice 11:** Print out the vocabulary i.e., the tokens contained in the document/token matrix"
   ]
  },
  {
   "cell_type": "code",
   "execution_count": null,
   "metadata": {},
   "outputs": [],
   "source": [
    "print(count_model.vocabulary_)"
   ]
  },
  {
   "cell_type": "markdown",
   "metadata": {},
   "source": [
    "**Exercise 12:** Create the co-occurence matrix.\n",
    "\n",
    "To create a token co-occurence matrix, we simply multiply the transpose of the documents/tokens matrix by the documents/token matrix\n",
    "\n",
    "* shape of X: (#doc, #tokens)\n",
    "* shape of X transpose: (#tokens, #doc)\n",
    "* shape of X transpose * X : (#tokens, #doc) * (#doc, #tokens) = (#tokens, #tokens)"
   ]
  },
  {
   "cell_type": "code",
   "execution_count": 24,
   "metadata": {},
   "outputs": [
    {
     "data": {
      "text/plain": [
       "<17304x17304 sparse matrix of type '<class 'numpy.int64'>'\n",
       "\twith 28960976 stored elements in Compressed Sparse Column format>"
      ]
     },
     "execution_count": 24,
     "metadata": {},
     "output_type": "execute_result"
    }
   ],
   "source": [
    "U = X.transpose() * X\n",
    "U"
   ]
  },
  {
   "cell_type": "markdown",
   "metadata": {},
   "source": [
    "**Exercise 13:** Use the function given in Exercise 7 to measure the similarity of airport and news, airport and international, john and peter\n",
    "\n",
    "* You'll need to modify that part of the function which retrieves the identifier of a word"
   ]
  },
  {
   "cell_type": "code",
   "execution_count": 26,
   "metadata": {},
   "outputs": [
    {
     "name": "stdout",
     "output_type": "stream",
     "text": [
      "cosine(airport, news) = 0.3706508364612424\n",
      "cosine(airport, international) = 0.023942692718696652\n",
      "cosine(john, peter) = 0.030502480855017212\n"
     ]
    }
   ],
   "source": [
    "from sklearn.metrics.pairwise import cosine_similarity\n",
    "\n",
    "def similarity(embedding, word1, word2):\n",
    "    v1 = embedding[token2int[word1]].reshape(1, -1)  \n",
    "    v2 = embedding[token2int[word2]].reshape(1, -1)\n",
    "    return cosine_similarity(v1, v2)[0][0]\n",
    "\n",
    "print('cosine(airport, news) =', similarity(U, 'airport', 'news'))\n",
    "print('cosine(airport, international) =', similarity(U, 'airport', 'international'))\n",
    "print('cosine(john, peter) =', similarity(U, 'john', 'peter'))"
   ]
  },
  {
   "cell_type": "code",
   "execution_count": null,
   "metadata": {},
   "outputs": [],
   "source": []
  }
 ],
 "metadata": {
  "kernelspec": {
   "display_name": "Python 3 (ipykernel)",
   "language": "python",
   "name": "python3"
  },
  "language_info": {
   "codemirror_mode": {
    "name": "ipython",
    "version": 3
   },
   "file_extension": ".py",
   "mimetype": "text/x-python",
   "name": "python",
   "nbconvert_exporter": "python",
   "pygments_lexer": "ipython3",
   "version": "3.9.6"
  }
 },
 "nbformat": 4,
 "nbformat_minor": 4
}
