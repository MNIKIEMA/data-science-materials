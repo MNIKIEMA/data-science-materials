{
 "cells": [
  {
   "cell_type": "markdown",
   "metadata": {
    "colab_type": "text",
    "id": "C7N-x97sa7h4"
   },
   "source": [
    "# Exercise Lecture 14: Neural Classification\n",
    "\n",
    "\n",
    "In this set of exercises, we will use a Recurrent Neural Network to classify BBC news articles into 5 topics. The dataset consists of 2225 documents and 5 categories: business, entertainment, politics, sport, and technology. \n",
    "\n",
    "\n",
    "The exercises cover the following points:\n",
    "\n",
    "* Converting the text in the corpus to vectors of integers (each integer represents a word in the corpus vocabulary)\n",
    "* Computing some descriptive statistics to identify a sentence length cutoff (sentences with longer lengths will not be considered for training)\n",
    "* Specifying, training and testing a recurrent neural network "
   ]
  },
  {
   "cell_type": "markdown",
   "metadata": {},
   "source": [
    "# Preprocessing (PROVIDED)\n",
    "\n",
    "We first prepocessed the data to extract X (the input) and Y (the input labels)"
   ]
  },
  {
   "cell_type": "code",
   "execution_count": 2,
   "metadata": {},
   "outputs": [
    {
     "data": {
      "text/html": [
       "<div>\n",
       "<style scoped>\n",
       "    .dataframe tbody tr th:only-of-type {\n",
       "        vertical-align: middle;\n",
       "    }\n",
       "\n",
       "    .dataframe tbody tr th {\n",
       "        vertical-align: top;\n",
       "    }\n",
       "\n",
       "    .dataframe thead th {\n",
       "        text-align: right;\n",
       "    }\n",
       "</style>\n",
       "<table border=\"1\" class=\"dataframe\">\n",
       "  <thead>\n",
       "    <tr style=\"text-align: right;\">\n",
       "      <th></th>\n",
       "      <th>news_report</th>\n",
       "      <th>labels</th>\n",
       "    </tr>\n",
       "  </thead>\n",
       "  <tbody>\n",
       "    <tr>\n",
       "      <th>0</th>\n",
       "      <td>Tate &amp; Lyle boss bags top award\\n\\nTate &amp; Lyle...</td>\n",
       "      <td>0</td>\n",
       "    </tr>\n",
       "    <tr>\n",
       "      <th>1</th>\n",
       "      <td>Halo 2 sells five million copies\\n\\nMicrosoft ...</td>\n",
       "      <td>4</td>\n",
       "    </tr>\n",
       "    <tr>\n",
       "      <th>2</th>\n",
       "      <td>MSPs hear renewed climate warning\\n\\nClimate c...</td>\n",
       "      <td>2</td>\n",
       "    </tr>\n",
       "    <tr>\n",
       "      <th>3</th>\n",
       "      <td>Pavey focuses on indoor success\\n\\nJo Pavey wi...</td>\n",
       "      <td>3</td>\n",
       "    </tr>\n",
       "    <tr>\n",
       "      <th>4</th>\n",
       "      <td>Tories reject rethink on axed MP\\n\\nSacked MP ...</td>\n",
       "      <td>2</td>\n",
       "    </tr>\n",
       "  </tbody>\n",
       "</table>\n",
       "</div>"
      ],
      "text/plain": [
       "                                         news_report  labels\n",
       "0  Tate & Lyle boss bags top award\\n\\nTate & Lyle...       0\n",
       "1  Halo 2 sells five million copies\\n\\nMicrosoft ...       4\n",
       "2  MSPs hear renewed climate warning\\n\\nClimate c...       2\n",
       "3  Pavey focuses on indoor success\\n\\nJo Pavey wi...       3\n",
       "4  Tories reject rethink on axed MP\\n\\nSacked MP ...       2"
      ]
     },
     "execution_count": 2,
     "metadata": {},
     "output_type": "execute_result"
    }
   ],
   "source": [
    "import pandas as pd\n",
    "import numpy as np \n",
    "from sklearn.cluster import MiniBatchKMeans\n",
    "from sklearn.feature_extraction.text import TfidfVectorizer\n",
    "from sklearn.decomposition import PCA\n",
    "import matplotlib.pyplot as plt\n",
    "\n",
    "from sklearn.datasets import load_files\n",
    "\n",
    "# for reproducibility\n",
    "random_state = 0 \n",
    "\n",
    "DATA_DIR = \"bbc/\"\n",
    "data = load_files(DATA_DIR, encoding=\"utf-8\", decode_error=\"replace\", random_state=random_state)\n",
    "\n",
    "\n",
    "df = pd.DataFrame({'news_report': data['data'], 'labels': data['target']})\n",
    "df.head()\n"
   ]
  },
  {
   "cell_type": "markdown",
   "metadata": {
    "colab_type": "text",
    "id": "xchG9cxna7jE"
   },
   "source": [
    "Extracting X (texts) and Y (classes)"
   ]
  },
  {
   "cell_type": "code",
   "execution_count": 3,
   "metadata": {
    "colab": {},
    "colab_type": "code",
    "id": "jjVnCCXNa7jJ"
   },
   "outputs": [
    {
     "name": "stdout",
     "output_type": "stream",
     "text": [
      "Sport betting rules in spotlight\n",
      "\n",
      "A group of MPs and peers has called for a tightening of regulations controlling betting on sport.\n",
      "\n",
      "The Parliamentary Group on Betting and Gaming held a substantial inquiry into betting last year. It followed fears that a massive increase in betting on sport, such as that done using the internet and mobile phones, has led to more cheating. The all-party group recommended 15 ways to protect punters and improve the integrity of sports betting. They include a proposal for raising the maximum jail sentence for gambling cheats above the current two years. Lord Condon, head of the International Cricket Council's anti-corruption unit, who originally made the call for longer prison sentences, said the two-year penalty was \"derisory\". \"You could get a bigger sentence for failing to pay your hotel bill criminally than you could for corruption in major sports. \"Symbolically, a higher penalty, perhaps as the Bill passes through the two Houses, might be appropriate.\"\n",
      "\n",
      "The report recommended the governing bodies of sports have a say in the type of bets offered to punters, and for bookmakers to set up \"audit trails\" - something the new betting exchanges already do - to allow suspicious betting patterns to be traced.\n",
      "\n",
      "Lord Faulkner of Worcester, who chaired the inquiry, said: \"Whilst we accept that the greater part of sports betting is neither corrupt nor unfair to punters, the evidence convinces us that the growth of betting exchanges - because of the facility they provide to bet against a result - has increased the potential for corruption. \"It is important that the government works with sporting administrators to review the difficulties faced by governing bodies in convicting the guilty and penalising them appropriately.\" The panel's aim was to try to define what constitutes cheating, assess how much might be going on and suggest what the government might do to put it right. As well as the growth of internet and mobile phone betting, there has been the creation of betting exchanges which allow punters to fix odds between themselves. Betting exchanges allow punters to back (to win) but also lay (to lose) a horse. This means they can control their odds at winning by placing their money both ways.\n",
      "\n",
      "2\n"
     ]
    }
   ],
   "source": [
    "texts = df[\"news_report\"]\n",
    "labels = df[\"labels\"]\n",
    "\n",
    "print(texts[12])\n",
    "print(labels[12])"
   ]
  },
  {
   "cell_type": "markdown",
   "metadata": {},
   "source": [
    "# Converting the texts in the corpus to vectors of integers "
   ]
  },
  {
   "cell_type": "markdown",
   "metadata": {
    "colab_type": "text",
    "id": "uYbQI1mka7kl"
   },
   "source": [
    "#### Exercise 1 -  Convert the corpus to a list of lists of integers\n",
    "\n",
    "* Define a dictionary tokens2int which maps each distinct token in the corpus to a distinct integer \n",
    "( the size of this dictionary is the size of the corpus vocabulary i.e., the number of distinct tokens in the corpus, cf. Python CS)\n",
    "* Use this dictionary to map each news report to a vector.\n",
    "\n",
    "\n",
    "**Example**\n",
    "* Input Texts: [\"The woman put the book on the table\",\"The woman reads\"]\n",
    "* Created vocabulary: {the, woman, put, book, on, table, reads}\n",
    "* Output Texts: [ [1,2,3,1,4,5,1,6], [1,2,7]]\n",
    "\n"
   ]
  },
  {
   "cell_type": "code",
   "execution_count": 19,
   "metadata": {},
   "outputs": [
    {
     "name": "stdout",
     "output_type": "stream",
     "text": [
      "[[0, 1, 2, 3, 4, 5, 6, 0, 1, 2, 7, 8, 9, 10, 11, 12, 13, 14, 15, 16, 17, 18, 19, 20, 21, 22, 23, 24, 25, 26, 27, 16, 28, 18, 29, 30, 31, 32, 33, 34, 15, 16, 35, 7, 36, 37, 38, 39, 40, 16, 41, 7, 5, 42, 43, 23, 16, 44, 45, 46, 11, 47, 48, 16, 49, 42, 32, 50, 51, 52, 53, 25, 54, 55, 56, 40, 57, 23, 0, 7, 58, 59, 60, 61, 62, 63, 17, 64, 65, 18, 66, 44, 67, 68, 69, 15, 70, 71, 72, 23, 36, 73, 51, 15, 19, 74, 75, 76, 68, 19, 77, 78, 48, 16, 49, 42, 64, 34, 15, 79, 7, 37, 39, 10, 80, 40, 16, 81, 82, 64, 38, 31, 83, 23, 53, 25, 84, 16, 85, 86, 16, 87, 88, 89, 64, 73, 90, 91, 15, 92, 93, 86, 94, 95, 96, 97, 23, 0, 1, 2, 64, 98, 26, 99, 100, 101, 15, 16, 102, 103, 82, 88, 104, 64, 105, 106, 107, 108, 109, 68, 110, 106, 111, 112, 113, 88, 114, 115, 23, 116, 117, 15, 16, 31, 6, 118, 119, 120, 15, 121, 8, 9, 122, 123, 68, 124, 125, 3, 126, 127, 23], [128, 129, 130, 131, 132, 133, 134, 135, 136, 137, 69, 15, 70, 138, 139, 140, 64, 128, 129, 23, 16, 141, 10, 142, 106, 107, 131, 132, 133, 143, 144, 55, 145, 146, 147, 88, 148, 64, 16, 87, 83, 23, 128, 129, 10, 149, 150, 151, 64, 152, 153, 154, 155, 19, 156, 114, 132, 157, 158, 16, 141, 146, 138, 159, 23, 160, 40, 134, 64, 161, 162, 15, 163, 138, 159, 164, 59, 165, 16, 141, 32, 99, 166, 15, 167, 168, 169, 170, 23, 16, 171, 40, 16, 172, 173, 32, 174, 175, 176, 10, 177, 178, 15, 16, 179, 40, 180, 16, 5, 181, 88, 16, 182, 35, 183, 184, 23, 16, 185, 141, 186, 155, 34, 187, 40, 188, 189, 64, 190, 191, 175, 192, 193, 194, 40, 195, 189, 23, 128, 129, 196, 34, 189, 40, 131, 64, 197, 198, 129, 199, 40, 200, 161, 23, 201, 202, 7, 203, 204, 64, 205, 175, 206, 207, 68, 208, 64, 209, 210, 40, 211, 55, 212, 16, 5, 163, 64, 213, 86, 200, 214, 68, 215, 216, 23, 156, 217, 15, 218, 219, 220, 221, 88, 16, 183, 151, 222, 23, 146, 16, 223, 224, 15, 16, 222, 15, 218, 225, 226, 151, 141, 106, 107, 227, 228, 229, 155, 40, 230, 23, 146, 16, 231, 15, 16, 188, 224, 106, 107, 232, 228, 233, 88, 16, 222, 64, 234, 235, 40, 236, 237, 238, 239, 40, 240, 152, 16, 241, 23, 16, 151, 141, 242, 16, 243, 244, 218, 183, 212, 19, 245, 222, 246, 228, 247, 248, 249, 250, 251, 252, 7, 153, 253, 254, 255, 52, 256, 40, 257, 258, 259, 247, 260, 261, 262, 146, 263, 7, 264, 265, 64, 263, 266, 64, 267, 268, 23, 269, 270, 64, 263, 35, 271, 272, 64, 273, 19, 274, 275, 40, 276, 162, 32, 277, 88, 16, 203, 17, 23, 70, 29, 278, 26, 146, 279, 68, 55, 280, 146, 147, 88, 281, 146, 129, 282, 23, 263, 10, 19, 283, 62, 284, 15, 16, 264, 285, 286, 68, 83, 55, 287, 40, 288, 289, 131, 132, 15, 16, 266, 18, 290, 291, 23], [292, 257, 293, 294, 295, 294, 296, 253, 254, 297, 162, 15, 298, 299, 300, 301, 64, 16, 302, 303, 304, 305, 135, 295, 19, 306, 15, 292, 23, 307, 220, 308, 309, 146, 16, 310, 40, 16, 302, 311, 7, 303, 306, 23, 312, 313, 314, 315, 68, 316, 317, 318, 254, 319, 320, 107, 321, 40, 322, 323, 324, 23, 325, 326, 18, 327, 118, 328, 329, 35, 330, 331, 68, 332, 333, 334, 23, 16, 309, 135, 335, 15, 16, 306, 7, 336, 212, 16, 337, 15, 294, 296, 88, 121, 23, 338, 135, 339, 40, 340, 323, 324, 341, 64, 342, 343, 48, 344, 345, 346, 23, 347, 220, 295, 292, 246, 121, 318, 59, 40, 348, 36, 349, 350, 38, 48, 316, 317, 23, 55, 135, 351, 352, 246, 314, 353, 354, 254, 355, 32, 356, 300, 301, 23, 338, 357, 246, 16, 358, 359, 354, 360, 342, 315, 361, 52, 294, 296, 135, 362, 298, 23, 307, 363, 16, 364, 365, 121, 7, 366, 367, 59, 368, 369, 106, 370, 371, 15, 16, 372, 98, 373, 374, 375, 16, 41, 201, 376, 23, 259, 377, 246, 378, 379, 354, 380, 106, 381, 23, 382, 48, 16, 383, 15, 16, 384, 68, 385, 68, 386, 59, 11, 387, 86, 388, 389, 88, 16, 390, 391, 16, 201, 161, 51, 23, 16, 392, 26, 393, 394, 18, 16, 395, 396, 397, 88, 398, 64, 98, 135, 335, 15, 16, 383, 15, 16, 384, 68, 385, 399, 400, 401, 402, 397, 403, 64, 68, 16, 386, 404, 405, 23, 406, 407, 162, 19, 408, 15, 409, 64, 410, 16, 411, 15, 412, 40, 413, 388, 389, 88, 16, 364, 289, 16, 366, 367, 68, 16, 414, 23], [415, 416, 146, 417, 418, 419, 415, 354, 420, 256, 7, 421, 48, 422, 423, 424, 425, 41, 40, 426, 146, 427, 32, 16, 13, 417, 428, 88, 290, 23, 16, 429, 26, 430, 431, 432, 433, 68, 434, 435, 88, 201, 202, 7, 13, 425, 41, 428, 436, 437, 438, 40, 439, 146, 16, 440, 23, 36, 55, 26, 422, 441, 442, 436, 443, 444, 445, 15, 446, 68, 447, 448, 146, 16, 417, 449, 64, 38, 437, 83, 23, 36, 450, 15, 116, 446, 443, 451, 452, 453, 454, 155, 455, 88, 456, 23, 38, 415, 64, 457, 458, 459, 88, 16, 460, 86, 16, 461, 462, 64, 54, 16, 463, 425, 41, 464, 465, 16, 464, 466, 467, 88, 468, 201, 202, 23, 437, 135, 351, 40, 469, 470, 471, 449, 152, 19, 439, 88, 472, 473, 474, 475, 86, 16, 476, 15, 256, 23], [477, 478, 479, 146, 480, 481, 482, 481, 483, 484, 7, 485, 486, 487, 10, 488, 489, 354, 249, 254, 70, 490, 86, 16, 271, 491, 23, 492, 493, 64, 207, 32, 494, 68, 495, 496, 477, 64, 83, 53, 484, 26, 497, 40, 254, 19, 490, 68, 16, 487, 26, 498, 19, 499, 23, 16, 500, 501, 502, 53, 484, 7, 503, 504, 259, 46, 505, 506, 40, 507, 19, 508, 40, 509, 92, 510, 23, 53, 484, 511, 88, 512, 391, 513, 146, 514, 515, 68, 90, 516, 23, 489, 517, 342, 514, 518, 519, 73, 520, 521, 16, 477, 522, 523, 90, 524, 525, 436, 489, 526, 40, 527, 342, 99, 481, 23, 514, 528, 267, 489, 247, 249, 243, 342, 19, 486, 490, 450, 489, 135, 529, 530, 99, 531, 490, 23, 53, 493, 532, 246, 421, 146, 533, 64, 504, 175, 36, 483, 484, 135, 497, 40, 243, 342, 19, 486, 534, 490, 23, 36, 16, 487, 135, 88, 16, 535, 15, 536, 19, 203, 490, 23, 38, 436, 16, 485, 514, 519, 537, 538, 539, 146, 540, 68, 541, 542, 23, 358, 485, 543, 457, 544, 53, 484, 545, 53, 493, 68, 16, 485, 487, 7, 519, 88, 494, 146, 533, 546, 436, 547, 249, 548, 342, 259, 549, 16, 508, 23, 53, 484, 267, 489, 354, 249, 243, 194, 342, 19, 490, 550, 92, 485, 534, 551, 552, 40, 451, 553, 86, 99, 554, 271, 508, 399, 555, 401, 23, 16, 481, 64, 457, 135, 556, 92, 557, 64, 273, 558, 500, 175, 36, 259, 559, 560, 68, 259, 64, 561, 562, 563, 64, 564, 15, 560, 474, 565, 560, 23, 38, 53, 484, 7, 566, 352, 567, 259, 59, 16, 568, 569, 355, 40, 570, 16, 555, 23, 86, 19, 500, 275, 64, 53, 483, 488, 489, 46, 165, 18, 16, 534, 7, 571, 23, 16, 514, 572, 64, 457, 573, 489, 135, 574, 575, 64, 83, 175, 36, 576, 451, 249, 567, 34, 577, 88, 578, 68, 237, 577, 88, 579, 23, 38, 580, 491, 581, 582, 583, 584, 83, 16, 477, 233, 88, 36, 585, 38, 450, 53, 484, 46, 586, 261, 587, 516, 23, 16, 539, 233, 249, 19, 36, 588, 38, 64, 489, 83, 64, 589, 53, 483, 68, 590, 591, 477, 233, 592, 593, 40, 594, 579, 90, 23, 595, 596, 519, 597, 598, 83, 175, 36, 599, 443, 600, 152, 483, 484, 7, 601, 64, 55, 602, 554, 40, 603, 604, 32, 605, 16, 606, 23, 38, 55, 10, 352, 607, 53, 483, 10, 608, 609, 7, 610, 486, 487, 32, 611, 40, 612, 70, 490, 23, 613, 614, 26, 615, 73, 521, 16, 616, 15, 16, 617, 618, 64, 362, 619, 620, 7, 621, 64, 26, 99, 622, 15, 623, 23, 16, 624, 625, 352, 626, 627, 489, 628, 629, 16, 630, 15, 631, 88, 16, 13, 632, 23, 53, 614, 26, 633, 40, 634, 16, 635, 73, 16, 116, 490, 64, 636, 637, 64, 26, 482, 32, 638, 639, 152, 19, 640, 15, 641, 68, 19, 642, 643, 23, 609, 486, 487, 10, 644, 11, 645, 146, 36, 506, 646, 38, 68, 135, 638, 454, 48, 486, 581, 528, 64, 267, 19, 591, 534, 647, 23, 53, 614, 146, 533, 83, 489, 26, 648, 649, 650, 651, 652, 92, 653, 23, 489, 83, 16, 485, 534, 46, 654, 655, 15, 16, 656, 657, 146, 16, 558, 500, 658, 146, 659, 231, 23, 36, 660, 220, 661, 86, 662, 663, 457, 220, 664, 563, 665, 666, 68, 667, 661, 457, 220, 668, 164, 220, 638, 669, 152, 670, 64, 38, 489, 83, 23, 16, 534, 267, 55, 547, 671, 40, 672, 16, 485, 486, 519, 23]]\n"
     ]
    }
   ],
   "source": [
    "import collections\n",
    "import nltk\n",
    "\n",
    "token2int = collections.defaultdict(lambda: len(token2int)) \n",
    "\n",
    "all_token_ids = []\n",
    "\n",
    "for text in texts:\n",
    "    tokens = nltk.word_tokenize(text)\n",
    "    token_ids = []\n",
    "    \n",
    "    for token in tokens:\n",
    "        token_ids.append(token2int[token.lower()])\n",
    "        \n",
    "    all_token_ids.append(token_ids)\n",
    "\n",
    "# Compréhension de liste\n",
    "token2int = collections.defaultdict(lambda: len(token2int)) \n",
    "all_token_ids = [[token2int[token.lower()] for token in nltk.word_tokenize(text)] for text in texts]\n",
    "\n",
    "print(all_token_ids[:5])"
   ]
  },
  {
   "cell_type": "markdown",
   "metadata": {
    "colab_type": "text",
    "id": "ZHT_bKtua7lJ"
   },
   "source": [
    "#### Exercise 2 - Define the reverse int2token mapping and check the token2int and the int2token mappings on an example\n",
    "\n",
    "* Check that the words have been correctly converted to integer by applying the reverse integer to token mapping\n",
    "* Print out the vocabulary size\n",
    "* Print out the maximum text length\n"
   ]
  },
  {
   "cell_type": "code",
   "execution_count": null,
   "metadata": {},
   "outputs": [],
   "source": [
    "int2token = {} # Dictionnaire vide\n",
    "\n",
    "for key, value in token2int.items():\n",
    "    int2token[value] = key\n",
    "\n"
   ]
  },
  {
   "cell_type": "code",
   "execution_count": 16,
   "metadata": {},
   "outputs": [
    {
     "name": "stdout",
     "output_type": "stream",
     "text": [
      "745\n"
     ]
    }
   ],
   "source": [
    "print(token2int['good'])"
   ]
  },
  {
   "cell_type": "code",
   "execution_count": 17,
   "metadata": {},
   "outputs": [
    {
     "name": "stdout",
     "output_type": "stream",
     "text": [
      "good\n"
     ]
    }
   ],
   "source": [
    "print(int2token[745])"
   ]
  },
  {
   "cell_type": "code",
   "execution_count": 20,
   "metadata": {},
   "outputs": [
    {
     "name": "stdout",
     "output_type": "stream",
     "text": [
      "34594\n"
     ]
    }
   ],
   "source": [
    "print(len(token2int))"
   ]
  },
  {
   "cell_type": "code",
   "execution_count": 22,
   "metadata": {},
   "outputs": [
    {
     "name": "stdout",
     "output_type": "stream",
     "text": [
      "4969\n"
     ]
    }
   ],
   "source": [
    "text_lengths = []\n",
    "for text in all_token_ids:\n",
    "    text_lengths.append(len(text))\n",
    "\n",
    "print(max(text_lengths))"
   ]
  },
  {
   "cell_type": "markdown",
   "metadata": {},
   "source": [
    "#### Exercise 3 - Compute some statistics to determine which sentences to keep\n",
    "\n",
    "The maximum sentence size is very large (4432 tokens). Presumably most reports are not that long. Use pandas describe() method and matplotlib to get a better idea of the data distribution in terms of report length.\n",
    "\n",
    "* Compute the list of report lengths (list of nb of tokens for each report in the BBC news corpus)\n",
    "* Compute the box plots for report lengths\n",
    "* Use pandas desribe() method to get the descripte statistics (min, max, means, etc.)"
   ]
  },
  {
   "cell_type": "code",
   "execution_count": 25,
   "metadata": {},
   "outputs": [
    {
     "data": {
      "text/html": [
       "<div>\n",
       "<style scoped>\n",
       "    .dataframe tbody tr th:only-of-type {\n",
       "        vertical-align: middle;\n",
       "    }\n",
       "\n",
       "    .dataframe tbody tr th {\n",
       "        vertical-align: top;\n",
       "    }\n",
       "\n",
       "    .dataframe thead th {\n",
       "        text-align: right;\n",
       "    }\n",
       "</style>\n",
       "<table border=\"1\" class=\"dataframe\">\n",
       "  <thead>\n",
       "    <tr style=\"text-align: right;\">\n",
       "      <th></th>\n",
       "      <th>0</th>\n",
       "    </tr>\n",
       "  </thead>\n",
       "  <tbody>\n",
       "    <tr>\n",
       "      <th>count</th>\n",
       "      <td>2225.000000</td>\n",
       "    </tr>\n",
       "    <tr>\n",
       "      <th>mean</th>\n",
       "      <td>438.204045</td>\n",
       "    </tr>\n",
       "    <tr>\n",
       "      <th>std</th>\n",
       "      <td>269.705388</td>\n",
       "    </tr>\n",
       "    <tr>\n",
       "      <th>min</th>\n",
       "      <td>98.000000</td>\n",
       "    </tr>\n",
       "    <tr>\n",
       "      <th>25%</th>\n",
       "      <td>280.000000</td>\n",
       "    </tr>\n",
       "    <tr>\n",
       "      <th>50%</th>\n",
       "      <td>380.000000</td>\n",
       "    </tr>\n",
       "    <tr>\n",
       "      <th>75%</th>\n",
       "      <td>538.000000</td>\n",
       "    </tr>\n",
       "    <tr>\n",
       "      <th>max</th>\n",
       "      <td>4969.000000</td>\n",
       "    </tr>\n",
       "  </tbody>\n",
       "</table>\n",
       "</div>"
      ],
      "text/plain": [
       "                 0\n",
       "count  2225.000000\n",
       "mean    438.204045\n",
       "std     269.705388\n",
       "min      98.000000\n",
       "25%     280.000000\n",
       "50%     380.000000\n",
       "75%     538.000000\n",
       "max    4969.000000"
      ]
     },
     "execution_count": 25,
     "metadata": {},
     "output_type": "execute_result"
    },
    {
     "data": {
      "image/png": "[encoded data removed]",
      "text/plain": [
       "<Figure size 432x288 with 1 Axes>"
      ]
     },
     "metadata": {
      "needs_background": "light"
     },
     "output_type": "display_data"
    }
   ],
   "source": [
    "import pandas as pd\n",
    "\n",
    "df = pd.DataFrame(text_lengths)\n",
    "df.boxplot()\n",
    "df.describe()"
   ]
  },
  {
   "cell_type": "markdown",
   "metadata": {
    "colab_type": "text",
    "id": "pxs8QE1Ha7ld"
   },
   "source": [
    "# 2  Classifying with a Recurrent Neural Network\n",
    "\n",
    "We import some pytorch submodules\n",
    "\n",
    "* torch: functions to create tensors and operations on tensors \n",
    "* torch.nn: to specify neural networks\n",
    "* torch.nn.functional for when we want to define a custom layer for example with a convolution operation layer.\n",
    "* torch.optim: optimizers for training \n",
    "\n",
    "We also need to specify some constants which ensure that the code can run on CPU. The `max_len` constant is important as text whose size exceeds (in number of tokens) that limit will be discarded. We set it to 471. "
   ]
  },
  {
   "cell_type": "code",
   "execution_count": null,
   "metadata": {},
   "outputs": [],
   "source": [
    "!pip install torch torchvision"
   ]
  },
  {
   "cell_type": "code",
   "execution_count": 26,
   "metadata": {
    "colab": {},
    "colab_type": "code",
    "id": "SU-ibO_-a7ll"
   },
   "outputs": [],
   "source": [
    "import torch\n",
    "import torch.nn as nn\n",
    "import torch.nn.functional as F\n",
    "import torch.optim as optim"
   ]
  },
  {
   "cell_type": "markdown",
   "metadata": {
    "colab_type": "text",
    "id": "5C9UoOQka7l7"
   },
   "source": [
    "#### Exercise 4 - Creating tensors\n",
    "\n",
    "To help speed up computation, all data must be converted to tensors. \n",
    "\n",
    "* Set the maximum size of text to the 3rd quartile (471)\n",
    "* Create a tensor of size  (number of texts, maximum size of a text) for X. Call this tensor X. Longer texts will be cut down to maximal size and shorter texts will be padded with `<eos>`. Use torch.zeros method and make sure to specify the components will be of type integer (long attribute in torch)\n",
    "* Populate this matrix with the integer version of the BBC news report (cf. Exercise 1). Use the torch.LongTensor method. When populating the matrix cut down sentence whose length is above the max length to max length\n",
    "* Create another tensor of size (numbers of text) and populate it with the list of labels. Call this tensor Y.\n",
    "* Print out the shape of X and Y . X should be of size (2225, 471) and Y of size (2225,) \n",
    "\n",
    "N.B. In practice, it is not necessary to have all the data in a single tensor. In fact, this is inefficient if the texts have varied length. The only constraint is that for a given batch, all sequences have the same size. "
   ]
  },
  {
   "cell_type": "code",
   "execution_count": 32,
   "metadata": {},
   "outputs": [
    {
     "name": "stdout",
     "output_type": "stream",
     "text": [
      "tensor([[    0,     1,     2,  ...,    -1,    -1,    -1],\n",
      "        [  128,   129,   130,  ...,    -1,    -1,    -1],\n",
      "        [  292,   257,   293,  ...,    -1,    -1,    -1],\n",
      "        ...,\n",
      "        [ 7018,     7,    56,  ...,    -1,    -1,    -1],\n",
      "        [ 5580, 15218,   823,  ...,  3105,  1970,   107],\n",
      "        [23822,   678,    40,  ...,    -1,    -1,    -1]])\n",
      "tensor([0, 4, 2,  ..., 1, 1, 3])\n",
      "torch.Size([2225, 538])\n",
      "torch.Size([2225])\n"
     ]
    }
   ],
   "source": [
    "max_len = 538\n",
    "X = torch.zeros(len(texts), max_len, dtype=torch.long)\n",
    "\n",
    "for i, text in enumerate(all_token_ids):\n",
    "    if len(text) > max_len:\n",
    "        text = text[:max_len]\n",
    "    elif len(text) < max_len:\n",
    "        text.extend([-1]*(max_len - len(text)))\n",
    "    tensor = torch.LongTensor(text)\n",
    "    X[i] = tensor\n",
    "\n",
    "print(X)\n",
    "\n",
    "Y = torch.LongTensor(labels)\n",
    "\n",
    "print(Y)\n",
    "\n",
    "print(X.size())\n",
    "print(Y.size())"
   ]
  },
  {
   "cell_type": "markdown",
   "metadata": {
    "colab_type": "text",
    "id": "eakhMa5Sa7mL"
   },
   "source": [
    "#### Exercise 5 - Create train and test data\n",
    "\n",
    "* Split X into two parts, one called X_train which consists of the first 1112 items and the other called X_valid which includes the rest of the data\n",
    "* Do the same for Y"
   ]
  },
  {
   "cell_type": "code",
   "execution_count": 34,
   "metadata": {},
   "outputs": [],
   "source": [
    "X_train = X[:1112]\n",
    "X_valid = X[1112:]\n",
    "Y_train = Y[:1112]\n",
    "Y_valid = Y[1112:]"
   ]
  },
  {
   "cell_type": "markdown",
   "metadata": {
    "colab_type": "text",
    "id": "LZkXMuF0a7mj"
   },
   "source": [
    "#### Create batches (PROVIDED)\n",
    "\n",
    "pytorch provides a batch generator which shuffles the data. We apply it to train and validation data"
   ]
  },
  {
   "cell_type": "code",
   "execution_count": 36,
   "metadata": {
    "colab": {},
    "colab_type": "code",
    "id": "veYFlstja7mm"
   },
   "outputs": [],
   "source": [
    "batch_size = 32\n",
    "\n",
    "from torch.utils.data import TensorDataset, DataLoader\n",
    "# the TensorDataset is a ready to use class to represent your data as list of tensors. \n",
    "# Note that input_features and labels must match on the length of the first dimension\n",
    "train_set = TensorDataset(X_train, Y_train)\n",
    "valid_set = TensorDataset(X_valid, Y_valid)\n",
    "\n",
    "# DataLoader shuffles and batches the data and load its in parallel using multiprocessing workers\n",
    "\n",
    "train_loader = DataLoader(train_set, batch_size=batch_size, shuffle=True)\n",
    "valid_loader = DataLoader(valid_set, batch_size=batch_size)"
   ]
  },
  {
   "cell_type": "markdown",
   "metadata": {
    "colab_type": "text",
    "id": "Cwh1VKE1a7n1"
   },
   "source": [
    "#### Exercise 6 - Define your neural network\n",
    "\n",
    "We define a network by specifying a subclass of the appropriate pytorch modules. For instance here, as we want to create an RNN we create a subclass of pytorch RNN module. The specification of the network falls into 2 parts. \n",
    "\n",
    "In the init part, the layers of the network are defined and  their type and shape are specified.  \n",
    "\n",
    "In the forward part, we connect the layers and specify input and output for each layer. \n",
    " \n",
    "* The hidden state returned by the GRU layer is of size (num_layers * num_directions, batch_size, hidden_size) \n",
    "* The input to the decision layer should be of size (batch_size, hidden_size).   \n",
    "\n",
    "Hence the first 2 dimensions of hidden must be transposed and the tensor redimensioned to (batch_size, hidden_size).\n",
    "\n",
    "* drop : (num_layers * num_directions, batch_size, hidden_size)\n",
    "* drop.transpose(0,1): (batch_size, num_layers * num_directions,  hidden_size)\n",
    "* x.size(0) = batch_size\n",
    "* drop.transpose(0,1).contiguous.view(x.size(0), -1): (batchsize, hiddensize)\n",
    "\n",
    "**TODO:** fill in the missing variables (marked by ???)"
   ]
  },
  {
   "cell_type": "code",
   "execution_count": null,
   "metadata": {
    "colab": {},
    "colab_type": "code",
    "id": "VyV6gWoOa7n7"
   },
   "outputs": [],
   "source": [
    "class RNN(nn.Module):\n",
    "  \n",
    "        \n",
    "    def __init__(self):\n",
    "        super().__init__()\n",
    "        \n",
    "        # Here we define the network layers\n",
    "        \n",
    "        # An embedding layer projecting vectors of size vocab_size into embeddings of size embed_size\n",
    "        # Assigns to each word in the vocabulary an embedding of size embed_size\n",
    "        self.embed = nn.Embedding(???, embed_size)\n",
    "        \n",
    "        # A recurrent (GRU) layer to process each input token (represented by its embedding)\n",
    "        # The GRU network takes as input the embedding (of size embed_size) of the current word \n",
    "        # and the previous hidden state (of size hidden_size)\n",
    "        self.rnn = nn.GRU(embed_size, hidden_size, num_layers=1, bidirectional=False, batch_first=True)\n",
    "        \n",
    "        # Drop out layer for regularisation\n",
    "        self.dropout = nn.Dropout(0.3)\n",
    "        \n",
    "        # Fully connected layer mapping \n",
    "        # the last layer maps a hidden state to a vector of size the number of classes\n",
    "        self.decision = nn.Linear(hidden_size, ???)\n",
    "         \n",
    "    def forward(self, x):\n",
    "        # Here we say how the layers are connected \n",
    "       \n",
    "        #  for each token in the input, retrieve the corresponding embeddings \n",
    "        \n",
    "        # x = [batch size, input size]\n",
    "        embed = self.embed(x)\n",
    "        # embed = [batch size, sent len, emb dim]       \n",
    "       \n",
    "        # Run the RNN on the input embeddings\n",
    "        # output is the sequence of hidden states produced by the RNN\n",
    "        # hidden is the last hidden state produced\n",
    "        output, hidden = self.rnn(???)\n",
    "        \n",
    "        # output = [sent len, batch size, hidden size]\n",
    "        # hidden = [num_layers * num_directions, batch size, hidden_size ]\n",
    "        \n",
    "        # Apply dropout (for regularisation)\n",
    "        drop = self.dropout(hidden)\n",
    "        \n",
    "        # drop = [num_layers * num_directions, batch size, hidden_size]   \n",
    "        \n",
    "        # Apply the fully connected layer to the output of the dropout\n",
    "        # Expected input size: [batch_size, input_size]\n",
    "        # We transpose [num_layers * num_directions, batch size, hidden_size ]\n",
    "        # to: [batch size, num_layers * num_directions, hidden_size ]\n",
    "        # And apply view to create an input of the form [batch size, input_size ]\n",
    "        # (x.size(0) = batch size)\n",
    "        return self.decision(drop.transpose(0, 1).view(x.size(0), -1))\n",
    "    \n",
    "rnn_model = RNN()\n",
    "rnn_model.to(device)"
   ]
  },
  {
   "cell_type": "markdown",
   "metadata": {
    "colab_type": "text",
    "id": "E3276ujaa7nF"
   },
   "source": [
    "#### Exercise 7  - Evaluating \n",
    "\n",
    "We define an evaluation fonction (called \"perf\") which computes the average loss on the test/validation dataset and the proportion of correct cases. \n",
    "\n",
    "* We use pytorch nn.CrossEntropyLoss() as loss function.\n",
    "* For each batch returned by the loader, we calculate the scores produced by the model for each class, the loss, the predictions and the loss.\n",
    "* To block dropout (which should only be used at training time), we use the eval() method. \n",
    "* \"with torch.no_grad()\" temporarily set all the requires_grad flag to false. In practice, this enforces that gradients are not computed (and therefore the weights of the model remain unchanged). \n",
    "\n",
    "**TODO:** Modify the function so that it outputs the proportion of correct predictions in addition to the loss\n"
   ]
  },
  {
   "cell_type": "code",
   "execution_count": 1,
   "metadata": {
    "colab": {},
    "colab_type": "code",
    "id": "WW8p4Pnga7nH"
   },
   "outputs": [],
   "source": [
    "def perf(model, loader):\n",
    "    # define the loss\n",
    "    criterion = nn.CrossEntropyLoss()\n",
    "    # No drop out\n",
    "    model.eval()\n",
    "    total_loss = correct = num = 0\n",
    "    for x, y in loader:\n",
    "    # No gradient computation, weights remain unchanged\n",
    "      with torch.no_grad():\n",
    "        # Compute the scores for the instances in the input batch\n",
    "        y_scores = model(x)\n",
    "        # Compute the loss\n",
    "        loss = criterion(y_scores, y)\n",
    "        # Compute the predictions\n",
    "        y_pred = torch.max(y_scores, 1)[1]\n",
    "        # Update the batch loss\n",
    "        total_loss += loss.item()\n",
    "        num += len(y)\n",
    "    return total_loss / num"
   ]
  },
  {
   "cell_type": "markdown",
   "metadata": {},
   "source": [
    "#### Exercise 8  - Training Loop\n",
    "\n",
    "Define a function fit(model, epochs) which you will use to train your model\n",
    "\n",
    "* use the CrossEntropyLoss and the Adam optimizer\n",
    "* iterates over the epochs and for each epoch:\n",
    "   - Set the module in training mode (use the train() method). Drop out will apply and gradients will be computed. \n",
    "   - Initialise the total loss to 0\n",
    "   - Iterate over each batches returned by train_loader    \n",
    "     For each batch:   \n",
    "        - set the gradients to null (optimizer.zero_grad())\n",
    "        - predicts the batch scores\n",
    "        - calculate the loss\n",
    "        - back propagate\n",
    "        - optimize (adjust the weights)\n",
    "        - update the total loss\n",
    "   - print out the average loss on the training data and on the validation data as well as the proportion of correct cases on the validation data (use the perf function defined in the preceding exercise).\n",
    "   \n",
    "**Hint:** Some of these steps are defined in the preceding exercise."
   ]
  },
  {
   "cell_type": "markdown",
   "metadata": {
    "colab_type": "text",
    "id": "9nlDoZhxa7oo"
   },
   "source": [
    "#### Exercise 9 - Training\n",
    "\n",
    "Use the fit function you just defined to train your model. \n",
    "* The loss function on the train and validation set should decrease\n",
    "* The accuracy on the validation set should improve"
   ]
  },
  {
   "cell_type": "markdown",
   "metadata": {},
   "source": [
    "### CNN Model\n",
    "\n",
    "Here below is a CNN model definition. Run it on the data and compare the speed and results with that of the RNN."
   ]
  },
  {
   "cell_type": "code",
   "execution_count": null,
   "metadata": {},
   "outputs": [],
   "source": [
    "import torch.nn.functional as F\n",
    "class CNN(nn.Module):\n",
    "    def __init__(self):\n",
    "        super().__init__()\n",
    "        self.embed = nn.Embedding(len(vocab), embed_size)\n",
    "        self.conv = nn.Conv1d(embed_size, hidden_size, kernel_size=2)\n",
    "        self.dropout = nn.Dropout(.3)\n",
    "        self.decision = nn.Linear(hidden_size, len(set(labels)))\n",
    "\n",
    "    def forward(self, x):\n",
    "        embed = self.embed(x)\n",
    "        conv = F.relu(self.conv(embed.transpose(1,2)))\n",
    "        pool = F.max_pool1d(conv, conv.size(2))\n",
    "        drop = self.dropout(pool)\n",
    "        return self.decision(drop.view(x.size(0), -1))\n",
    "\n",
    "cnn_model = CNN()\n",
    "cnn_model.to(device)"
   ]
  }
 ],
 "metadata": {
  "colab": {
   "name": "04_text-classification.ipynb",
   "provenance": []
  },
  "kernelspec": {
   "display_name": "Python 3 (ipykernel)",
   "language": "python",
   "name": "python3"
  },
  "language_info": {
   "codemirror_mode": {
    "name": "ipython",
    "version": 3
   },
   "file_extension": ".py",
   "mimetype": "text/x-python",
   "name": "python",
   "nbconvert_exporter": "python",
   "pygments_lexer": "ipython3",
   "version": "3.9.6"
  }
 },
 "nbformat": 4,
 "nbformat_minor": 4
}
