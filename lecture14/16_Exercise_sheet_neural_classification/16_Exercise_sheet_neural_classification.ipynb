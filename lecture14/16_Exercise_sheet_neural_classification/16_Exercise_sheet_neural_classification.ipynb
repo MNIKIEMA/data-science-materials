{
 "cells": [
  {
   "cell_type": "markdown",
   "metadata": {
    "colab_type": "text",
    "id": "C7N-x97sa7h4"
   },
   "source": [
    "# Exercise Lecture 14: Neural Classification\n",
    "\n",
    "\n",
    "In this set of exercises, we will use a Recurrent Neural Network to classify BBC news articles into 5 topics. The dataset consists of 2225 documents and 5 categories: business, entertainment, politics, sport, and technology. \n",
    "\n",
    "\n",
    "The exercises cover the following points:\n",
    "\n",
    "* Converting the text in the corpus to vectors of integers (each integer represents a word in the corpus vocabulary)\n",
    "* Computing some descriptive statistics to identify a sentence length cutoff (sentences with longer lengths will not be considered for training)\n",
    "* Specifying, training and testing a recurrent neural network "
   ]
  },
  {
   "cell_type": "markdown",
   "metadata": {},
   "source": [
    "# Preprocessing (PROVIDED)\n",
    "\n",
    "We first prepocessed the data to extract X (the input) and Y (the input labels)"
   ]
  },
  {
   "cell_type": "code",
   "execution_count": 3,
   "metadata": {},
   "outputs": [
    {
     "data": {
      "text/html": [
       "<div>\n",
       "<style scoped>\n",
       "    .dataframe tbody tr th:only-of-type {\n",
       "        vertical-align: middle;\n",
       "    }\n",
       "\n",
       "    .dataframe tbody tr th {\n",
       "        vertical-align: top;\n",
       "    }\n",
       "\n",
       "    .dataframe thead th {\n",
       "        text-align: right;\n",
       "    }\n",
       "</style>\n",
       "<table border=\"1\" class=\"dataframe\">\n",
       "  <thead>\n",
       "    <tr style=\"text-align: right;\">\n",
       "      <th></th>\n",
       "      <th>news_report</th>\n",
       "      <th>labels</th>\n",
       "    </tr>\n",
       "  </thead>\n",
       "  <tbody>\n",
       "    <tr>\n",
       "      <th>0</th>\n",
       "      <td>Tate &amp; Lyle boss bags top award\\n\\nTate &amp; Lyle...</td>\n",
       "      <td>0</td>\n",
       "    </tr>\n",
       "    <tr>\n",
       "      <th>1</th>\n",
       "      <td>Halo 2 sells five million copies\\n\\nMicrosoft ...</td>\n",
       "      <td>4</td>\n",
       "    </tr>\n",
       "    <tr>\n",
       "      <th>2</th>\n",
       "      <td>MSPs hear renewed climate warning\\n\\nClimate c...</td>\n",
       "      <td>2</td>\n",
       "    </tr>\n",
       "    <tr>\n",
       "      <th>3</th>\n",
       "      <td>Pavey focuses on indoor success\\n\\nJo Pavey wi...</td>\n",
       "      <td>3</td>\n",
       "    </tr>\n",
       "    <tr>\n",
       "      <th>4</th>\n",
       "      <td>Tories reject rethink on axed MP\\n\\nSacked MP ...</td>\n",
       "      <td>2</td>\n",
       "    </tr>\n",
       "  </tbody>\n",
       "</table>\n",
       "</div>"
      ],
      "text/plain": [
       "                                         news_report  labels\n",
       "0  Tate & Lyle boss bags top award\\n\\nTate & Lyle...       0\n",
       "1  Halo 2 sells five million copies\\n\\nMicrosoft ...       4\n",
       "2  MSPs hear renewed climate warning\\n\\nClimate c...       2\n",
       "3  Pavey focuses on indoor success\\n\\nJo Pavey wi...       3\n",
       "4  Tories reject rethink on axed MP\\n\\nSacked MP ...       2"
      ]
     },
     "execution_count": 3,
     "metadata": {},
     "output_type": "execute_result"
    }
   ],
   "source": [
    "import pandas as pd\n",
    "import numpy as np \n",
    "from sklearn.cluster import MiniBatchKMeans\n",
    "from sklearn.feature_extraction.text import TfidfVectorizer\n",
    "from sklearn.decomposition import PCA\n",
    "import matplotlib.pyplot as plt\n",
    "\n",
    "from sklearn.datasets import load_files\n",
    "\n",
    "# for reproducibility\n",
    "random_state = 0 \n",
    "\n",
    "DATA_DIR = \"bbc\"\n",
    "data = load_files(DATA_DIR, encoding=\"utf-8\", decode_error=\"replace\", random_state=random_state)\n",
    "\n",
    "\n",
    "df = pd.DataFrame({'news_report': data['data'], 'labels': data['target']})\n",
    "df.head()"
   ]
  },
  {
   "cell_type": "markdown",
   "metadata": {
    "colab_type": "text",
    "id": "xchG9cxna7jE"
   },
   "source": [
    "Extracting X (texts) and Y (classes)"
   ]
  },
  {
   "cell_type": "code",
   "execution_count": 1,
   "metadata": {},
   "outputs": [
    {
     "name": "stdout",
     "output_type": "stream",
     "text": [
      "C:\\experiments\\cours nlp\\data science\\lecture14\n"
     ]
    }
   ],
   "source": [
    "cd .."
   ]
  },
  {
   "cell_type": "code",
   "execution_count": 4,
   "metadata": {
    "colab": {},
    "colab_type": "code",
    "id": "jjVnCCXNa7jJ"
   },
   "outputs": [
    {
     "name": "stdout",
     "output_type": "stream",
     "text": [
      "sport betting rules in spotlight\n",
      "\n",
      "a group of mps and peers has called for a tightening of regulations controlling betting on sport.\n",
      "\n",
      "the parliamentary group on betting and gaming held a substantial inquiry into betting last year. it followed fears that a massive increase in betting on sport, such as that done using the internet and mobile phones, has led to more cheating. the all-party group recommended 15 ways to protect punters and improve the integrity of sports betting. they include a proposal for raising the maximum jail sentence for gambling cheats above the current two years. lord condon, head of the international cricket council's anti-corruption unit, who originally made the call for longer prison sentences, said the two-year penalty was \"derisory\". \"you could get a bigger sentence for failing to pay your hotel bill criminally than you could for corruption in major sports. \"symbolically, a higher penalty, perhaps as the bill passes through the two houses, might be appropriate.\"\n",
      "\n",
      "the report recommended the governing bodies of sports have a say in the type of bets offered to punters, and for bookmakers to set up \"audit trails\" - something the new betting exchanges already do - to allow suspicious betting patterns to be traced.\n",
      "\n",
      "lord faulkner of worcester, who chaired the inquiry, said: \"whilst we accept that the greater part of sports betting is neither corrupt nor unfair to punters, the evidence convinces us that the growth of betting exchanges - because of the facility they provide to bet against a result - has increased the potential for corruption. \"it is important that the government works with sporting administrators to review the difficulties faced by governing bodies in convicting the guilty and penalising them appropriately.\" the panel's aim was to try to define what constitutes cheating, assess how much might be going on and suggest what the government might do to put it right. as well as the growth of internet and mobile phone betting, there has been the creation of betting exchanges which allow punters to fix odds between themselves. betting exchanges allow punters to back (to win) but also lay (to lose) a horse. this means they can control their odds at winning by placing their money both ways.\n",
      "\n",
      "2\n"
     ]
    }
   ],
   "source": [
    "texts = df[\"news_report\"].str.lower()\n",
    "labels = df[\"labels\"]\n",
    "\n",
    "print(texts[12])\n",
    "print(labels[12])"
   ]
  },
  {
   "cell_type": "markdown",
   "metadata": {},
   "source": [
    "# Converting the texts in the corpus to vectors of integers "
   ]
  },
  {
   "cell_type": "markdown",
   "metadata": {
    "colab_type": "text",
    "id": "uYbQI1mka7kl"
   },
   "source": [
    "#### Exercise 1 -  Convert the corpus to a list of lists of integers\n",
    "\n",
    "* Define a dictionary tokens2int which maps each distinct token in the corpus to a distinct integer \n",
    "( the size of this dictionary is the size of the corpus vocabulary i.e., the number of distinct tokens in the corpus, cf. Python CS)\n",
    "* Use this dictionary to map each news report to a vector.\n",
    "\n",
    "\n",
    "**Example**\n",
    "* Input Texts: [\"The woman put the book on the table\",\"The woman reads\"]\n",
    "* Created vocabulary: {the, woman, put, book, on, table, reads}\n",
    "* Output Texts: [ [1,2,3,1,4,5,1,6], [1,2,7]]\n",
    "\n"
   ]
  },
  {
   "cell_type": "code",
   "execution_count": 5,
   "metadata": {},
   "outputs": [],
   "source": [
    "from collections import defaultdict\n",
    "import nltk\n",
    "from nltk.tokenize import word_tokenize\n",
    "all_vocab = []\n",
    "token2int = defaultdict(lambda: len(token2int)) #can we use enumerate to do that? \n",
    "token2int['<eos>'] = 0\n",
    "for text in texts:\n",
    "    tokens = word_tokenize(text)\n",
    "    token_ids = []\n",
    "    \n",
    "    for token in tokens:\n",
    "        token_ids.append(token2int[token.lower()])\n",
    "        \n",
    "    all_vocab.append(token_ids)\n",
    "\n",
    "# Compréhension de liste\n",
    "token2int = defaultdict(lambda: len(token2int)) \n",
    "all_vocab = [[token2int[token.lower()] for token in nltk.word_tokenize(text)] for text in texts]"
   ]
  },
  {
   "cell_type": "code",
   "execution_count": 22,
   "metadata": {},
   "outputs": [],
   "source": [
    "int_text = []\n",
    "for l in texts:\n",
    "    tmp_list = []\n",
    "    for i in l.split():\n",
    "        tmp_list.append(token2int[i])\n",
    "    int_text.append(tmp_list)"
   ]
  },
  {
   "cell_type": "code",
   "execution_count": null,
   "metadata": {},
   "outputs": [],
   "source": [
    "all_vocab"
   ]
  },
  {
   "cell_type": "code",
   "execution_count": null,
   "metadata": {},
   "outputs": [],
   "source": []
  },
  {
   "cell_type": "code",
   "execution_count": null,
   "metadata": {},
   "outputs": [],
   "source": []
  },
  {
   "cell_type": "code",
   "execution_count": null,
   "metadata": {},
   "outputs": [],
   "source": []
  },
  {
   "cell_type": "markdown",
   "metadata": {
    "colab_type": "text",
    "id": "ZHT_bKtua7lJ"
   },
   "source": [
    "#### Exercise 2 - Define the reverse int2token mapping and check the token2int and the int2token mappings on an example\n",
    "\n",
    "* Check that the words have been correctly converted to integer by applying the reverse integer to token mapping\n",
    "* Print out the vocabulary size\n",
    "* Print out the maximum text length\n"
   ]
  },
  {
   "cell_type": "code",
   "execution_count": 7,
   "metadata": {},
   "outputs": [],
   "source": [
    "int2token = {v: k for k, v in token2int.items()}"
   ]
  },
  {
   "cell_type": "code",
   "execution_count": 10,
   "metadata": {},
   "outputs": [
    {
     "name": "stdout",
     "output_type": "stream",
     "text": [
      "4432\n"
     ]
    }
   ],
   "source": [
    "print(max([len(l) for l in int_text]))"
   ]
  },
  {
   "cell_type": "code",
   "execution_count": null,
   "metadata": {},
   "outputs": [],
   "source": []
  },
  {
   "cell_type": "markdown",
   "metadata": {},
   "source": [
    "#### Exercise 3 - Compute some statistics to determine which sentences to keep\n",
    "\n",
    "The maximum sentence size is very large (4432 tokens). Presumably most reports are not that long. Use pandas describe() method and matplotlib to get a better idea of the data distribution in terms of report length.\n",
    "\n",
    "* Compute the list of report lengths (list of nb of tokens for each report in the BBC news corpus)\n",
    "* Compute the box plots for report lengths\n",
    "* Use pandas desribe() method to get the descripte statistics (min, max, means, etc.)"
   ]
  },
  {
   "cell_type": "code",
   "execution_count": 8,
   "metadata": {},
   "outputs": [],
   "source": [
    "df['nb_token'] = df['news_report'].apply(lambda x : len(x.split()))"
   ]
  },
  {
   "cell_type": "code",
   "execution_count": 9,
   "metadata": {},
   "outputs": [
    {
     "data": {
      "image/png": "[encoded data removed]",
      "text/plain": [
       "<Figure size 432x432 with 1 Axes>"
      ]
     },
     "metadata": {
      "needs_background": "light"
     },
     "output_type": "display_data"
    }
   ],
   "source": [
    "import seaborn as sns\n",
    "plt.figure(figsize=(6, 6))\n",
    "sns.set_theme()\n",
    "sns.boxplot(x = \"labels\", y = \"nb_token\", data = df);"
   ]
  },
  {
   "cell_type": "code",
   "execution_count": 10,
   "metadata": {},
   "outputs": [
    {
     "data": {
      "text/plain": [
       "count    2225.000000\n",
       "mean      384.040449\n",
       "std       238.174497\n",
       "min        89.000000\n",
       "25%       246.000000\n",
       "50%       332.000000\n",
       "75%       471.000000\n",
       "max      4432.000000\n",
       "Name: nb_token, dtype: float64"
      ]
     },
     "execution_count": 10,
     "metadata": {},
     "output_type": "execute_result"
    }
   ],
   "source": [
    "df['nb_token'].describe()"
   ]
  },
  {
   "cell_type": "markdown",
   "metadata": {
    "colab_type": "text",
    "id": "pxs8QE1Ha7ld"
   },
   "source": [
    "# 2  Classifying with a Recurrent Neural Network\n",
    "\n",
    "We import some pytorch submodules\n",
    "\n",
    "* torch: functions to create tensors and operations on tensors \n",
    "* torch.nn: to specify neural networks\n",
    "* torch.nn.functional for when we want to define a custom layer for example with a convolution operation layer.\n",
    "* torch.optim: optimizers for training \n",
    "\n",
    "We also need to specify some constants which ensure that the code can run on CPU. The `max_len` constant is important as text whose size exceeds (in number of tokens) that limit will be discarded. We set it to 471. "
   ]
  },
  {
   "cell_type": "code",
   "execution_count": 11,
   "metadata": {},
   "outputs": [],
   "source": [
    "# conda install pytorch-cpu torchvision-cpu -c pytorch"
   ]
  },
  {
   "cell_type": "code",
   "execution_count": 12,
   "metadata": {
    "colab": {},
    "colab_type": "code",
    "id": "SU-ibO_-a7ll"
   },
   "outputs": [],
   "source": [
    "import torch\n",
    "import torch.nn as nn\n",
    "import torch.nn.functional as F\n",
    "import torch.optim as optim"
   ]
  },
  {
   "cell_type": "markdown",
   "metadata": {
    "colab_type": "text",
    "id": "5C9UoOQka7l7"
   },
   "source": [
    "#### Exercise 4 - Creating tensors\n",
    "\n",
    "To help speed up computation, all data must be converted to tensors. \n",
    "\n",
    "* Set the maximum size of text to the 3rd quartile (471)\n",
    "* Create a tensor of size  (number of texts, maximum size of a text) for X. Call this tensor X. Longer texts will be cut down to maximal size and shorter texts will be padded with `<eos>`. Use torch.zeros method and make sure to specify the components will be of type integer (long attribute in torch)\n",
    "* Populate this matrix with the integer version of the BBC news report (cf. Exercise 1). Use the torch.LongTensor method. When populating the matrix cut down sentence whose length is above the max length to max length\n",
    "* Create another tensor of size (numbers of text) and populate it with the list of labels. Call this tensor Y.\n",
    "* Print out the shape of X and Y . X should be of size (2225, 471) and Y of size (2225,) \n",
    "\n",
    "N.B. In practice, it is not necessary to have all the data in a single tensor. In fact, this is inefficient if the texts have varied length. The only constraint is that for a given batch, all sequences have the same size. "
   ]
  },
  {
   "cell_type": "code",
   "execution_count": 13,
   "metadata": {},
   "outputs": [],
   "source": [
    "max_size = 471\n",
    "pad_text = []\n",
    "for l in all_vocab:\n",
    "    if len(l)>= max_size:\n",
    "        pad_text.append(l[:max_size+1])\n",
    "    else:\n",
    "        pad_text.append(l[:len(l)+1] + (max_size - len(l))*[0])"
   ]
  },
  {
   "cell_type": "code",
   "execution_count": null,
   "metadata": {},
   "outputs": [],
   "source": []
  },
  {
   "cell_type": "code",
   "execution_count": 20,
   "metadata": {},
   "outputs": [
    {
     "data": {
      "text/plain": [
       "471"
      ]
     },
     "execution_count": 20,
     "metadata": {},
     "output_type": "execute_result"
    }
   ],
   "source": []
  },
  {
   "cell_type": "code",
   "execution_count": 38,
   "metadata": {},
   "outputs": [
    {
     "data": {
      "text/plain": [
       "471"
      ]
     },
     "execution_count": 38,
     "metadata": {},
     "output_type": "execute_result"
    }
   ],
   "source": []
  },
  {
   "cell_type": "markdown",
   "metadata": {
    "colab_type": "text",
    "id": "eakhMa5Sa7mL"
   },
   "source": [
    "#### Exercise 5 - Create train and test data\n",
    "\n",
    "* Split X into two parts, one called X_train which consists of the first 1112 items and the other called X_valid which includes the rest of the data\n",
    "* Do the same for Y"
   ]
  },
  {
   "cell_type": "markdown",
   "metadata": {
    "colab_type": "text",
    "id": "LZkXMuF0a7mj"
   },
   "source": [
    "#### Create batches (PROVIDED)\n",
    "\n",
    "pytorch provides a batch generator which shuffles the data. We apply it to train and validation data"
   ]
  },
  {
   "cell_type": "code",
   "execution_count": null,
   "metadata": {
    "colab": {},
    "colab_type": "code",
    "id": "veYFlstja7mm"
   },
   "outputs": [],
   "source": [
    "from torch.utils.data import TensorDataset, DataLoader\n",
    "# the TensorDataset is a ready to use class to represent your data as list of tensors. \n",
    "# Note that input_features and labels must match on the length of the first dimension\n",
    "train_set = TensorDataset(X_train, Y_train)\n",
    "valid_set = TensorDataset(X_valid, Y_valid)\n",
    "\n",
    "# DataLoader shuffles and batches the data and load its in parallel using multiprocessing workers\n",
    "\n",
    "train_loader = DataLoader(train_set, batch_size=batch_size, shuffle=True)\n",
    "valid_loader = DataLoader(valid_set, batch_size=batch_size)"
   ]
  },
  {
   "cell_type": "markdown",
   "metadata": {
    "colab_type": "text",
    "id": "Cwh1VKE1a7n1"
   },
   "source": [
    "#### Exercise 6 - Define your neural network\n",
    "\n",
    "We define a network by specifying a subclass of the appropriate pytorch modules. For instance here, as we want to create an RNN we create a subclass of pytorch RNN module. The specification of the network falls into 2 parts. \n",
    "\n",
    "In the init part, the layers of the network are defined and  their type and shape are specified.  \n",
    "\n",
    "In the forward part, we connect the layers and specify input and output for each layer. \n",
    " \n",
    "* The hidden state returned by the GRU layer is of size (num_layers * num_directions, batch_size, hidden_size) \n",
    "* The input to the decision layer should be of size (batch_size, hidden_size).   \n",
    "\n",
    "Hence the first 2 dimensions of hidden must be transposed and the tensor redimensioned to (batch_size, hidden_size).\n",
    "\n",
    "* drop : (num_layers * num_directions, batch_size, hidden_size)\n",
    "* drop.transpose(0,1): (batch_size, num_layers * num_directions,  hidden_size)\n",
    "* x.size(0) = batch_size\n",
    "* drop.transpose(0,1).contiguous.view(x.size(0), -1): (batchsize, hiddensize)\n",
    "\n",
    "**TODO:** fill in the missing variables (marked by ???)"
   ]
  },
  {
   "cell_type": "code",
   "execution_count": null,
   "metadata": {
    "colab": {},
    "colab_type": "code",
    "id": "VyV6gWoOa7n7"
   },
   "outputs": [],
   "source": [
    "class RNN(nn.Module):\n",
    "  \n",
    "        \n",
    "    def __init__(self):\n",
    "        super().__init__()\n",
    "        \n",
    "        # Here we define the network layers\n",
    "        \n",
    "        # An embedding layer projecting vectors of size vocab_size into embeddings of size embed_size\n",
    "        # Assigns to each word in the vocabulary an embedding of size embed_size\n",
    "        self.embed = nn.Embedding(???, embed_size)\n",
    "        \n",
    "        # A recurrent (GRU) layer to process each input token (represented by its embedding)\n",
    "        # The GRU network takes as input the embedding (of size embed_size) of the current word \n",
    "        # and the previous hidden state (of size hidden_size)\n",
    "        self.rnn = nn.GRU(embed_size, hidden_size, num_layers=1, bidirectional=False, batch_first=True)\n",
    "        \n",
    "        # Drop out layer for regularisation\n",
    "        self.dropout = nn.Dropout(0.3)\n",
    "        \n",
    "        # Fully connected layer mapping \n",
    "        # the last layer maps a hidden state to a vector of size the number of classes\n",
    "        self.decision = nn.Linear(hidden_size, ???)\n",
    "         \n",
    "    def forward(self, x):\n",
    "        # Here we say how the layers are connected \n",
    "       \n",
    "        #  for each token in the input, retrieve the corresponding embeddings \n",
    "        \n",
    "        # x = [batch size, input size]\n",
    "        embed = self.embed(x)\n",
    "        # embed = [batch size, sent len, emb dim]       \n",
    "       \n",
    "        # Run the RNN on the input embeddings\n",
    "        # output is the sequence of hidden states produced by the RNN\n",
    "        # hidden is the last hidden state produced\n",
    "        output, hidden = self.rnn(???)\n",
    "        \n",
    "        # output = [sent len, batch size, hidden size]\n",
    "        # hidden = [num_layers * num_directions, batch size, hidden_size ]\n",
    "        \n",
    "        # Apply dropout (for regularisation)\n",
    "        drop = self.dropout(hidden)\n",
    "        \n",
    "        # drop = [num_layers * num_directions, batch size, hidden_size]   \n",
    "        \n",
    "        # Apply the fully connected layer to the output of the dropout\n",
    "        # Expected input size: [batch_size, input_size]\n",
    "        # We transpose [num_layers * num_directions, batch size, hidden_size ]\n",
    "        # to: [batch size, num_layers * num_directions, hidden_size ]\n",
    "        # And apply view to create an input of the form [batch size, input_size ]\n",
    "        # (x.size(0) = batch size)\n",
    "        return self.decision(drop.transpose(0, 1).view(x.size(0), -1))\n",
    "    \n",
    "rnn_model = RNN()\n",
    "rnn_model.to(device)"
   ]
  },
  {
   "cell_type": "markdown",
   "metadata": {
    "colab_type": "text",
    "id": "E3276ujaa7nF"
   },
   "source": [
    "#### Exercise 7  - Evaluating \n",
    "\n",
    "We define an evaluation fonction (called \"perf\") which computes the average loss on the test/validation dataset and the proportion of correct cases. \n",
    "\n",
    "* We use pytorch nn.CrossEntropyLoss() as loss function.\n",
    "* For each batch returned by the loader, we calculate the scores produced by the model for each class, the loss, the predictions and the loss.\n",
    "* To block dropout (which should only be used at training time), we use the eval() method. \n",
    "* \"with torch.no_grad()\" temporarily set all the requires_grad flag to false. In practice, this enforces that gradients are not computed (and therefore the weights of the model remain unchanged). \n",
    "\n",
    "**TODO:** Modify the function so that it outputs the proportion of correct predictions in addition to the loss\n"
   ]
  },
  {
   "cell_type": "code",
   "execution_count": 1,
   "metadata": {
    "colab": {},
    "colab_type": "code",
    "id": "WW8p4Pnga7nH"
   },
   "outputs": [],
   "source": [
    "def perf(model, loader):\n",
    "    # define the loss\n",
    "    criterion = nn.CrossEntropyLoss()\n",
    "    # No drop out\n",
    "    model.eval()\n",
    "    total_loss = correct = num = 0\n",
    "    for x, y in loader:\n",
    "    # No gradient computation, weights remain unchanged\n",
    "      with torch.no_grad():\n",
    "        # Compute the scores for the instances in the input batch\n",
    "        y_scores = model(x)\n",
    "        # Compute the loss\n",
    "        loss = criterion(y_scores, y)\n",
    "        # Compute the predictions\n",
    "        y_pred = torch.max(y_scores, 1)[1]\n",
    "        # Update the batch loss\n",
    "        total_loss += loss.item()\n",
    "        num += len(y)\n",
    "    return total_loss / num"
   ]
  },
  {
   "cell_type": "markdown",
   "metadata": {},
   "source": [
    "#### Exercise 8  - Training Loop\n",
    "\n",
    "Define a function fit(model, epochs) which you will use to train your model\n",
    "\n",
    "* use the CrossEntropyLoss and the Adam optimizer\n",
    "* iterates over the epochs and for each epoch:\n",
    "   - Set the module in training mode (use the train() method). Drop out will apply and gradients will be computed. \n",
    "   - Initialise the total loss to 0\n",
    "   - Iterate over each batches returned by train_loader    \n",
    "     For each batch:   \n",
    "        - set the gradients to null (optimizer.zero_grad())\n",
    "        - predicts the batch scores\n",
    "        - calculate the loss\n",
    "        - back propagate\n",
    "        - optimize (adjust the weights)\n",
    "        - update the total loss\n",
    "   - print out the average loss on the training data and on the validation data as well as the proportion of correct cases on the validation data (use the perf function defined in the preceding exercise).\n",
    "   \n",
    "**Hint:** Some of these steps are defined in the preceding exercise."
   ]
  },
  {
   "cell_type": "markdown",
   "metadata": {
    "colab_type": "text",
    "id": "9nlDoZhxa7oo"
   },
   "source": [
    "#### Exercise 9 - Training\n",
    "\n",
    "Use the fit function you just defined to train your model. \n",
    "* The loss function on the train and validation set should decrease\n",
    "* The accuracy on the validation set should improve"
   ]
  },
  {
   "cell_type": "markdown",
   "metadata": {},
   "source": [
    "### CNN Model\n",
    "\n",
    "Here below is a CNN model definition. Run it on the data and compare the speed and results with that of the RNN."
   ]
  },
  {
   "cell_type": "code",
   "execution_count": null,
   "metadata": {},
   "outputs": [],
   "source": [
    "import torch.nn.functional as F\n",
    "class CNN(nn.Module):\n",
    "    def __init__(self):\n",
    "        super().__init__()\n",
    "        self.embed = nn.Embedding(len(vocab), embed_size)\n",
    "        self.conv = nn.Conv1d(embed_size, hidden_size, kernel_size=2)\n",
    "        self.dropout = nn.Dropout(.3)\n",
    "        self.decision = nn.Linear(hidden_size, len(set(labels)))\n",
    "\n",
    "    def forward(self, x):\n",
    "        embed = self.embed(x)\n",
    "        conv = F.relu(self.conv(embed.transpose(1,2)))\n",
    "        pool = F.max_pool1d(conv, conv.size(2))\n",
    "        drop = self.dropout(pool)\n",
    "        return self.decision(drop.view(x.size(0), -1))\n",
    "\n",
    "cnn_model = CNN()\n",
    "cnn_model.to(device)"
   ]
  }
 ],
 "metadata": {
  "colab": {
   "name": "04_text-classification.ipynb",
   "provenance": []
  },
  "kernelspec": {
   "display_name": "Python 3 (ipykernel)",
   "language": "python",
   "name": "python3"
  },
  "language_info": {
   "codemirror_mode": {
    "name": "ipython",
    "version": 3
   },
   "file_extension": ".py",
   "mimetype": "text/x-python",
   "name": "python",
   "nbconvert_exporter": "python",
   "pygments_lexer": "ipython3",
   "version": "3.9.6"
  }
 },
 "nbformat": 4,
 "nbformat_minor": 4
}
