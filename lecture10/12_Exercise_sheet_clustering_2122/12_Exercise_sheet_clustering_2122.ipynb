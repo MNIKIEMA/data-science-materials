{
 "cells": [
  {
   "cell_type": "markdown",
   "metadata": {},
   "source": [
    "# Exercises  \"Lecture 10: Clustering\"\n",
    "\n",
    "In this set of exercises, we will use clustering to group the wikipedia articles into 16 clusters. Since we are working on clustering (unsupervised machine learning),  we will ignore the labels (the category of the article) when training. We will use them however to evaluate the trained model (intrinsic evaluation).\n",
    "\n",
    "\n",
    "The exercises cover the following points:\n",
    "\n",
    "* Storing the data into an pandas dataframe and inspecting the data\n",
    "* Learning a clustering model from the data \n",
    "* Inspecting the output clusters\n",
    "\n",
    "Data: wkp_sorted.zip      \n",
    "\n",
    "Python libraries\n",
    "- sklearn.datasets to load data \n",
    "- pandas\n",
    "- numpy unique method to remove duplicate   \n",
    "\n",
    "Cheat sheets\n",
    "- clustering_cheat_sheet.ipynb\n"
   ]
  },
  {
   "cell_type": "markdown",
   "metadata": {},
   "source": [
    "##  Loading the Data into a Dataframe"
   ]
  },
  {
   "cell_type": "markdown",
   "metadata": {},
   "source": [
    "**Exercise 1** \n",
    "\n",
    "* Create a pandas dataframe containing two columns one for the text and one for the category of each Wikipedia article included in  \"data/wkp_sorted/\". \n",
    "* Use sklearn.datasets load_files method (cf. clustering CS) "
   ]
  },
  {
   "cell_type": "code",
   "execution_count": 92,
   "metadata": {},
   "outputs": [],
   "source": [
    "import pandas as pd\n",
    "import numpy as np\n",
    "import os\n",
    "import re\n",
    "from sklearn.metrics import homogeneity_completeness_v_measure, silhouette_score\n",
    "from sklearn.cluster import KMeans\n",
    "import nltk"
   ]
  },
  {
   "cell_type": "code",
   "execution_count": 2,
   "metadata": {},
   "outputs": [],
   "source": [
    "os.chdir('/experiments/cours nlp/data science/lecture10/wkp_sorted')"
   ]
  },
  {
   "cell_type": "code",
   "execution_count": 3,
   "metadata": {},
   "outputs": [],
   "source": [
    "data_folder = os.listdir()\n",
    "wiki_data = []\n",
    "for d in data_folder:\n",
    "    path = os.listdir(os.path.join(os.getcwd(), d))\n",
    "    for text_data in path:\n",
    "        with open(os.path.join(os.getcwd(),d,text_data),\"r\",encoding=\"utf-8\") as f:\n",
    "            data = f.readlines()\n",
    "            wiki_data.append([[d], data])"
   ]
  },
  {
   "cell_type": "code",
   "execution_count": 4,
   "metadata": {},
   "outputs": [],
   "source": [
    "#wiki_data"
   ]
  },
  {
   "cell_type": "code",
   "execution_count": 5,
   "metadata": {},
   "outputs": [],
   "source": [
    "df = pd.DataFrame(wiki_data, columns=['category','content'])\n",
    "df['category'] = df['category'].apply(lambda x : ''.join(x))\n",
    "df['content'] = df['content'].apply(lambda x : ''.join(x))"
   ]
  },
  {
   "cell_type": "code",
   "execution_count": 6,
   "metadata": {},
   "outputs": [
    {
     "data": {
      "text/html": [
       "<div>\n",
       "<style scoped>\n",
       "    .dataframe tbody tr th:only-of-type {\n",
       "        vertical-align: middle;\n",
       "    }\n",
       "\n",
       "    .dataframe tbody tr th {\n",
       "        vertical-align: top;\n",
       "    }\n",
       "\n",
       "    .dataframe thead th {\n",
       "        text-align: right;\n",
       "    }\n",
       "</style>\n",
       "<table border=\"1\" class=\"dataframe\">\n",
       "  <thead>\n",
       "    <tr style=\"text-align: right;\">\n",
       "      <th></th>\n",
       "      <th>category</th>\n",
       "      <th>content</th>\n",
       "    </tr>\n",
       "  </thead>\n",
       "  <tbody>\n",
       "    <tr>\n",
       "      <th>0</th>\n",
       "      <td>Airports</td>\n",
       "      <td>Airports of Serbia (Serbian Cyrillic: Аеродром...</td>\n",
       "    </tr>\n",
       "    <tr>\n",
       "      <th>1</th>\n",
       "      <td>Airports</td>\n",
       "      <td>An airport authority is an independent entity ...</td>\n",
       "    </tr>\n",
       "    <tr>\n",
       "      <th>2</th>\n",
       "      <td>Airports</td>\n",
       "      <td>An airport bus, or airport shuttle bus or airp...</td>\n",
       "    </tr>\n",
       "    <tr>\n",
       "      <th>3</th>\n",
       "      <td>Airports</td>\n",
       "      <td>Airport check-in is the process whereby passen...</td>\n",
       "    </tr>\n",
       "    <tr>\n",
       "      <th>4</th>\n",
       "      <td>Airports</td>\n",
       "      <td>Airport security refers to the techniques and ...</td>\n",
       "    </tr>\n",
       "  </tbody>\n",
       "</table>\n",
       "</div>"
      ],
      "text/plain": [
       "   category                                            content\n",
       "0  Airports  Airports of Serbia (Serbian Cyrillic: Аеродром...\n",
       "1  Airports  An airport authority is an independent entity ...\n",
       "2  Airports  An airport bus, or airport shuttle bus or airp...\n",
       "3  Airports  Airport check-in is the process whereby passen...\n",
       "4  Airports  Airport security refers to the techniques and ..."
      ]
     },
     "execution_count": 6,
     "metadata": {},
     "output_type": "execute_result"
    }
   ],
   "source": [
    "df.head()"
   ]
  },
  {
   "cell_type": "markdown",
   "metadata": {},
   "source": [
    "**Exercise 2**  \n",
    "\n",
    "* Add a new column to your dataframe with header \"Headers\" in which you include the headers extracted from the texts\n",
    "* Use the code you developed in Exercise 3 of 10_Exercise_sheet_stats.ipynb"
   ]
  },
  {
   "cell_type": "code",
   "execution_count": 23,
   "metadata": {},
   "outputs": [],
   "source": [
    "def header_extraction(string):\n",
    "    results = str(re.findall(r'== \\w+ ==',string))\n",
    "    results = re.sub(r'(== | ==)', '', results)\n",
    "    return results"
   ]
  },
  {
   "cell_type": "code",
   "execution_count": 24,
   "metadata": {},
   "outputs": [],
   "source": [
    "df['Headers'] = df['content'].apply(header_extraction)"
   ]
  },
  {
   "cell_type": "code",
   "execution_count": 25,
   "metadata": {},
   "outputs": [
    {
     "data": {
      "text/plain": [
       "str"
      ]
     },
     "execution_count": 25,
     "metadata": {},
     "output_type": "execute_result"
    }
   ],
   "source": [
    "type(df['Headers'][0])"
   ]
  },
  {
   "cell_type": "code",
   "execution_count": 19,
   "metadata": {},
   "outputs": [
    {
     "data": {
      "text/plain": [
       "['', \"'Airports', 'References']\"]"
      ]
     },
     "execution_count": 19,
     "metadata": {},
     "output_type": "execute_result"
    }
   ],
   "source": []
  },
  {
   "cell_type": "markdown",
   "metadata": {},
   "source": [
    "**Exercise 3** \n",
    "\n",
    "* How many articles are there ? Use the dataframe shape attribute which outputs the shape (nb of rows and columns) of a dataframe."
   ]
  },
  {
   "cell_type": "code",
   "execution_count": 38,
   "metadata": {},
   "outputs": [
    {
     "data": {
      "text/plain": [
       "(160, 2)"
      ]
     },
     "execution_count": 38,
     "metadata": {},
     "output_type": "execute_result"
    }
   ],
   "source": [
    "df.shape"
   ]
  },
  {
   "cell_type": "markdown",
   "metadata": {},
   "source": [
    "**Exercise 4** \n",
    "\n",
    "* How many labels (categories) are there ?\n",
    "* Use numpy unique method (cf. numpy CS)"
   ]
  },
  {
   "cell_type": "code",
   "execution_count": 29,
   "metadata": {},
   "outputs": [
    {
     "data": {
      "text/plain": [
       "16"
      ]
     },
     "execution_count": 29,
     "metadata": {},
     "output_type": "execute_result"
    }
   ],
   "source": [
    "df['category'].nunique()"
   ]
  },
  {
   "cell_type": "markdown",
   "metadata": {},
   "source": [
    "**Exercise 5** \n",
    "\n",
    "* How many articles per category ?\n",
    "* Use pandas 'groupby' and 'size' methods (cf. Pandas CS)"
   ]
  },
  {
   "cell_type": "code",
   "execution_count": 43,
   "metadata": {},
   "outputs": [
    {
     "name": "stdout",
     "output_type": "stream",
     "text": [
      "30\n",
      "30\n",
      "30\n",
      "30\n",
      "30\n",
      "30\n",
      "30\n",
      "30\n",
      "30\n",
      "30\n",
      "30\n",
      "30\n",
      "30\n",
      "30\n",
      "30\n",
      "30\n"
     ]
    }
   ],
   "source": [
    "df_category = df.groupby('category')\n",
    "for cat in df.category.unique():\n",
    "    print(df_category.get_group(cat).size)"
   ]
  },
  {
   "cell_type": "code",
   "execution_count": 50,
   "metadata": {},
   "outputs": [
    {
     "name": "stdout",
     "output_type": "stream",
     "text": [
      "category\n",
      "Airports                     10\n",
      "Artists                      10\n",
      "Astronauts                   10\n",
      "Astronomical_objects         10\n",
      "Building                     10\n",
      "City                         10\n",
      "Comics_characters            10\n",
      "Companies                    10\n",
      "Foods                        10\n",
      "Monuments_and_memorials      10\n",
      "Politicians                  10\n",
      "Sports_teams                 10\n",
      "Sportspeople                 10\n",
      "Transport                    10\n",
      "Universities_and_colleges    10\n",
      "Written_communication        10\n",
      "Name: content, dtype: int64\n"
     ]
    }
   ],
   "source": [
    "df_category = df.groupby('category')\n",
    "print(df_category['content'].count())"
   ]
  },
  {
   "cell_type": "markdown",
   "metadata": {},
   "source": [
    "**Exercise 6** \n",
    "\n",
    "* Don't forget to shuffle the data (Cf. pandas CS)"
   ]
  },
  {
   "cell_type": "markdown",
   "metadata": {},
   "source": [
    "## Vectorizing the input texts\n",
    "\n",
    "$Y$ = the categories (Astronaut, etc.) we are aiming to rediscover. These are **not** used for clustering but they will be used for evaluation\n",
    "\n",
    "$X$ = the features used for clustering. The features of Wikipedia article is the list of tokens contained in that item. We hope that words can help group the articles into 16 clusters matching the Wikipedia categories.\n"
   ]
  },
  {
   "cell_type": "markdown",
   "metadata": {},
   "source": [
    "**Exercise 7** \n",
    "\n",
    "* Vectorize the input (X)\n",
    "* Use sklearn [TfidfVectorizer]( https://scikit-learn.org/stable/modules/generated/sklearn.feature_extraction.text.TfidfVectorizer.html) method to turn the Wikipedia articles into a TF-IDF matrix where each row represents a news item, the columns are tokens and the cell contains the tf-idf score of each token.\n",
    "* Import the TfidfVectorizer method from sklearn\n",
    "* Create a tf-idf vectorizer. The maximum nb of features should be set to 500. Set use_idf to True and stop_words to \"english\".\n",
    "* Apply the tfidf_vectorizer.fit_transform method to X to vectorize all input texts"
   ]
  },
  {
   "cell_type": "code",
   "execution_count": 51,
   "metadata": {},
   "outputs": [],
   "source": [
    "X = df['content']\n",
    "Y = df['category']"
   ]
  },
  {
   "cell_type": "code",
   "execution_count": 52,
   "metadata": {},
   "outputs": [
    {
     "data": {
      "text/plain": [
       "0      Airports of Serbia (Serbian Cyrillic: Аеродром...\n",
       "1      An airport authority is an independent entity ...\n",
       "2      An airport bus, or airport shuttle bus or airp...\n",
       "3      Airport check-in is the process whereby passen...\n",
       "4      Airport security refers to the techniques and ...\n",
       "                             ...                        \n",
       "155    Al-Wasat (Arabic: الوسط), also Alwasat, was an...\n",
       "156    The Burj Al Arab (Arabic: برج العرب, Tower of ...\n",
       "157    Al-Fazl ( Urdu الفضل) has been the most import...\n",
       "158    Al HaMishmar (Hebrew: על המשמר, On Guard) was ...\n",
       "159    Al Muharrir (Arabic: المُحَرِّر meaning the Li...\n",
       "Name: content, Length: 160, dtype: object"
      ]
     },
     "execution_count": 52,
     "metadata": {},
     "output_type": "execute_result"
    }
   ],
   "source": [
    "X"
   ]
  },
  {
   "cell_type": "code",
   "execution_count": 93,
   "metadata": {},
   "outputs": [],
   "source": [
    "from sklearn.feature_extraction.text import TfidfVectorizer\n",
    "vectorizer = TfidfVectorizer(use_idf=True,\n",
    "                            stop_words='english',\n",
    "                            tokenizer=nltk.word_tokenize)\n",
    "X_vec = vectorizer.fit_transform(X)"
   ]
  },
  {
   "cell_type": "markdown",
   "metadata": {},
   "source": [
    "**Exercise 8** \n",
    "\n",
    "* Print out the features created by the vectorizer (use the get_feature_names() method)."
   ]
  },
  {
   "cell_type": "code",
   "execution_count": 94,
   "metadata": {},
   "outputs": [
    {
     "name": "stdout",
     "output_type": "stream",
     "text": [
      "(160, 20732)\n"
     ]
    }
   ],
   "source": [
    "len(vectorizer.get_feature_names_out())\n",
    "print(X_vec.shape)"
   ]
  },
  {
   "cell_type": "markdown",
   "metadata": {},
   "source": [
    "##  Training a K-means clustering model"
   ]
  },
  {
   "cell_type": "markdown",
   "metadata": {},
   "source": [
    "**Exercise 9**\n",
    "\n",
    "* Create a K-means object (import KMeans from sklearn.cluster). Set the number of clusters to 16\n",
    "* Train this object on the tf-idf matrix you created from the data (use the kmeans fit method)"
   ]
  },
  {
   "cell_type": "code",
   "execution_count": 61,
   "metadata": {},
   "outputs": [],
   "source": [
    "kmeans = KMeans(n_clusters=16)\n",
    "cluster = kmeans.fit(X_vec)"
   ]
  },
  {
   "cell_type": "code",
   "execution_count": 77,
   "metadata": {},
   "outputs": [
    {
     "data": {
      "text/html": [
       "<div>\n",
       "<style scoped>\n",
       "    .dataframe tbody tr th:only-of-type {\n",
       "        vertical-align: middle;\n",
       "    }\n",
       "\n",
       "    .dataframe tbody tr th {\n",
       "        vertical-align: top;\n",
       "    }\n",
       "\n",
       "    .dataframe thead th {\n",
       "        text-align: right;\n",
       "    }\n",
       "</style>\n",
       "<table border=\"1\" class=\"dataframe\">\n",
       "  <thead>\n",
       "    <tr style=\"text-align: right;\">\n",
       "      <th></th>\n",
       "      <th>clusters</th>\n",
       "    </tr>\n",
       "  </thead>\n",
       "  <tbody>\n",
       "    <tr>\n",
       "      <th>0</th>\n",
       "      <td>13</td>\n",
       "    </tr>\n",
       "    <tr>\n",
       "      <th>1</th>\n",
       "      <td>13</td>\n",
       "    </tr>\n",
       "    <tr>\n",
       "      <th>2</th>\n",
       "      <td>13</td>\n",
       "    </tr>\n",
       "    <tr>\n",
       "      <th>3</th>\n",
       "      <td>0</td>\n",
       "    </tr>\n",
       "    <tr>\n",
       "      <th>4</th>\n",
       "      <td>13</td>\n",
       "    </tr>\n",
       "    <tr>\n",
       "      <th>...</th>\n",
       "      <td>...</td>\n",
       "    </tr>\n",
       "    <tr>\n",
       "      <th>155</th>\n",
       "      <td>12</td>\n",
       "    </tr>\n",
       "    <tr>\n",
       "      <th>156</th>\n",
       "      <td>0</td>\n",
       "    </tr>\n",
       "    <tr>\n",
       "      <th>157</th>\n",
       "      <td>5</td>\n",
       "    </tr>\n",
       "    <tr>\n",
       "      <th>158</th>\n",
       "      <td>12</td>\n",
       "    </tr>\n",
       "    <tr>\n",
       "      <th>159</th>\n",
       "      <td>5</td>\n",
       "    </tr>\n",
       "  </tbody>\n",
       "</table>\n",
       "<p>160 rows × 1 columns</p>\n",
       "</div>"
      ],
      "text/plain": [
       "     clusters\n",
       "0          13\n",
       "1          13\n",
       "2          13\n",
       "3           0\n",
       "4          13\n",
       "..        ...\n",
       "155        12\n",
       "156         0\n",
       "157         5\n",
       "158        12\n",
       "159         5\n",
       "\n",
       "[160 rows x 1 columns]"
      ]
     },
     "execution_count": 77,
     "metadata": {},
     "output_type": "execute_result"
    }
   ],
   "source": [
    "pd.DataFrame(cluster.labels_, columns = ['clusters'])"
   ]
  },
  {
   "cell_type": "markdown",
   "metadata": {},
   "source": [
    "## Inspecting Clustering Results"
   ]
  },
  {
   "cell_type": "markdown",
   "metadata": {},
   "source": [
    "**Exercise 10** \n",
    "\n",
    "* Create a dataframe aligning the clustering results with the news items and their category\n",
    "* The dataframe should contains 3 columns with headers \"Text\", \"Category\" and \"Cluster\"\n",
    "* Extract the texts and labels from the dataframe you created from the wikipedia files\n",
    "* Extract the list of cluster labels produced for each input text by the clustering algorithm (km.labels_)\n",
    "* Create the required dataframe using these information "
   ]
  },
  {
   "cell_type": "code",
   "execution_count": 80,
   "metadata": {},
   "outputs": [],
   "source": [
    "df_cluster = pd.concat([df.drop('Headers',axis = 1), \n",
    "                        pd.DataFrame(cluster.labels_, columns = ['clusters'])], axis =1)"
   ]
  },
  {
   "cell_type": "code",
   "execution_count": 81,
   "metadata": {},
   "outputs": [
    {
     "data": {
      "text/html": [
       "<div>\n",
       "<style scoped>\n",
       "    .dataframe tbody tr th:only-of-type {\n",
       "        vertical-align: middle;\n",
       "    }\n",
       "\n",
       "    .dataframe tbody tr th {\n",
       "        vertical-align: top;\n",
       "    }\n",
       "\n",
       "    .dataframe thead th {\n",
       "        text-align: right;\n",
       "    }\n",
       "</style>\n",
       "<table border=\"1\" class=\"dataframe\">\n",
       "  <thead>\n",
       "    <tr style=\"text-align: right;\">\n",
       "      <th></th>\n",
       "      <th>category</th>\n",
       "      <th>content</th>\n",
       "      <th>clusters</th>\n",
       "    </tr>\n",
       "  </thead>\n",
       "  <tbody>\n",
       "    <tr>\n",
       "      <th>0</th>\n",
       "      <td>Airports</td>\n",
       "      <td>Airports of Serbia (Serbian Cyrillic: Аеродром...</td>\n",
       "      <td>13</td>\n",
       "    </tr>\n",
       "    <tr>\n",
       "      <th>1</th>\n",
       "      <td>Airports</td>\n",
       "      <td>An airport authority is an independent entity ...</td>\n",
       "      <td>13</td>\n",
       "    </tr>\n",
       "    <tr>\n",
       "      <th>2</th>\n",
       "      <td>Airports</td>\n",
       "      <td>An airport bus, or airport shuttle bus or airp...</td>\n",
       "      <td>13</td>\n",
       "    </tr>\n",
       "    <tr>\n",
       "      <th>3</th>\n",
       "      <td>Airports</td>\n",
       "      <td>Airport check-in is the process whereby passen...</td>\n",
       "      <td>0</td>\n",
       "    </tr>\n",
       "    <tr>\n",
       "      <th>4</th>\n",
       "      <td>Airports</td>\n",
       "      <td>Airport security refers to the techniques and ...</td>\n",
       "      <td>13</td>\n",
       "    </tr>\n",
       "    <tr>\n",
       "      <th>...</th>\n",
       "      <td>...</td>\n",
       "      <td>...</td>\n",
       "      <td>...</td>\n",
       "    </tr>\n",
       "    <tr>\n",
       "      <th>155</th>\n",
       "      <td>Written_communication</td>\n",
       "      <td>Al-Wasat (Arabic: الوسط), also Alwasat, was an...</td>\n",
       "      <td>12</td>\n",
       "    </tr>\n",
       "    <tr>\n",
       "      <th>156</th>\n",
       "      <td>Written_communication</td>\n",
       "      <td>The Burj Al Arab (Arabic: برج العرب, Tower of ...</td>\n",
       "      <td>0</td>\n",
       "    </tr>\n",
       "    <tr>\n",
       "      <th>157</th>\n",
       "      <td>Written_communication</td>\n",
       "      <td>Al-Fazl ( Urdu الفضل) has been the most import...</td>\n",
       "      <td>5</td>\n",
       "    </tr>\n",
       "    <tr>\n",
       "      <th>158</th>\n",
       "      <td>Written_communication</td>\n",
       "      <td>Al HaMishmar (Hebrew: על המשמר, On Guard) was ...</td>\n",
       "      <td>12</td>\n",
       "    </tr>\n",
       "    <tr>\n",
       "      <th>159</th>\n",
       "      <td>Written_communication</td>\n",
       "      <td>Al Muharrir (Arabic: المُحَرِّر meaning the Li...</td>\n",
       "      <td>5</td>\n",
       "    </tr>\n",
       "  </tbody>\n",
       "</table>\n",
       "<p>160 rows × 3 columns</p>\n",
       "</div>"
      ],
      "text/plain": [
       "                  category                                            content  \\\n",
       "0                 Airports  Airports of Serbia (Serbian Cyrillic: Аеродром...   \n",
       "1                 Airports  An airport authority is an independent entity ...   \n",
       "2                 Airports  An airport bus, or airport shuttle bus or airp...   \n",
       "3                 Airports  Airport check-in is the process whereby passen...   \n",
       "4                 Airports  Airport security refers to the techniques and ...   \n",
       "..                     ...                                                ...   \n",
       "155  Written_communication  Al-Wasat (Arabic: الوسط), also Alwasat, was an...   \n",
       "156  Written_communication  The Burj Al Arab (Arabic: برج العرب, Tower of ...   \n",
       "157  Written_communication  Al-Fazl ( Urdu الفضل) has been the most import...   \n",
       "158  Written_communication  Al HaMishmar (Hebrew: על המשמר, On Guard) was ...   \n",
       "159  Written_communication  Al Muharrir (Arabic: المُحَرِّر meaning the Li...   \n",
       "\n",
       "     clusters  \n",
       "0          13  \n",
       "1          13  \n",
       "2          13  \n",
       "3           0  \n",
       "4          13  \n",
       "..        ...  \n",
       "155        12  \n",
       "156         0  \n",
       "157         5  \n",
       "158        12  \n",
       "159         5  \n",
       "\n",
       "[160 rows x 3 columns]"
      ]
     },
     "execution_count": 81,
     "metadata": {},
     "output_type": "execute_result"
    }
   ],
   "source": [
    "df_cluster"
   ]
  },
  {
   "cell_type": "markdown",
   "metadata": {},
   "source": [
    "**Exercise 11** \n",
    "\n",
    "* Print out the number of items per clusters\n",
    "* use pandas value_counts() method"
   ]
  },
  {
   "cell_type": "code",
   "execution_count": 83,
   "metadata": {},
   "outputs": [
    {
     "data": {
      "text/plain": [
       "6      1\n",
       "7      1\n",
       "14     1\n",
       "3      1\n",
       "11     2\n",
       "10     2\n",
       "2      4\n",
       "4      4\n",
       "13     5\n",
       "5      7\n",
       "1      8\n",
       "8      9\n",
       "9     13\n",
       "12    15\n",
       "15    25\n",
       "0     62\n",
       "Name: clusters, dtype: int64"
      ]
     },
     "execution_count": 83,
     "metadata": {},
     "output_type": "execute_result"
    }
   ],
   "source": [
    "df_cluster['clusters'].value_counts().sort_values()"
   ]
  },
  {
   "cell_type": "markdown",
   "metadata": {},
   "source": [
    "**Exercise 12** \n",
    "\n",
    "* Evaluate the clusters\n",
    "* Import metrics from sklearns and compute homogeneity, completeness, v_measure, adjusted rand index and silhouette coefficient\n",
    "* Print each score out"
   ]
  },
  {
   "cell_type": "code",
   "execution_count": 84,
   "metadata": {},
   "outputs": [],
   "source": []
  },
  {
   "cell_type": "code",
   "execution_count": 87,
   "metadata": {},
   "outputs": [
    {
     "name": "stdout",
     "output_type": "stream",
     "text": [
      "(0.41791635003116934, 0.5621967800968279, 0.4794369529702331)\n"
     ]
    }
   ],
   "source": [
    "print(homogeneity_completeness_v_measure(df_cluster['category'], df_cluster['clusters']))"
   ]
  },
  {
   "cell_type": "markdown",
   "metadata": {},
   "source": [
    "**Exercise 13**  \n",
    "\n",
    "* Print out the top 50 words of each cluster "
   ]
  },
  {
   "cell_type": "code",
   "execution_count": null,
   "metadata": {},
   "outputs": [],
   "source": [
    "labels = df['category'].tolist()\n",
    "print(\"Top terms per cluster:\")\n",
    "# get the number of clusters\n",
    "true_k = np.unique(labels).shape[0]\n",
    "\n",
    "# get the cluster center of each cluster \n",
    "# argsort() return the index of each dimension in the cluster center and sort them in increasing value order\n",
    "# [:, ::-1] reverts the argsort() list to place the indices with highest value first (decreasing order)\n",
    "order_centroids = km.cluster_centers_.argsort()[:]\n",
    "\n",
    "# terms maps a vectorizer index to the corresponding token\n",
    "terms = vectorizer.get_feature_names()\n",
    "\n",
    "# for each cluster\n",
    "for i in range(true_k):\n",
    "    print(\"Cluster %d:\" % i, end='')\n",
    "    # print out the token of the centroid (order by decreasing tf-idf value)\n",
    "    for ind in order_centroids[i, :10]:\n",
    "        print(' %s' % terms[ind], end='')\n",
    "    print('\\n')"
   ]
  },
  {
   "cell_type": "markdown",
   "metadata": {},
   "source": [
    "## Visualizing  clusters.\n",
    "\n",
    "Provided\n"
   ]
  },
  {
   "cell_type": "code",
   "execution_count": 88,
   "metadata": {},
   "outputs": [],
   "source": [
    "import os  # for os.path.basename\n",
    "\n",
    "import matplotlib.pyplot as plt\n",
    "import matplotlib as mpl\n",
    "from sklearn.metrics.pairwise import cosine_similarity\n",
    "from sklearn.manifold import MDS\n",
    "\n",
    "dist = 1 - cosine_similarity(X_vec)\n",
    "\n",
    "# Use multidimensional scaling to convert the dist matrix into a 2-dimensional array \n",
    "\n",
    "MDS()\n",
    "\n",
    "# n_components=2 to plot results in a two-dimensional plane\n",
    "# \"precomputed\" because the  distance matrix dist is already computed\n",
    "# `random_state` set to 1 so that the plot is reproducible.\n",
    "mds = MDS(n_components=2, dissimilarity=\"precomputed\", random_state=1)\n",
    "\n",
    "pos = mds.fit_transform(dist)  # shape (n_components, n_samples)\n",
    "\n",
    "xs, ys = pos[:, 0], pos[:, 1]"
   ]
  },
  {
   "cell_type": "code",
   "execution_count": 89,
   "metadata": {},
   "outputs": [],
   "source": [
    "#set up colors per clusters using a dict\n",
    "# #1b9e77 (green) #d95f02 (orange) #7570b3 (purple) #e7298a (pink)\n",
    "cluster_colors = {0: '#f0140c', 1: '#ad7144', 2: '#f5b92f', 3: '#e8f007', 4: '#88e014', \\\n",
    "                  5:\"#0eedb2\", 6:\"#0dafdb\", \\\n",
    "                  7:\"#1330ed\", 8:\"#9a09e8\", 9:\"#e605b1\", 10:\"#c4a29d\", 11:\"#695232\", 12:\"#f7f088\", 13:\"#7e8778\", \\\n",
    "                  14:\"#7dada2\", 15:\"#628cf5\"}\n",
    "\n",
    "#set up cluster names using a dict\n",
    "#cluster_names = {0: 'techno'}\n"
   ]
  },
  {
   "cell_type": "code",
   "execution_count": 91,
   "metadata": {},
   "outputs": [
    {
     "name": "stderr",
     "output_type": "stream",
     "text": [
      "No artists with labels found to put in legend.  Note that artists whose label start with an underscore are ignored when legend() is called with no argument.\n"
     ]
    },
    {
     "data": {
      "image/png": "[encoded data removed]",
      "text/plain": [
       "<Figure size 1224x648 with 1 Axes>"
      ]
     },
     "metadata": {},
     "output_type": "display_data"
    }
   ],
   "source": [
    "#some ipython magic to show the matplotlib plots inline\n",
    "%matplotlib inline \n",
    "\n",
    "#create data frame that has the result of the MDS plus the cluster numbers and titles\n",
    "df = pd.DataFrame(dict(x=xs, y=ys, label=cluster.labels_))\n",
    "\n",
    "#group by cluster\n",
    "groups = df.groupby('label')\n",
    "\n",
    "# set up plot\n",
    "fig, ax = plt.subplots(figsize=(17, 9)) # set size\n",
    "ax.margins(0.05) # Optional, just adds 5% padding to the autoscaling\n",
    "\n",
    "#iterate through groups to layer the plot\n",
    "#note that I use the cluster_name and cluster_color dicts with the 'name' lookup to return the appropriate color/label\n",
    "for name, group in groups:\n",
    "    ax.plot(group.x, group.y, marker='o', linestyle='', ms=12, \n",
    "        #    label=cluster_names[name], \n",
    "            color=cluster_colors[name], \n",
    "            mec='none')\n",
    "    ax.set_aspect('auto')\n",
    "    ax.tick_params(\\\n",
    "        axis= 'x',          # changes apply to the x-axis\n",
    "        which='both',      # both major and minor ticks are affected\n",
    "        bottom=False,      # ticks along the bottom edge are off\n",
    "        top=False,         # ticks along the top edge are off\n",
    "        labelbottom=False)\n",
    "    ax.tick_params(\\\n",
    "        axis= 'y',         # changes apply to the y-axis\n",
    "        which='both',      # both major and minor ticks are affected\n",
    "        left=False,      # ticks along the bottom edge are off\n",
    "        top=False,         # ticks along the top edge are off\n",
    "        labelleft=False)\n",
    "    \n",
    "ax.legend(numpoints=1)  #show legend with only 1 point\n",
    "    \n",
    "    \n",
    "plt.show() #show the plot\n"
   ]
  },
  {
   "cell_type": "code",
   "execution_count": null,
   "metadata": {},
   "outputs": [],
   "source": []
  }
 ],
 "metadata": {
  "kernelspec": {
   "display_name": "Python 3 (ipykernel)",
   "language": "python",
   "name": "python3"
  },
  "language_info": {
   "codemirror_mode": {
    "name": "ipython",
    "version": 3
   },
   "file_extension": ".py",
   "mimetype": "text/x-python",
   "name": "python",
   "nbconvert_exporter": "python",
   "pygments_lexer": "ipython3",
   "version": "3.9.6"
  }
 },
 "nbformat": 4,
 "nbformat_minor": 4
}
