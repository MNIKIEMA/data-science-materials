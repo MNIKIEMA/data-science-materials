{
 "cells": [
  {
   "cell_type": "markdown",
   "metadata": {},
   "source": [
    "# Exercise Lecture 16: Neural Generation\n",
    "\n",
    "In this assignement, we implement an RNN model which learns to generate a film title.\n",
    "\n",
    "A language model can predict the probability of the next word given a sequence of preceding words. Here we will create a character based language model to learn to generate a film title. \n",
    "\n",
    "The data is in the movies-sf.txt file on Arche. Each line of that line contains a film title followed by the year it came out (in brackets). \n"
   ]
  },
  {
   "cell_type": "code",
   "execution_count": 1,
   "metadata": {},
   "outputs": [],
   "source": [
    "%matplotlib inline"
   ]
  },
  {
   "cell_type": "markdown",
   "metadata": {},
   "source": [
    "#### Exercise 1.1 - Creating char2int and int2char dictionaries\n",
    "\n",
    "* Create the dictionaries mapping tokens to integers and back. Here because we train a character based model the tokens are the characters contained in the corpus. Your dictionary should include two special symbols:\n",
    "\n",
    "- the `<eos>` symbol for padding\n",
    "- the `<start>` symbol which indicates the start of the sequence (null context, this will be used as input when generating)\n",
    "\n",
    "* Use your dictionary to convert each film titles in the corpus to sequences of integers (store this in a variable; it will be used in Exercise 2.1).\n",
    "\n",
    "**Hint :** Cf. Exercise 1.2 in Exercise sheet 17"
   ]
  },
  {
   "cell_type": "code",
   "execution_count": 4,
   "metadata": {},
   "outputs": [
    {
     "name": "stdout",
     "output_type": "stream",
     "text": [
      "C:\\experiments\\cours nlp\\data science\\lecture16\n"
     ]
    }
   ],
   "source": [
    "cd .."
   ]
  },
  {
   "cell_type": "code",
   "execution_count": 7,
   "metadata": {},
   "outputs": [],
   "source": [
    "text = open(\"movies-sf.txt\").readlines()"
   ]
  },
  {
   "cell_type": "code",
   "execution_count": 16,
   "metadata": {},
   "outputs": [
    {
     "data": {
      "text/plain": [
       "'Passengers (2016'"
      ]
     },
     "execution_count": 16,
     "metadata": {},
     "output_type": "execute_result"
    }
   ],
   "source": [
    "text[0][:-2]"
   ]
  },
  {
   "cell_type": "code",
   "execution_count": 42,
   "metadata": {},
   "outputs": [],
   "source": [
    "from collections import defaultdict\n",
    "token2int = defaultdict(lambda: len(token2int))\n",
    "token2int['<eos>'] = 0\n",
    "token2int['<start>'] = 1\n",
    "for l in text:\n",
    "    [token2int[token.lower()] for token in l[:-2]]"
   ]
  },
  {
   "cell_type": "code",
   "execution_count": null,
   "metadata": {},
   "outputs": [],
   "source": []
  },
  {
   "cell_type": "code",
   "execution_count": 44,
   "metadata": {},
   "outputs": [],
   "source": [
    "int2token = { k : v for v, k in token2int.items()}"
   ]
  },
  {
   "cell_type": "code",
   "execution_count": 50,
   "metadata": {},
   "outputs": [],
   "source": [
    "char_int = [[1]+[token2int[token.lower()] for token in l[:-2]] for l in text]"
   ]
  },
  {
   "cell_type": "code",
   "execution_count": null,
   "metadata": {},
   "outputs": [],
   "source": []
  },
  {
   "cell_type": "markdown",
   "metadata": {},
   "source": [
    "#### Exercise 1.2 - Print out the number of titles in the data"
   ]
  },
  {
   "cell_type": "code",
   "execution_count": 22,
   "metadata": {},
   "outputs": [
    {
     "name": "stdout",
     "output_type": "stream",
     "text": [
      "Number of tittle in the data: 7205\n"
     ]
    }
   ],
   "source": [
    "print(f\"Number of tittle in the data: {len(text)}\")"
   ]
  },
  {
   "cell_type": "markdown",
   "metadata": {},
   "source": [
    "#### Exercise 1.3 - Print out the histogram of title lengths"
   ]
  },
  {
   "cell_type": "markdown",
   "metadata": {},
   "source": [
    "We display the histogram of title lengths to decide what the maximum length will be. "
   ]
  },
  {
   "cell_type": "code",
   "execution_count": 36,
   "metadata": {},
   "outputs": [
    {
     "data": {
      "image/png": "[encoded data removed]",
      "text/plain": [
       "<Figure size 432x288 with 1 Axes>"
      ]
     },
     "metadata": {
      "needs_background": "light"
     },
     "output_type": "display_data"
    }
   ],
   "source": [
    "import matplotlib.pyplot as plt\n",
    "plt.hist([len(l[:-2]) for l in text], bins=45);"
   ]
  },
  {
   "cell_type": "markdown",
   "metadata": {},
   "source": [
    "Most titles have a length under 40 characters so we'll use 40 as maximum length when encoding the data. "
   ]
  },
  {
   "cell_type": "code",
   "execution_count": 65,
   "metadata": {},
   "outputs": [],
   "source": [
    "max_len = 40\n",
    "pad_char = []\n",
    "pred_char = []\n",
    "for char in char_int:\n",
    "    to_add = max_len - len(char)\n",
    "    if len(char) > 40:\n",
    "        pred_char.append(char[1:41])\n",
    "        char += [0]*to_add\n",
    "    else:\n",
    "        pred_char.append(char[1:]+[0])\n",
    "        char += [0]*to_add\n",
    "        pad_char.append(char)"
   ]
  },
  {
   "cell_type": "code",
   "execution_count": null,
   "metadata": {},
   "outputs": [],
   "source": []
  },
  {
   "cell_type": "markdown",
   "metadata": {},
   "source": [
    "## 2. Creating the training and validation data\n",
    "\n",
    "The RNN will iterate over the characters in x and predict the next character. Hence x is the sequence of characters over which the RNN iterates and y is the same sequence shifted by one character e.g. \n",
    "\n",
    "x = [1, 31, 19, 5, 9, 2, 32, ...]   \n",
    "y = [31, 19, 5, 9, 2, 32, 6 ...]\n",
    "\n",
    "where each integer corresponds to a character."
   ]
  },
  {
   "cell_type": "code",
   "execution_count": 39,
   "metadata": {},
   "outputs": [],
   "source": [
    "import torch\n",
    "import torch.nn as nn\n",
    "import torch.nn.functional as F\n",
    "import torch.optim as optim\n",
    "from torch.autograd import Variable\n",
    "\n",
    "max_len = 40\n",
    "batch_size = 8\n",
    "embed_size = 16\n",
    "hidden_size = 64"
   ]
  },
  {
   "cell_type": "markdown",
   "metadata": {},
   "source": [
    "#### Exercise  2.1 - Creating tensors\n",
    "\n",
    "To create the X and Y tensors\n",
    "\n",
    "* Create two long tensors X and Y of dimension (nb of training instances, max input length) and whose values are 0  (use torch.zeros())\n",
    "* Iterate over the integer version of the data file you created in Exercise 1.1 and for each line l with (integer converted) title t\n",
    "   - calculate the length of the title to be encoded (which is the length of the title if the title is shorter than the max len and otherwise the max len)\n",
    "   - store t into a LongTensor **up to the character before last** (i.e. omit the last character)\n",
    "   - set the l row of X to the long tensor version of t\n",
    "* This gives you the tensor for the input, X\n",
    "* To create Y do the same thing but for each title omit the first character and store the title up to and including the last character\n"
   ]
  },
  {
   "cell_type": "code",
   "execution_count": 40,
   "metadata": {},
   "outputs": [],
   "source": [
    "X = torch.zeros(7205, 40)\n",
    "Y = torch.zeros(7205, 40)"
   ]
  },
  {
   "cell_type": "code",
   "execution_count": null,
   "metadata": {},
   "outputs": [],
   "source": [
    "for i in range(7205):\n",
    "    for j in range(40)"
   ]
  },
  {
   "cell_type": "markdown",
   "metadata": {},
   "source": [
    "#### Exercise  2.2 - Checking the tensors\n",
    "\n",
    "Check that your X and Y tensors are ok by printing the same row for both (e.g., X[30] and Y[30].\n",
    "\n",
    "* Use the tolist() method \n",
    "* print both the integer and the character version (using the int2char dic created above)\n",
    "\n",
    "You should see 2 lists that are almost identical: Y is X shifted by one character to the right e.g., \n",
    "\n",
    "\n",
    "X[30] = [1, 31, 19, 5, 9, 2, 32, ...]   \n",
    "Y[30] = [31, 19, 5, 9, 2, 32, 6 ...]"
   ]
  },
  {
   "cell_type": "code",
   "execution_count": null,
   "metadata": {},
   "outputs": [],
   "source": [
    "# YOUR CODE HERE"
   ]
  },
  {
   "cell_type": "markdown",
   "metadata": {},
   "source": [
    "\n",
    "#### Exercise 2.2  - Split X and Y into  train and validation data\n",
    "\n",
    "* Split X into two parts, one called X_train which consists of the first 6500 items and the other called X_valid which includes the rest of the data\n",
    "* Do the same for Y"
   ]
  },
  {
   "cell_type": "code",
   "execution_count": null,
   "metadata": {},
   "outputs": [],
   "source": [
    "# YOUR CODE HERE"
   ]
  },
  {
   "cell_type": "markdown",
   "metadata": {},
   "source": [
    "#### Exercise  2.3 - Use torch DataLoader to split training and validation data into batches\n",
    "\n",
    "**Hint:** This was provided in the previous lab sessions"
   ]
  },
  {
   "cell_type": "code",
   "execution_count": null,
   "metadata": {},
   "outputs": [],
   "source": [
    "# YOUR CODE HERE"
   ]
  },
  {
   "cell_type": "markdown",
   "metadata": {},
   "source": [
    "## 3. Defining the Neural Network\n",
    "\n",
    "We use a GRU (Gated Recurrent Network) as a recurrent network. There are three layers -  one embedding layer which encodes the input character into a character embedding/representation, one GRU layer (which may itself have multiple layers) that operates on that character embedding and a hidden state, and a decoder (generation) layer that outputs the probability distribution.\n",
    "\n",
    "* Pytorch [linear](https://pytorch.org/docs/stable/nn.html?highlight=linear#torch.nn.Linear)\n",
    "\n",
    "* Pytorch [GRU](https://pytorch.org/docs/stable/nn.html?highlight=gru#torch.nn.GRU)\n",
    "\n",
    "* The main difference with the sequence tagging approach is that at each recurring step, the RNN now takes an additional input (hidden) which is the hidden state produced at the preceding time step. This ensures that the prediction made depends on the character that was generated by the RNN at the previous time step (and indirectly at all previous time steps)."
   ]
  },
  {
   "cell_type": "markdown",
   "metadata": {},
   "source": [
    "#### Exercise 3.1 - Specify a language model\n",
    "\n",
    "* Modify the model provided in the previous exercise sheet (Exercise 4.1) so that the previous hidden state is input to the model"
   ]
  },
  {
   "cell_type": "code",
   "execution_count": null,
   "metadata": {},
   "outputs": [],
   "source": [
    "# YOUR CODE HERE"
   ]
  },
  {
   "cell_type": "markdown",
   "metadata": {},
   "source": [
    "#### Exercise 3.2  - Checking the model output\n",
    "\n",
    "* Print out the dimensions of the two tensors (output, hidden) output by your model when applied to X"
   ]
  },
  {
   "cell_type": "code",
   "execution_count": null,
   "metadata": {},
   "outputs": [],
   "source": [
    "# Output is of size (nb of training instances, max input length, nb of labels)\n",
    "# Hidden is of size (nb of layers, nb of training instances, hidden size)\n",
    "\n",
    "# YOUR CODE HERE"
   ]
  },
  {
   "cell_type": "markdown",
   "metadata": {},
   "source": [
    "## Evaluation and Training"
   ]
  },
  {
   "cell_type": "markdown",
   "metadata": {},
   "source": [
    "####  Define a function to evaluate the performance of the model (PROVIDED)\n",
    "\n",
    "The function compute the perplexity of the model on the data: \n",
    "\n",
    "$\n",
    "PP(x) = P(x)^{-\\frac{1}{N}} = \\left[\\prod_i P(x_i)\\right]^{-\\frac{1}{N}}\n",
    "$\n",
    "\n",
    "where $x$ is a sequence of words, $P(x)=\\prod_i P(x_i)$ is the probability assigned to that sequence by the model and $N$ its lenght. This can be rewritten in the log domain as:\n",
    "\n",
    "$\n",
    "PP(x) = exp\\left(-\\frac{1}{N}\\sum_i \\log P(x_i)\\right)\n",
    "$\n",
    "\n",
    "Since the loss function returns $-\\frac{1}{N}\\log P(x_i)$, perplexity can be computed by taking the exponential of the avg loss. Note that we do not handle the padding hence perplexity will be affected by it. "
   ]
  },
  {
   "cell_type": "code",
   "execution_count": null,
   "metadata": {},
   "outputs": [],
   "source": [
    "import math\n",
    "def perf(model, loader):\n",
    "    criterion = nn.CrossEntropyLoss()\n",
    "    model.eval()\n",
    "    total_loss = num = 0\n",
    "    for x, y in loader:\n",
    "      with torch.no_grad():\n",
    "        y_scores, _ = model(x)\n",
    "        loss = criterion(y_scores.view(y.size(0) * y.size(1), -1), y.view(y.size(0) * y.size(1)))\n",
    "        total_loss += loss.item()\n",
    "        num += len(y)\n",
    "    return total_loss / num, math.exp(total_loss / num)\n",
    "\n",
    "perf(model, valid_loader)"
   ]
  },
  {
   "cell_type": "markdown",
   "metadata": {},
   "source": [
    "#### Exercise 3.3 - Training \n",
    "\n",
    "**Hint:**  Training is the same as for sequence tagging (Section 4 of Exercise Sheet 17)  modulo the added argument returned by the model.\n",
    "* Define the training loop\n",
    "* call you training function to iterate 5 times (epochs) over the data"
   ]
  },
  {
   "cell_type": "code",
   "execution_count": null,
   "metadata": {},
   "outputs": [],
   "source": [
    "# YOUR CODE HERE"
   ]
  },
  {
   "cell_type": "markdown",
   "metadata": {},
   "source": [
    "## 4. Generating a title (PROVIDED)\n",
    "\n",
    "Write a function which takes the model as input and generates a title.\n",
    "  \n",
    "Reminder: at each time step t, the input to the model is the previous character $c_{t-1}$ and the previous hidden state $h_{t-1}$. So to initialise generation, you need to input  model with a the tensor for that letter and an initial hidden state of size hidden_size. \n",
    "\n",
    "* The inital hidden state should be a tensor of size  (num_layers * num_directions, batch size, hidden_size)\n",
    " with 1 the batch size (only one input in that batch)\n",
    "* The initial character tensor should be of size (1,1) (one row, one char) and contain the integer for the < start > symbol. \n",
    "\n",
    "To generate\n",
    "* use these two tensors as input to the model\n",
    "* Use torch max used to compute predictions (see previous exercise sheet)\n",
    "* break if the selected char (the prediction) is < eos >\n",
    "* else print out the corresponding character"
   ]
  },
  {
   "cell_type": "code",
   "execution_count": null,
   "metadata": {},
   "outputs": [],
   "source": [
    "def generate_most_probable(model):\n",
    "    # size for hidden: (batch, num_layers * num_directions, hidden_size)\n",
    "    hidden = torch.zeros(2, 1, hidden_size)\n",
    "    print(hidden.size())\n",
    "    x = torch.zeros(1, 1).long()\n",
    "    x[0, 0] = char2int['<start>']\n",
    "    \n",
    "    for i in range(100):\n",
    "      with torch.no_grad():\n",
    "        y_scores, hidden = model(x, hidden)\n",
    "        y_pred = torch.max(y_scores, 2)[1]\n",
    "        selected = y_pred.data[0, 0]\n",
    "        if selected == char2int['<eos>']:\n",
    "            break\n",
    "        print(int2char[selected.item()], end='')\n",
    "        x[0, 0] = selected\n",
    "    print()\n",
    "\n",
    "generate_most_probable(model)"
   ]
  }
 ],
 "metadata": {
  "kernelspec": {
   "display_name": "Python 3 (ipykernel)",
   "language": "python",
   "name": "python3"
  },
  "language_info": {
   "codemirror_mode": {
    "name": "ipython",
    "version": 3
   },
   "file_extension": ".py",
   "mimetype": "text/x-python",
   "name": "python",
   "nbconvert_exporter": "python",
   "pygments_lexer": "ipython3",
   "version": "3.9.6"
  }
 },
 "nbformat": 4,
 "nbformat_minor": 4
}
