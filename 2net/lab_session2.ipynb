{
 "cells": [
  {
   "cell_type": "markdown",
   "metadata": {},
   "source": [
    "# Lab session #2\n",
    "## Data processing, Statistics and Visualisation, Clustering\n"
   ]
  },
  {
   "cell_type": "markdown",
   "metadata": {},
   "source": [
    "#### Please enter your firstname and lastname below.\n",
    "\n",
    "- Firstname: Mahamadi\n",
    "- Lastname: NIKIEMA"
   ]
  },
  {
   "cell_type": "markdown",
   "metadata": {},
   "source": [
    "In this assignment, the input is a csv file containing ELI5 posts (question, topics and other miscelleanous  information) which we convert for you into a Pandas dataframe of the form:\n",
    "\n",
    "![title](data.png)\n",
    "\n",
    "The assignment involves processing the text, exploratory analysis of the data (statistics and visualisation) and clustering.\n"
   ]
  },
  {
   "cell_type": "markdown",
   "metadata": {},
   "source": [
    "## 1 - Data pre-processing (14 points, 2 Bonus points)\n",
    "\n",
    "**IMPORTANT** Make sure to run the following cell before starting on the exercises."
   ]
  },
  {
   "cell_type": "code",
   "execution_count": 1,
   "metadata": {},
   "outputs": [
    {
     "data": {
      "text/html": [
       "<div>\n",
       "<style scoped>\n",
       "    .dataframe tbody tr th:only-of-type {\n",
       "        vertical-align: middle;\n",
       "    }\n",
       "\n",
       "    .dataframe tbody tr th {\n",
       "        vertical-align: top;\n",
       "    }\n",
       "\n",
       "    .dataframe thead th {\n",
       "        text-align: right;\n",
       "    }\n",
       "</style>\n",
       "<table border=\"1\" class=\"dataframe\">\n",
       "  <thead>\n",
       "    <tr style=\"text-align: right;\">\n",
       "      <th></th>\n",
       "      <th>id</th>\n",
       "      <th>answer</th>\n",
       "      <th>score</th>\n",
       "      <th>topic</th>\n",
       "    </tr>\n",
       "  </thead>\n",
       "  <tbody>\n",
       "    <tr>\n",
       "      <th>0</th>\n",
       "      <td>0</td>\n",
       "      <td>Whoever said that is wrong.The FDA and IWBA ca...</td>\n",
       "      <td>14100.0</td>\n",
       "      <td>Chemistry</td>\n",
       "    </tr>\n",
       "    <tr>\n",
       "      <th>1</th>\n",
       "      <td>1</td>\n",
       "      <td>In Europe you have the time of bottling printe...</td>\n",
       "      <td>1400.0</td>\n",
       "      <td>Chemistry</td>\n",
       "    </tr>\n",
       "    <tr>\n",
       "      <th>2</th>\n",
       "      <td>2</td>\n",
       "      <td>I’d hate to be “that guy” but I was looking an...</td>\n",
       "      <td>47.0</td>\n",
       "      <td>Chemistry</td>\n",
       "    </tr>\n",
       "    <tr>\n",
       "      <th>3</th>\n",
       "      <td>3</td>\n",
       "      <td>I've heard of several studies that conclude th...</td>\n",
       "      <td>195.0</td>\n",
       "      <td>Chemistry</td>\n",
       "    </tr>\n",
       "    <tr>\n",
       "      <th>4</th>\n",
       "      <td>4</td>\n",
       "      <td>UV and heat will degrade the material however.</td>\n",
       "      <td>15.0</td>\n",
       "      <td>Chemistry</td>\n",
       "    </tr>\n",
       "  </tbody>\n",
       "</table>\n",
       "</div>"
      ],
      "text/plain": [
       "   id                                             answer    score      topic\n",
       "0   0  Whoever said that is wrong.The FDA and IWBA ca...  14100.0  Chemistry\n",
       "1   1  In Europe you have the time of bottling printe...   1400.0  Chemistry\n",
       "2   2  I’d hate to be “that guy” but I was looking an...     47.0  Chemistry\n",
       "3   3  I've heard of several studies that conclude th...    195.0  Chemistry\n",
       "4   4     UV and heat will degrade the material however.     15.0  Chemistry"
      ]
     },
     "execution_count": 1,
     "metadata": {},
     "output_type": "execute_result"
    }
   ],
   "source": [
    "import pandas as pd\n",
    "df = pd.read_csv(\"eli5questions.csv\", sep = \",\",on_bad_lines='skip')\n",
    "df.head()"
   ]
  },
  {
   "cell_type": "markdown",
   "metadata": {},
   "source": [
    "**Exercice 1.1 (2 points)** \n",
    "\n",
    "How many topics and how many instance per topic ?\n",
    "- Extract from the dataframe the list of possible topics and the number of instances (rows) per topic.\n",
    "\n",
    "_**Hint**_ Cf. Pandas cheat sheet"
   ]
  },
  {
   "cell_type": "code",
   "execution_count": 2,
   "metadata": {},
   "outputs": [
    {
     "name": "stdout",
     "output_type": "stream",
     "text": [
      " Number of topic :\n",
      "['Chemistry' 'Other' 'Physics'] \n",
      "\n",
      "Instance of topic : \n",
      "Other        758\n",
      "Physics      722\n",
      "Chemistry    690\n",
      "Name: topic, dtype: int64\n"
     ]
    }
   ],
   "source": [
    "# How many topics and how many instance per topic ?\n",
    "print(f\" Number of topic :\\n{df['topic'].unique()} \\n\")\n",
    "\n",
    "print(f\"Instance of topic : \\n{df['topic'].value_counts()}\")"
   ]
  },
  {
   "cell_type": "markdown",
   "metadata": {},
   "source": [
    "- We have 3 topics : Chemistry, Other and Physics\n",
    "- Chemistry has 690 instances, Other has 758 instances, and Physics has 722 instances "
   ]
  },
  {
   "cell_type": "markdown",
   "metadata": {},
   "source": [
    "**Exercise 1.2  (6 points)**\n",
    "\n",
    "Define a function \"preprocessing(text)\" which takes as input a string and returns a new, modified string which results from:\n",
    "\n",
    " - tokenizing the input string\n",
    " - lower casing the resulting tokens\n",
    " - removing all tokens that are not made of alphabetical characters (use python isalpha method)\n",
    " - converting the resulting list of tokens back into a string (use python join method)"
   ]
  },
  {
   "cell_type": "code",
   "execution_count": 3,
   "metadata": {},
   "outputs": [],
   "source": [
    "import nltk\n",
    "from nltk.tokenize import word_tokenize\n",
    "\n",
    "def preprocessing(texts:str):\n",
    "    text_ = word_tokenize(texts)\n",
    "    text_ = \" \".join([text.lower() for text in texts.split() if \\\n",
    "                     text.isalpha()])\n",
    "    return text_"
   ]
  },
  {
   "cell_type": "markdown",
   "metadata": {},
   "source": [
    "**Exercise 1.3  (2 points)**\n",
    "\n",
    "- Apply the preprocessing function to the \"answer\" column of the df dataframe provided  above and store the result into a new dataframe called \"clean_answers\".\n",
    "- print out the first 5 rows of this new dataframe \n",
    "\n",
    "**Hint**: Use Pandas \"apply\" and \"head\" methods"
   ]
  },
  {
   "cell_type": "code",
   "execution_count": 4,
   "metadata": {},
   "outputs": [],
   "source": [
    "df['clean_answers'] = df['answer'].apply(preprocessing)"
   ]
  },
  {
   "cell_type": "code",
   "execution_count": 8,
   "metadata": {},
   "outputs": [
    {
     "name": "stdout",
     "output_type": "stream",
     "text": [
      "First 5 rows of the new dataframe : \n",
      "\n"
     ]
    },
    {
     "data": {
      "text/html": [
       "<div>\n",
       "<style scoped>\n",
       "    .dataframe tbody tr th:only-of-type {\n",
       "        vertical-align: middle;\n",
       "    }\n",
       "\n",
       "    .dataframe tbody tr th {\n",
       "        vertical-align: top;\n",
       "    }\n",
       "\n",
       "    .dataframe thead th {\n",
       "        text-align: right;\n",
       "    }\n",
       "</style>\n",
       "<table border=\"1\" class=\"dataframe\">\n",
       "  <thead>\n",
       "    <tr style=\"text-align: right;\">\n",
       "      <th></th>\n",
       "      <th>id</th>\n",
       "      <th>answer</th>\n",
       "      <th>score</th>\n",
       "      <th>topic</th>\n",
       "      <th>clean_answers</th>\n",
       "    </tr>\n",
       "  </thead>\n",
       "  <tbody>\n",
       "    <tr>\n",
       "      <th>0</th>\n",
       "      <td>0</td>\n",
       "      <td>Whoever said that is wrong.The FDA and IWBA ca...</td>\n",
       "      <td>14100.0</td>\n",
       "      <td>Chemistry</td>\n",
       "      <td>whoever said that is fda and iwba find any evi...</td>\n",
       "    </tr>\n",
       "    <tr>\n",
       "      <th>1</th>\n",
       "      <td>1</td>\n",
       "      <td>In Europe you have the time of bottling printe...</td>\n",
       "      <td>1400.0</td>\n",
       "      <td>Chemistry</td>\n",
       "      <td>in europe you have the time of bottling printe...</td>\n",
       "    </tr>\n",
       "    <tr>\n",
       "      <th>2</th>\n",
       "      <td>2</td>\n",
       "      <td>I’d hate to be “that guy” but I was looking an...</td>\n",
       "      <td>47.0</td>\n",
       "      <td>Chemistry</td>\n",
       "      <td>hate to be but i was looking and no one else h...</td>\n",
       "    </tr>\n",
       "    <tr>\n",
       "      <th>3</th>\n",
       "      <td>3</td>\n",
       "      <td>I've heard of several studies that conclude th...</td>\n",
       "      <td>195.0</td>\n",
       "      <td>Chemistry</td>\n",
       "      <td>heard of several studies that conclude that th...</td>\n",
       "    </tr>\n",
       "    <tr>\n",
       "      <th>4</th>\n",
       "      <td>4</td>\n",
       "      <td>UV and heat will degrade the material however.</td>\n",
       "      <td>15.0</td>\n",
       "      <td>Chemistry</td>\n",
       "      <td>uv and heat will degrade the material</td>\n",
       "    </tr>\n",
       "  </tbody>\n",
       "</table>\n",
       "</div>"
      ],
      "text/plain": [
       "   id                                             answer    score      topic  \\\n",
       "0   0  Whoever said that is wrong.The FDA and IWBA ca...  14100.0  Chemistry   \n",
       "1   1  In Europe you have the time of bottling printe...   1400.0  Chemistry   \n",
       "2   2  I’d hate to be “that guy” but I was looking an...     47.0  Chemistry   \n",
       "3   3  I've heard of several studies that conclude th...    195.0  Chemistry   \n",
       "4   4     UV and heat will degrade the material however.     15.0  Chemistry   \n",
       "\n",
       "                                       clean_answers  \n",
       "0  whoever said that is fda and iwba find any evi...  \n",
       "1  in europe you have the time of bottling printe...  \n",
       "2  hate to be but i was looking and no one else h...  \n",
       "3  heard of several studies that conclude that th...  \n",
       "4              uv and heat will degrade the material  "
      ]
     },
     "execution_count": 8,
     "metadata": {},
     "output_type": "execute_result"
    }
   ],
   "source": [
    "print(f\"First 5 rows of the new dataframe : \\n\")\n",
    "df.head()"
   ]
  },
  {
   "cell_type": "markdown",
   "metadata": {},
   "source": [
    "#### Exercice 1.4 - how much does cleaning reduce the size of the input (2 points) ?\n",
    "\n",
    "- Compute the number of unique tokens (vocabulary) contained in (i) the \"answer\" column of the initial dataframe and (ii) the clean_answer dataframe you just created. As the string is very large, feel free to use split to tokenize (rather than a tokenizer)\n",
    "- Print out both numbers"
   ]
  },
  {
   "cell_type": "code",
   "execution_count": 10,
   "metadata": {},
   "outputs": [],
   "source": [
    "clean_text = len(set(df['clean_answers'].str.cat(sep =' ').split()))"
   ]
  },
  {
   "cell_type": "code",
   "execution_count": 11,
   "metadata": {},
   "outputs": [],
   "source": [
    "raw_text = len(set(df['answer'].str.cat(sep =' ').split()))"
   ]
  },
  {
   "cell_type": "code",
   "execution_count": 13,
   "metadata": {},
   "outputs": [
    {
     "name": "stdout",
     "output_type": "stream",
     "text": [
      "Number of tokens before cleaning : \n",
      "20980\n",
      " Number of tokens after cleaning :\n",
      " 9088\n"
     ]
    }
   ],
   "source": [
    "print(f\"Number of tokens before cleaning : \\n{raw_text}\\n Number of tokens after cleaning :\\n {clean_text}\")"
   ]
  },
  {
   "cell_type": "markdown",
   "metadata": {},
   "source": [
    "- The cleaning reduces the size of vocabulary from **20980** to **9088**. That is **43,4%** of the initial size !"
   ]
  },
  {
   "cell_type": "markdown",
   "metadata": {},
   "source": [
    "**Exercise 1.5 (OPTIONAL, 2 BONUS POINTS)**\n",
    "\n",
    "- Define a function \"get_content_words(text)\" which takes as input a string and returns the nouns and verbs it contains as a string\n",
    "- Apply this function to the \"answer\" column of the df dataframe and store the result into a new dataframe called \"cw_df\".\n",
    "- Compute the number of unique tokens contained in (i) the \"answer\" column of the initial dataframe df and (ii) the content words column of the cw_df dataframe you just created\n",
    "- Print out both numbers\n",
    "\n",
    "\n",
    "_**Hints**_ \n",
    "- the spacy pos tags for verbs and nouns are 'VERB' and 'NOUN' respectively. \n",
    "- str(x) converts x to a string (you might need this when using spacy)"
   ]
  },
  {
   "cell_type": "code",
   "execution_count": 14,
   "metadata": {},
   "outputs": [],
   "source": [
    "import spacy\n",
    "nlp = spacy.load(\"en_core_web_sm\")\n",
    "pos = ['NOUN','VERB']\n",
    "def get_content_word(texts:str):\n",
    "    #text_ = \" \".join([text.lower() for text in texts.split() if text not in stopword and \\\n",
    "                     #text.isalpha() and len(text) > 2])\n",
    "    texts = nlp(texts)\n",
    "    l = [text for text in texts if text.pos_ in pos]\n",
    "    return str(l)[1:-1]"
   ]
  },
  {
   "cell_type": "code",
   "execution_count": 15,
   "metadata": {},
   "outputs": [],
   "source": [
    "cw_df = df['answer'].apply(get_content_word)\n",
    "cw_df = pd.DataFrame(data=cw_df)\n",
    "cw_df = cw_df.rename(columns={\"answer\":\"content_word\"})"
   ]
  },
  {
   "cell_type": "code",
   "execution_count": 17,
   "metadata": {},
   "outputs": [],
   "source": [
    "answer_tokens = len(set(df['answer'].str.cat(sep =' ').split()))\n",
    "cw_tokens = len(set(cw_df['content_word'].str.cat(sep =' ').split()))"
   ]
  },
  {
   "cell_type": "code",
   "execution_count": 23,
   "metadata": {},
   "outputs": [
    {
     "name": "stdout",
     "output_type": "stream",
     "text": [
      "Number of unique tokens before cleaning : \n",
      "20980\n",
      "      Number of unique tokens for content word :\n",
      " 10162\n"
     ]
    }
   ],
   "source": [
    "print(f\"Number of unique tokens before cleaning : \\n{answer_tokens}\\n\\\n",
    "      Number of unique tokens for content word :\\n {cw_tokens}\")"
   ]
  },
  {
   "cell_type": "markdown",
   "metadata": {},
   "source": [
    "- The number of unique tokens is **10162**. It is high than the cleaned text (10162 for the content word and 9088 for the cleaned text. The difference may come from the difference of tokenization process between **spacy** and **nltk**"
   ]
  },
  {
   "cell_type": "markdown",
   "metadata": {},
   "source": [
    "#### Exercise 1.6: Create training data for the clustering exercise  (2 points) \n",
    "\n",
    "- Extract the topic column of the df dataframe \n",
    "- Create a new dataframe called \"data_df\" containing columns  for \n",
    "\n",
    " - the cleaned up answers\n",
    " - the topics of each answer\n",
    " - content words (if you have computed them for the BONUS point questions)\n",
    " \n",
    "**Hint**: Use pandas concat method\n",
    "\n",
    "\n",
    "The output should be something like this if you did the bonus questions, else it will only contain the clean answers and the topic column:\n",
    "\n",
    "![title](x1.6.png)\n"
   ]
  },
  {
   "cell_type": "code",
   "execution_count": 24,
   "metadata": {},
   "outputs": [],
   "source": [
    "data_df = pd.concat([df[[\"clean_answers\", \"topic\"]],\n",
    "                     cw_df], axis = 1)"
   ]
  },
  {
   "cell_type": "code",
   "execution_count": 25,
   "metadata": {},
   "outputs": [
    {
     "data": {
      "text/html": [
       "<div>\n",
       "<style scoped>\n",
       "    .dataframe tbody tr th:only-of-type {\n",
       "        vertical-align: middle;\n",
       "    }\n",
       "\n",
       "    .dataframe tbody tr th {\n",
       "        vertical-align: top;\n",
       "    }\n",
       "\n",
       "    .dataframe thead th {\n",
       "        text-align: right;\n",
       "    }\n",
       "</style>\n",
       "<table border=\"1\" class=\"dataframe\">\n",
       "  <thead>\n",
       "    <tr style=\"text-align: right;\">\n",
       "      <th></th>\n",
       "      <th>clean_answers</th>\n",
       "      <th>topic</th>\n",
       "      <th>content_word</th>\n",
       "    </tr>\n",
       "  </thead>\n",
       "  <tbody>\n",
       "    <tr>\n",
       "      <th>0</th>\n",
       "      <td>whoever said that is fda and iwba find any evi...</td>\n",
       "      <td>Chemistry</td>\n",
       "      <td>said, find, evidence, age, matters, water, bot...</td>\n",
       "    </tr>\n",
       "    <tr>\n",
       "      <th>1</th>\n",
       "      <td>in europe you have the time of bottling printe...</td>\n",
       "      <td>Chemistry</td>\n",
       "      <td>have, time, bottling, printed, bottle, way, fi...</td>\n",
       "    </tr>\n",
       "    <tr>\n",
       "      <th>2</th>\n",
       "      <td>hate to be but i was looking and no one else h...</td>\n",
       "      <td>Chemistry</td>\n",
       "      <td>’d, hate, guy, looking, one, chimed, bought, h...</td>\n",
       "    </tr>\n",
       "    <tr>\n",
       "      <th>3</th>\n",
       "      <td>heard of several studies that conclude that th...</td>\n",
       "      <td>Chemistry</td>\n",
       "      <td>heard, studies, conclude, bottles, leach, chem...</td>\n",
       "    </tr>\n",
       "    <tr>\n",
       "      <th>4</th>\n",
       "      <td>uv and heat will degrade the material</td>\n",
       "      <td>Chemistry</td>\n",
       "      <td>UV, heat, degrade, material</td>\n",
       "    </tr>\n",
       "  </tbody>\n",
       "</table>\n",
       "</div>"
      ],
      "text/plain": [
       "                                       clean_answers      topic  \\\n",
       "0  whoever said that is fda and iwba find any evi...  Chemistry   \n",
       "1  in europe you have the time of bottling printe...  Chemistry   \n",
       "2  hate to be but i was looking and no one else h...  Chemistry   \n",
       "3  heard of several studies that conclude that th...  Chemistry   \n",
       "4              uv and heat will degrade the material  Chemistry   \n",
       "\n",
       "                                        content_word  \n",
       "0  said, find, evidence, age, matters, water, bot...  \n",
       "1  have, time, bottling, printed, bottle, way, fi...  \n",
       "2  ’d, hate, guy, looking, one, chimed, bought, h...  \n",
       "3  heard, studies, conclude, bottles, leach, chem...  \n",
       "4                        UV, heat, degrade, material  "
      ]
     },
     "execution_count": 25,
     "metadata": {},
     "output_type": "execute_result"
    }
   ],
   "source": [
    "data_df.head()"
   ]
  },
  {
   "cell_type": "markdown",
   "metadata": {},
   "source": [
    "## 2 - Statistics and Visualisation (6 points)"
   ]
  },
  {
   "cell_type": "markdown",
   "metadata": {},
   "source": [
    "#### Exercise 2.1  (4 points) \n",
    "\n",
    "- Define a function \"tokenize_and_count\" which takes as input a string, tokenizes it and returns the number of tokens produced.\n",
    "- Apply this function to the \"answer\" content of the data_df dataframe created in Exercise 1.3 and update data_df with the results.   \n",
    "data_df should now contain 3 columns with headers \"answer\", \"topic\" and \"nb_tokens\".\n",
    "\n",
    "The output should be something like this (or only the columns clean answers, topic and nb_tokens if did not do the bonus questions):\n",
    "\n",
    "![title](x2.1.png)\n"
   ]
  },
  {
   "cell_type": "code",
   "execution_count": 26,
   "metadata": {},
   "outputs": [],
   "source": [
    "def tokenize_and_count(texts:str):\n",
    "    text_ = word_tokenize(texts)\n",
    "    return len(text_)"
   ]
  },
  {
   "cell_type": "code",
   "execution_count": 27,
   "metadata": {},
   "outputs": [],
   "source": [
    "data_df['nb_tokens'] = data_df['clean_answers'].apply(tokenize_and_count)\n",
    "data_df['nb_cw'] = data_df['content_word'].apply(tokenize_and_count)"
   ]
  },
  {
   "cell_type": "code",
   "execution_count": 28,
   "metadata": {},
   "outputs": [
    {
     "data": {
      "text/html": [
       "<div>\n",
       "<style scoped>\n",
       "    .dataframe tbody tr th:only-of-type {\n",
       "        vertical-align: middle;\n",
       "    }\n",
       "\n",
       "    .dataframe tbody tr th {\n",
       "        vertical-align: top;\n",
       "    }\n",
       "\n",
       "    .dataframe thead th {\n",
       "        text-align: right;\n",
       "    }\n",
       "</style>\n",
       "<table border=\"1\" class=\"dataframe\">\n",
       "  <thead>\n",
       "    <tr style=\"text-align: right;\">\n",
       "      <th></th>\n",
       "      <th>clean_answers</th>\n",
       "      <th>topic</th>\n",
       "      <th>content_word</th>\n",
       "      <th>nb_tokens</th>\n",
       "      <th>nb_cw</th>\n",
       "    </tr>\n",
       "  </thead>\n",
       "  <tbody>\n",
       "    <tr>\n",
       "      <th>0</th>\n",
       "      <td>whoever said that is fda and iwba find any evi...</td>\n",
       "      <td>Chemistry</td>\n",
       "      <td>said, find, evidence, age, matters, water, bot...</td>\n",
       "      <td>122</td>\n",
       "      <td>117</td>\n",
       "    </tr>\n",
       "    <tr>\n",
       "      <th>1</th>\n",
       "      <td>in europe you have the time of bottling printe...</td>\n",
       "      <td>Chemistry</td>\n",
       "      <td>have, time, bottling, printed, bottle, way, fi...</td>\n",
       "      <td>26</td>\n",
       "      <td>19</td>\n",
       "    </tr>\n",
       "    <tr>\n",
       "      <th>2</th>\n",
       "      <td>hate to be but i was looking and no one else h...</td>\n",
       "      <td>Chemistry</td>\n",
       "      <td>’d, hate, guy, looking, one, chimed, bought, h...</td>\n",
       "      <td>37</td>\n",
       "      <td>38</td>\n",
       "    </tr>\n",
       "    <tr>\n",
       "      <th>3</th>\n",
       "      <td>heard of several studies that conclude that th...</td>\n",
       "      <td>Chemistry</td>\n",
       "      <td>heard, studies, conclude, bottles, leach, chem...</td>\n",
       "      <td>51</td>\n",
       "      <td>41</td>\n",
       "    </tr>\n",
       "    <tr>\n",
       "      <th>4</th>\n",
       "      <td>uv and heat will degrade the material</td>\n",
       "      <td>Chemistry</td>\n",
       "      <td>UV, heat, degrade, material</td>\n",
       "      <td>7</td>\n",
       "      <td>7</td>\n",
       "    </tr>\n",
       "  </tbody>\n",
       "</table>\n",
       "</div>"
      ],
      "text/plain": [
       "                                       clean_answers      topic  \\\n",
       "0  whoever said that is fda and iwba find any evi...  Chemistry   \n",
       "1  in europe you have the time of bottling printe...  Chemistry   \n",
       "2  hate to be but i was looking and no one else h...  Chemistry   \n",
       "3  heard of several studies that conclude that th...  Chemistry   \n",
       "4              uv and heat will degrade the material  Chemistry   \n",
       "\n",
       "                                        content_word  nb_tokens  nb_cw  \n",
       "0  said, find, evidence, age, matters, water, bot...        122    117  \n",
       "1  have, time, bottling, printed, bottle, way, fi...         26     19  \n",
       "2  ’d, hate, guy, looking, one, chimed, bought, h...         37     38  \n",
       "3  heard, studies, conclude, bottles, leach, chem...         51     41  \n",
       "4                        UV, heat, degrade, material          7      7  "
      ]
     },
     "execution_count": 28,
     "metadata": {},
     "output_type": "execute_result"
    }
   ],
   "source": [
    "data_df.head()"
   ]
  },
  {
   "cell_type": "markdown",
   "metadata": {},
   "source": [
    "#### Exercise 2.2  (2 points) \n",
    "\n",
    "Plot the histogram of number of tokens"
   ]
  },
  {
   "cell_type": "code",
   "execution_count": 30,
   "metadata": {},
   "outputs": [
    {
     "data": {
      "image/png": "[encoded data removed]",
      "text/plain": [
       "<Figure size 432x432 with 1 Axes>"
      ]
     },
     "metadata": {
      "needs_background": "light"
     },
     "output_type": "display_data"
    }
   ],
   "source": [
    "import matplotlib.pyplot as plt\n",
    "import seaborn as sns\n",
    "plt.figure(figsize =(6,6))\n",
    "sns.histplot(data= data_df, x='nb_tokens', bins= 30);"
   ]
  },
  {
   "cell_type": "markdown",
   "metadata": {},
   "source": [
    "- Most of the answers have some number of tokens less than **100**"
   ]
  },
  {
   "cell_type": "markdown",
   "metadata": {},
   "source": [
    "## 3 - Clustering (10 points)"
   ]
  },
  {
   "cell_type": "markdown",
   "metadata": {},
   "source": [
    "#### Exercise 3.1  (2 points) \n",
    "\n",
    "Use sklearn [TfidfVectorizer]( https://scikit-learn.org/stable/modules/generated/sklearn.feature_extraction.text.TfidfVectorizer.html) method to turn the clean answers (or the content words) into a TF-IDF matrix where each row represents an answer, the columns are tokens and the cell contains the tf-idf score of each token.\n",
    "\n",
    "* Import the TfidfVectorizer method from sklearn\n",
    "* Create a tf-idf vectorizer. The maximum nb of features should be set to 8000. Set use_idf to True, stop_words to \"english\" and the tokenizer to nltk.word_tokenize.\n",
    "* set \n",
    "* Apply the tfidf_vectorizer.fit_transform method to the clean answers (extract these from the data_df dataframe created in Exercise 1.6) "
   ]
  },
  {
   "cell_type": "code",
   "execution_count": 32,
   "metadata": {},
   "outputs": [],
   "source": [
    "X = data_df['clean_answers']\n",
    "from sklearn.feature_extraction.text import TfidfVectorizer\n",
    "vectorizer = TfidfVectorizer(use_idf=True,\n",
    "                            stop_words='english',\n",
    "                             max_features=8000,\n",
    "                            tokenizer=nltk.word_tokenize)\n",
    "X_vec = vectorizer.fit_transform(X)"
   ]
  },
  {
   "cell_type": "markdown",
   "metadata": {},
   "source": [
    "- Here **clean_answers** will be used as features"
   ]
  },
  {
   "cell_type": "markdown",
   "metadata": {},
   "source": [
    "#### Exercise 3.2 Training a K-means clustering model  (2 points) \n",
    "\n",
    "* Create a K-means object (import KMeans from sklearn.cluster)\n",
    "* train this object on the tf-idf matrix you created from the data (use the kmeans fit method)"
   ]
  },
  {
   "cell_type": "code",
   "execution_count": 34,
   "metadata": {},
   "outputs": [],
   "source": [
    "from sklearn.cluster import KMeans\n",
    "kmeans = KMeans(n_clusters=5) \n",
    "cluster = kmeans.fit(X_vec)"
   ]
  },
  {
   "cell_type": "markdown",
   "metadata": {},
   "source": [
    "-The number of cluster chosen is **5**, default from sklearn"
   ]
  },
  {
   "cell_type": "markdown",
   "metadata": {},
   "source": [
    "#### Exercise 3.3 Print out the top terms of each clusters  (4 points) "
   ]
  },
  {
   "cell_type": "code",
   "execution_count": null,
   "metadata": {},
   "outputs": [],
   "source": []
  },
  {
   "cell_type": "code",
   "execution_count": 35,
   "metadata": {},
   "outputs": [
    {
     "name": "stdout",
     "output_type": "stream",
     "text": [
      "Cluster 0:\n",
      " water\n",
      " ice\n",
      " salt\n",
      " liquid\n",
      " just\n",
      " actually\n",
      " oil\n",
      " soap\n",
      " use\n",
      " pressure\n",
      "Cluster 1:\n",
      " energy\n",
      " light\n",
      " heat\n",
      " like\n",
      " object\n",
      " explain\n",
      " just\n",
      " feel\n",
      " mass\n",
      " gravity\n",
      "Cluster 2:\n",
      " like\n",
      " just\n",
      " good\n",
      " know\n",
      " really\n",
      " people\n",
      " does\n",
      " air\n",
      " use\n",
      " actually\n",
      "Cluster 3:\n",
      " thank\n",
      " makes\n",
      " concise\n",
      " understand\n",
      " cool\n",
      " brilliant\n",
      " wonderful\n",
      " bringing\n",
      " curious\n",
      " analogy\n",
      "Cluster 4:\n",
      " solid\n",
      " linear\n",
      " auto\n",
      " ease\n",
      " infinite\n",
      " label\n",
      " sense\n",
      " deal\n",
      " great\n",
      " people\n"
     ]
    }
   ],
   "source": [
    "centroid = cluster.cluster_centers_.argsort()[:, ::-1]\n",
    "terms = vectorizer.get_feature_names_out()\n",
    "k = 5\n",
    "for i in range(k):\n",
    "    print(\"Cluster %d:\" % i),\n",
    "    for ind in centroid[i, :10]:\n",
    "        print(' %s' % terms[ind])"
   ]
  },
  {
   "cell_type": "markdown",
   "metadata": {},
   "source": [
    "- **10** top terms is printed for each cluster\n",
    "- For **cluster_0**, the 10 top terms seems to related to some liquids like water, oil, salt. That may come from chemestry.\n",
    "- For **cluster_1**, the 10 top terms are mostly related to physics terms such as energy, light etc\n",
    "- For **cluster_2**, many of the 10 top terms are mostly related to some comparison terms used in these fields\n",
    "- For **cluster_3**, terms seems to come from results and conclusion \n",
    "- For **cluster_4**, we find many terms related to the physics domain like solid, infinite, linear"
   ]
  },
  {
   "cell_type": "markdown",
   "metadata": {},
   "source": [
    "#### Exercise 3.4 Evaluate the clusters  (2 points) \n",
    "\n",
    "* Import metrics from sklearns and compute homogeneity, completeness, v_measure, adjusted rand index and silhouette coefficient\n",
    "* Print each score out\n",
    "\n",
    "**Hint**: the metrics methods (homogeneity_score, completeness_score etc.) take as input the list of true labels (Y) and the list of predicted labels which you can get using kmeans labels_ attribute on the clustering model you have learned in the previous exercise (e.g., km.labels_ if you've called your model km)."
   ]
  },
  {
   "cell_type": "code",
   "execution_count": 37,
   "metadata": {},
   "outputs": [],
   "source": [
    "df_cluster = pd.concat([data_df.drop(['nb_tokens', 'nb_cw'],axis = 1), \n",
    "                        pd.DataFrame(cluster.labels_, columns = ['clusters'])], axis =1)"
   ]
  },
  {
   "cell_type": "code",
   "execution_count": 38,
   "metadata": {},
   "outputs": [
    {
     "name": "stdout",
     "output_type": "stream",
     "text": [
      "Homogeneity : 0.08923623815940307\n",
      "Completeness : 1.0000000000000004\n",
      "V_measure : 0.16385102704661192\n",
      "Adjusted_rand_score : 4.520756750884104e-05\n"
     ]
    }
   ],
   "source": [
    "from sklearn.metrics import homogeneity_score, completeness_score, v_measure_score, adjusted_rand_score\n",
    "print(f\"Homogeneity : {homogeneity_score(df_cluster['clean_answers'], df_cluster['clusters'])}\")\n",
    "print(f\"Completeness : {completeness_score(df_cluster['clean_answers'], df_cluster['clusters'])}\")\n",
    "print(f\"V_measure : {v_measure_score(df_cluster['clean_answers'], df_cluster['clusters'])}\")\n",
    "print(f\"Adjusted_rand_score : {adjusted_rand_score(df_cluster['clean_answers'], df_cluster['clusters'])}\")"
   ]
  },
  {
   "cell_type": "markdown",
   "metadata": {},
   "source": [
    "#### Visualising the clusters (PROVIDED)\n",
    "\n",
    "You might need to adjust the variables to fit your code"
   ]
  },
  {
   "cell_type": "code",
   "execution_count": 40,
   "metadata": {},
   "outputs": [
    {
     "ename": "KeyError",
     "evalue": "3",
     "output_type": "error",
     "traceback": [
      "\u001b[1;31m---------------------------------------------------------------------------\u001b[0m",
      "\u001b[1;31mKeyError\u001b[0m                                  Traceback (most recent call last)",
      "Input \u001b[1;32mIn [40]\u001b[0m, in \u001b[0;36m<module>\u001b[1;34m\u001b[0m\n\u001b[0;32m     30\u001b[0m \u001b[38;5;66;03m#iterate through groups to layer the plot\u001b[39;00m\n\u001b[0;32m     31\u001b[0m \u001b[38;5;28;01mfor\u001b[39;00m name, group \u001b[38;5;129;01min\u001b[39;00m groups:\n\u001b[0;32m     32\u001b[0m     ax\u001b[38;5;241m.\u001b[39mplot(group\u001b[38;5;241m.\u001b[39mx, group\u001b[38;5;241m.\u001b[39my, marker\u001b[38;5;241m=\u001b[39m\u001b[38;5;124m'\u001b[39m\u001b[38;5;124mo\u001b[39m\u001b[38;5;124m'\u001b[39m, linestyle\u001b[38;5;241m=\u001b[39m\u001b[38;5;124m'\u001b[39m\u001b[38;5;124m'\u001b[39m, ms\u001b[38;5;241m=\u001b[39m\u001b[38;5;241m12\u001b[39m, \n\u001b[1;32m---> 33\u001b[0m             label\u001b[38;5;241m=\u001b[39m\u001b[43mcluster_names\u001b[49m\u001b[43m[\u001b[49m\u001b[43mname\u001b[49m\u001b[43m]\u001b[49m, \n\u001b[0;32m     34\u001b[0m             color\u001b[38;5;241m=\u001b[39mcluster_colors[name], \n\u001b[0;32m     35\u001b[0m             mec\u001b[38;5;241m=\u001b[39m\u001b[38;5;124m'\u001b[39m\u001b[38;5;124mnone\u001b[39m\u001b[38;5;124m'\u001b[39m)\n\u001b[0;32m     36\u001b[0m     ax\u001b[38;5;241m.\u001b[39mset_aspect(\u001b[38;5;124m'\u001b[39m\u001b[38;5;124mauto\u001b[39m\u001b[38;5;124m'\u001b[39m)\n\u001b[0;32m     37\u001b[0m     ax\u001b[38;5;241m.\u001b[39mtick_params(\\\n\u001b[0;32m     38\u001b[0m         axis\u001b[38;5;241m=\u001b[39m \u001b[38;5;124m'\u001b[39m\u001b[38;5;124mx\u001b[39m\u001b[38;5;124m'\u001b[39m,\n\u001b[0;32m     39\u001b[0m         which\u001b[38;5;241m=\u001b[39m\u001b[38;5;124m'\u001b[39m\u001b[38;5;124mboth\u001b[39m\u001b[38;5;124m'\u001b[39m,\n\u001b[0;32m     40\u001b[0m         bottom\u001b[38;5;241m=\u001b[39m\u001b[38;5;28;01mFalse\u001b[39;00m,\n\u001b[0;32m     41\u001b[0m         top\u001b[38;5;241m=\u001b[39m\u001b[38;5;28;01mFalse\u001b[39;00m,\n\u001b[0;32m     42\u001b[0m         labelbottom\u001b[38;5;241m=\u001b[39m\u001b[38;5;28;01mFalse\u001b[39;00m)\n",
      "\u001b[1;31mKeyError\u001b[0m: 3"
     ]
    },
    {
     "data": {
      "image/png": "[encoded data removed]",
      "text/plain": [
       "<Figure size 1224x648 with 1 Axes>"
      ]
     },
     "metadata": {},
     "output_type": "display_data"
    }
   ],
   "source": [
    "from sklearn.metrics.pairwise import cosine_similarity\n",
    "from sklearn.manifold import MDS\n",
    "\n",
    "dist = 1 - cosine_similarity(X_vec)\n",
    "\n",
    "# Use multidimensional scaling to convert the dist matrix into a 2-dimensional array\n",
    "MDS()\n",
    "\n",
    "# n_components=2 to plot results in a two-dimensional plane\n",
    "mds = MDS(n_components=2, dissimilarity=\"precomputed\", random_state=1)\n",
    "pos = mds.fit_transform(dist)\n",
    "xs, ys = pos[:, 0], pos[:, 1]\n",
    "\n",
    "#set up colors per clusters\n",
    "cluster_colors = {0: '#1b9e77', 1: '#d95f02', 2: '#7570b3'}\n",
    "\n",
    "#set up cluster names\n",
    "cluster_names = {0: 'Other', 1: 'Chemistry', 2: 'Physics'}\n",
    "\n",
    "#create data frame that has the result of the MDS plus the cluster numbers and titles\n",
    "df = pd.DataFrame(dict(x=xs, y=ys, label=kmeans.labels_.tolist()))\n",
    "\n",
    "#group by cluster\n",
    "groups = df.groupby('label')\n",
    "\n",
    "# set up plot\n",
    "fig, ax = plt.subplots(figsize=(17, 9))\n",
    "ax.margins(0.05)\n",
    "\n",
    "#iterate through groups to layer the plot\n",
    "for name, group in groups:\n",
    "    ax.plot(group.x, group.y, marker='o', linestyle='', ms=12, \n",
    "            label=cluster_names[name], \n",
    "            color=cluster_colors[name], \n",
    "            mec='none')\n",
    "    ax.set_aspect('auto')\n",
    "    ax.tick_params(\\\n",
    "        axis= 'x',\n",
    "        which='both',\n",
    "        bottom=False,\n",
    "        top=False,\n",
    "        labelbottom=False)\n",
    "    ax.tick_params(\\\n",
    "        axis= 'y',\n",
    "        which='both',\n",
    "        left=False,\n",
    "        top=False,\n",
    "        labelleft=False)\n",
    "    \n",
    "ax.legend(numpoints=1)\n",
    "plt.show()"
   ]
  },
  {
   "cell_type": "markdown",
   "metadata": {},
   "source": [
    "- The visualisation shows some clusters very well, but some non-linear transformation like **TSNE** may group well the clusters"
   ]
  },
  {
   "cell_type": "code",
   "execution_count": null,
   "metadata": {},
   "outputs": [],
   "source": []
  }
 ],
 "metadata": {
  "kernelspec": {
   "display_name": "Python 3 (ipykernel)",
   "language": "python",
   "name": "python3"
  },
  "language_info": {
   "codemirror_mode": {
    "name": "ipython",
    "version": 3
   },
   "file_extension": ".py",
   "mimetype": "text/x-python",
   "name": "python",
   "nbconvert_exporter": "python",
   "pygments_lexer": "ipython3",
   "version": "3.9.6"
  }
 },
 "nbformat": 4,
 "nbformat_minor": 4
}
