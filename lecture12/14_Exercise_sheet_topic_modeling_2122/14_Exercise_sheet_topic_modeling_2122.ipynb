{
 "cells": [
  {
   "cell_type": "markdown",
   "metadata": {},
   "source": [
    "# Exercises Lecture 12: Topic Modeling (Gensim)\n",
    "\n",
    "In this notebook, we use LDA to perform topic modeling on a corpus of Wikipedia articles from 16 categories:\n",
    "\n",
    "Airports, Artists, Astronauts, Astronomical_objects, Building,City,Comics_characters, Companies,Foods, Monuments_and_memorials,Politicians,Sports_teams,Sportspeople, Transport, Universities_and_colleges, Written_communication..\n",
    "\n",
    "The assignment involves the following steps:\n",
    "\n",
    "* Preparing the data  \n",
    "* Training an LDA model\n",
    "* Interpreting the results of the LDA model\n",
    "   - Printing out the topk relevant tokens for each topic\n",
    "   - Computing coherence\n",
    "   - Visualising the topic graph\n",
    "\n",
    "Data: wkp_sorted.zip      \n",
    "\n",
    "Python libraries\n",
    "- sklearn.datasets to load data \n",
    "- pandas\n",
    "- WordCloud\n",
    "- gensim for topic modeling  \n",
    "\n",
    "Cheat sheets\n",
    "- clustering_cheat_sheet.ipynb   \n",
    "- topic_modeling_cheat_sheet.ipynb\n",
    " "
   ]
  },
  {
   "cell_type": "markdown",
   "metadata": {},
   "source": [
    "#### Installing dependent packages"
   ]
  },
  {
   "cell_type": "code",
   "execution_count": null,
   "metadata": {},
   "outputs": [],
   "source": [
    "# To be run only once\n",
    "#!pip install gensim\n",
    "#!pip install PyLDAvis\n",
    "#!pip install spacy\n",
    "#!python -m spacy download en_core_web_sm"
   ]
  },
  {
   "cell_type": "code",
   "execution_count": 1,
   "metadata": {},
   "outputs": [],
   "source": [
    "from sklearn.datasets import load_files\n",
    "import pandas as pd\n",
    "import numpy as np\n",
    "import os\n",
    "import re\n",
    "import nltk\n",
    "import spacy\n",
    "from nltk.corpus import stopwords\n",
    "nlp = spacy.load(\"en_core_web_sm\")"
   ]
  },
  {
   "cell_type": "code",
   "execution_count": 2,
   "metadata": {},
   "outputs": [],
   "source": [
    "stopword = stopwords.words('english')"
   ]
  },
  {
   "cell_type": "code",
   "execution_count": null,
   "metadata": {},
   "outputs": [],
   "source": []
  },
  {
   "cell_type": "markdown",
   "metadata": {},
   "source": [
    "## Generating a word cloud"
   ]
  },
  {
   "cell_type": "markdown",
   "metadata": {},
   "source": [
    "**Exercise 1** \n",
    "\n",
    "* Create a pandas dataframe containing a column for the text of each Wikipedia article included in  \"wkp_sorted/\". \n",
    "* Use sklearn.datasets load_files method (cf. clustering CS) "
   ]
  },
  {
   "cell_type": "code",
   "execution_count": 3,
   "metadata": {},
   "outputs": [],
   "source": [
    "os.chdir('/experiments/cours nlp/data science/lecture12/')\n",
    "d = load_files(\"wkp_sorted/\", encoding = \"utf8\")\n",
    "df = pd.DataFrame(zip(d['data'], d['target'], d['filenames']),  columns=['Text','Target', 'Filenames'])\n",
    "df.Filenames = df.Filenames.apply(os.path.basename)\n",
    "df['Target_name'] = df.Target.apply(lambda x : d['target_names'][x])"
   ]
  },
  {
   "cell_type": "code",
   "execution_count": 4,
   "metadata": {},
   "outputs": [
    {
     "data": {
      "text/html": [
       "<div>\n",
       "<style scoped>\n",
       "    .dataframe tbody tr th:only-of-type {\n",
       "        vertical-align: middle;\n",
       "    }\n",
       "\n",
       "    .dataframe tbody tr th {\n",
       "        vertical-align: top;\n",
       "    }\n",
       "\n",
       "    .dataframe thead th {\n",
       "        text-align: right;\n",
       "    }\n",
       "</style>\n",
       "<table border=\"1\" class=\"dataframe\">\n",
       "  <thead>\n",
       "    <tr style=\"text-align: right;\">\n",
       "      <th></th>\n",
       "      <th>Text</th>\n",
       "      <th>Target</th>\n",
       "      <th>Filenames</th>\n",
       "      <th>Target_name</th>\n",
       "    </tr>\n",
       "  </thead>\n",
       "  <tbody>\n",
       "    <tr>\n",
       "      <th>0</th>\n",
       "      <td>The Cardiff Roller Collective (CRoC) are a rol...</td>\n",
       "      <td>11</td>\n",
       "      <td>Cardiff_Roller_Collective_Sports_teams.txt</td>\n",
       "      <td>Sports_teams</td>\n",
       "    </tr>\n",
       "    <tr>\n",
       "      <th>1</th>\n",
       "      <td>\"Go! Pack Go!\" is the fight song of the Green ...</td>\n",
       "      <td>11</td>\n",
       "      <td>Go!_You_Packers_Go!_Sports_teams.txt</td>\n",
       "      <td>Sports_teams</td>\n",
       "    </tr>\n",
       "    <tr>\n",
       "      <th>2</th>\n",
       "      <td>Al-Machriq (English translation: The East) was...</td>\n",
       "      <td>14</td>\n",
       "      <td>Al-Machriq_Universities_and_colleges.txt</td>\n",
       "      <td>Universities_and_colleges</td>\n",
       "    </tr>\n",
       "    <tr>\n",
       "      <th>3</th>\n",
       "      <td>Ajman International Airport (Arabic: مطار عجما...</td>\n",
       "      <td>0</td>\n",
       "      <td>Ajman_International_Airport_Airports.txt</td>\n",
       "      <td>Airports</td>\n",
       "    </tr>\n",
       "    <tr>\n",
       "      <th>4</th>\n",
       "      <td>Kapla is a construction set for children and a...</td>\n",
       "      <td>4</td>\n",
       "      <td>Kapla_Building.txt</td>\n",
       "      <td>Building</td>\n",
       "    </tr>\n",
       "  </tbody>\n",
       "</table>\n",
       "</div>"
      ],
      "text/plain": [
       "                                                Text  Target  \\\n",
       "0  The Cardiff Roller Collective (CRoC) are a rol...      11   \n",
       "1  \"Go! Pack Go!\" is the fight song of the Green ...      11   \n",
       "2  Al-Machriq (English translation: The East) was...      14   \n",
       "3  Ajman International Airport (Arabic: مطار عجما...       0   \n",
       "4  Kapla is a construction set for children and a...       4   \n",
       "\n",
       "                                    Filenames                Target_name  \n",
       "0  Cardiff_Roller_Collective_Sports_teams.txt               Sports_teams  \n",
       "1        Go!_You_Packers_Go!_Sports_teams.txt               Sports_teams  \n",
       "2    Al-Machriq_Universities_and_colleges.txt  Universities_and_colleges  \n",
       "3    Ajman_International_Airport_Airports.txt                   Airports  \n",
       "4                          Kapla_Building.txt                   Building  "
      ]
     },
     "execution_count": 4,
     "metadata": {},
     "output_type": "execute_result"
    }
   ],
   "source": [
    "df.head()"
   ]
  },
  {
   "cell_type": "markdown",
   "metadata": {},
   "source": [
    "**Exercise 2:** Generate a word cloud (topic_modeling CS)\n",
    "\n",
    "* The WordCloud method takes as input the corpus as a single string. \n",
    "* Use pandas str.cat method to concatenate the content of the \"story_str\" column into a single string"
   ]
  },
  {
   "cell_type": "code",
   "execution_count": 5,
   "metadata": {},
   "outputs": [],
   "source": [
    "story_str = df['Text'].str.cat(sep = ' ')"
   ]
  },
  {
   "cell_type": "markdown",
   "metadata": {},
   "source": [
    "## Pre-processing the data"
   ]
  },
  {
   "cell_type": "markdown",
   "metadata": {},
   "source": [
    "**Exercise 3:** Preparing the corpus for topic modeling\n",
    "\n",
    "Gensim topic modeling module takes as input a list of tokens.\n",
    "\n",
    " - Define a clean_up function which takes as input a list of texts and outputs the list of lemmas for tokens in the input which :\n",
    "* are not stop words  (spacy CS)\n",
    "* only contains characters (python_basic CS) \n",
    "* whose length is greater than 2\n",
    "* whose spacy POS tag is not 'ADV','PRON','CCONJ','PUNCT','PART','DET','ADP'or 'SPACE'  (spacy CS)\n",
    "\n",
    "- Apply this function to the 'text' column of the Wikipedia dataframe (cf. Ex. 1 and 2)   \n",
    "_**Help**_ : use pandas apply method"
   ]
  },
  {
   "cell_type": "code",
   "execution_count": 6,
   "metadata": {},
   "outputs": [],
   "source": [
    "pos = ['ADV','PRON','CCONJ','PUNCT','PART','DET','ADP','SPACE']\n",
    "def clean_up(texts:str):\n",
    "    text_ = \" \".join([text.lower() for text in texts.split() if text not in stopword and \\\n",
    "                     text.isalpha() and len(text) > 2])\n",
    "    texts = nlp(text_)\n",
    "    l = [text.lemma_ for text in texts if text.pos_ not in pos]\n",
    "    return l"
   ]
  },
  {
   "cell_type": "code",
   "execution_count": 7,
   "metadata": {},
   "outputs": [],
   "source": [
    "clean_text = df['Text'].apply(clean_up)"
   ]
  },
  {
   "cell_type": "markdown",
   "metadata": {},
   "source": [
    "## Learn a topic model"
   ]
  },
  {
   "cell_type": "code",
   "execution_count": 8,
   "metadata": {},
   "outputs": [
    {
     "data": {
      "text/plain": [
       "0      [cardiff, roller, collective, roller, sport, l...\n",
       "1      [pack, fight, song, green, bay, first, profess...\n",
       "2      [journal, found, jesuit, chaldean, priest, lou...\n",
       "3      [ajman, international, airport, مطار, عجمان, u...\n",
       "4      [kapla, construction, set, child, set, consist...\n",
       "                             ...                        \n",
       "155    [air, route, traffic, control, center, one, un...\n",
       "156    [suliman, yari, august, may, afghan, son, nek,...\n",
       "157    [sapphire, stagg, fictional, character, appear...\n",
       "158    [relocation, professional, sport, team, occur,...\n",
       "159    [uncommanded, rotation, undesirable, character...\n",
       "Name: Text, Length: 160, dtype: object"
      ]
     },
     "execution_count": 8,
     "metadata": {},
     "output_type": "execute_result"
    }
   ],
   "source": [
    "clean_text"
   ]
  },
  {
   "cell_type": "markdown",
   "metadata": {},
   "source": [
    "**Exercise 4:** Create a vocabulary for the lda model and convert your list of list of lemmas into a document-term matrix\n",
    "\n",
    "* Use [Gensim dictionary method](https://radimrehurek.com/gensim/corpora/dictionary.html) to create a dictionary \n",
    "* Use Gensim doc2bow method (from Corpora module) to convert each synopsis to a list of integers"
   ]
  },
  {
   "cell_type": "code",
   "execution_count": 9,
   "metadata": {},
   "outputs": [],
   "source": [
    "from gensim.corpora import Dictionary\n",
    "dic = Dictionary(clean_text)"
   ]
  },
  {
   "cell_type": "code",
   "execution_count": null,
   "metadata": {},
   "outputs": [],
   "source": [
    "doc_token_matrix = [dic.doc2bow(text) for text in clean_text]"
   ]
  },
  {
   "cell_type": "markdown",
   "metadata": {},
   "source": [
    "**Exercise 5:** Create an LDA model with 16 topics and apply it to your data"
   ]
  },
  {
   "cell_type": "code",
   "execution_count": 11,
   "metadata": {},
   "outputs": [],
   "source": [
    "import gensim\n",
    "lda_model = gensim.models.LdaMulticore(corpus=doc_token_matrix,\n",
    "                                       id2word=dic,\n",
    "                                       num_topics=10, \n",
    "                                       random_state=100,\n",
    "                                       chunksize=100,\n",
    "                                       passes=10,\n",
    "                                       per_word_topics=True)"
   ]
  },
  {
   "cell_type": "markdown",
   "metadata": {},
   "source": [
    "**Exercise 6:** Print out the keywords of the 16 topics (Airports, Artists, Astronauts, Astronomical_objects, Building,City,Comics_characters, Companies,Foods, Monuments_and_memorials,Politicians,Sports_teams,Sportspeople, Transport, Universities_and_colleges, Written_communication)\n",
    "\n",
    "\n",
    "Each topic is a combination of keywords.\n",
    "\n",
    "* Use `lda_model.print_topics()` to see the keywords for each topic and the weight of each keyword for that topic\n",
    "* Retrain you LDA model with different numbers of topics and examine the top keywords to determine which number of topics is best\n",
    "* Can you match the topics to the Wikipedia categories ?"
   ]
  },
  {
   "cell_type": "code",
   "execution_count": 12,
   "metadata": {},
   "outputs": [
    {
     "name": "stdout",
     "output_type": "stream",
     "text": [
      "[(0, '0.018*\"airspace\" + 0.014*\"area\" + 0.012*\"caste\" + 0.011*\"people\" + 0.009*\"class\" + 0.007*\"control\" + 0.006*\"route\" + 0.006*\"slave\" + 0.006*\"aircraft\" + 0.006*\"include\"'), (1, '0.016*\"shinto\" + 0.013*\"kami\" + 0.011*\"shrine\" + 0.009*\"japanese\" + 0.008*\"new\" + 0.007*\"know\" + 0.006*\"cannonball\" + 0.006*\"term\" + 0.005*\"use\" + 0.005*\"many\"'), (2, '0.017*\"airport\" + 0.014*\"burial\" + 0.008*\"natural\" + 0.008*\"international\" + 0.006*\"use\" + 0.005*\"new\" + 0.005*\"united\" + 0.005*\"ajman\" + 0.005*\"beacon\" + 0.005*\"green\"'), (3, '0.014*\"airport\" + 0.012*\"aldrin\" + 0.011*\"security\" + 0.006*\"passenger\" + 0.006*\"use\" + 0.005*\"stohlman\" + 0.004*\"isbn\" + 0.004*\"first\" + 0.004*\"leather\" + 0.004*\"become\"'), (4, '0.010*\"college\" + 0.010*\"program\" + 0.009*\"cement\" + 0.009*\"university\" + 0.008*\"student\" + 0.006*\"catherine\" + 0.005*\"school\" + 0.005*\"art\" + 0.004*\"one\" + 0.004*\"make\"'), (5, '0.012*\"nebula\" + 0.011*\"crab\" + 0.011*\"club\" + 0.007*\"move\" + 0.006*\"star\" + 0.006*\"use\" + 0.005*\"supernova\" + 0.005*\"man\" + 0.004*\"football\" + 0.004*\"play\"'), (6, '0.011*\"hogarth\" + 0.007*\"work\" + 0.005*\"one\" + 0.004*\"company\" + 0.004*\"william\" + 0.004*\"pasty\" + 0.004*\"bread\" + 0.004*\"break\" + 0.003*\"print\" + 0.003*\"art\"'), (7, '0.012*\"theatre\" + 0.008*\"space\" + 0.005*\"air\" + 0.005*\"renacci\" + 0.004*\"build\" + 0.004*\"nasa\" + 0.004*\"use\" + 0.004*\"award\" + 0.004*\"force\" + 0.004*\"include\"'), (8, '0.016*\"jazeera\" + 0.008*\"lin\" + 0.005*\"wing\" + 0.005*\"pierce\" + 0.005*\"use\" + 0.004*\"government\" + 0.004*\"report\" + 0.004*\"first\" + 0.004*\"bus\" + 0.004*\"aircraft\"'), (9, '0.011*\"merlin\" + 0.009*\"victor\" + 0.008*\"fauré\" + 0.006*\"write\" + 0.006*\"piece\" + 0.006*\"piano\" + 0.005*\"work\" + 0.004*\"barcarolle\" + 0.004*\"nocturne\" + 0.004*\"use\"')]\n"
     ]
    }
   ],
   "source": [
    "print(lda_model.print_topics())"
   ]
  },
  {
   "cell_type": "markdown",
   "metadata": {},
   "source": [
    "## Evaluate your model"
   ]
  },
  {
   "cell_type": "markdown",
   "metadata": {},
   "source": [
    "**Exercise 7:** Compute Model Perplexity and Coherence Score\n",
    "\n",
    "* A lower perplexity score indicates better generalization performance\n",
    "* Coherence measures score a  topic by measuring the degree of semantic similarity between high scoring words in the topic.\n",
    "\n",
    "1. `C_v` measure is based on a sliding window, one-set segmentation of the top words and an indirect confirmation measure that uses normalized pointwise mutual information (NPMI) and the cosine similarity\n",
    "2. `C_p` is based on a sliding window, one-preceding segmentation of the top words and the confirmation measure of Fitelson's coherence\n",
    "3. `C_uci` measure is based on a sliding window and the pointwise mutual information (PMI) of all word pairs of the given top words\n",
    "4. `C_umass` is based on document cooccurrence counts, a one-preceding segmentation and a logarithmic conditional probability as confirmation measure\n",
    "5. `C_npmi` is an enhanced version of the C_uci coherence using the normalized pointwise mutual information (NPMI)\n",
    "6. `C_a` is based on a context window, a pairwise comparison of the top words and an indirect confirmation measure that uses normalized pointwise mutual information (NPMI) and the cosine similarit"
   ]
  },
  {
   "cell_type": "code",
   "execution_count": 13,
   "metadata": {},
   "outputs": [
    {
     "name": "stdout",
     "output_type": "stream",
     "text": [
      "Coherence Score:  0.3355186752565105\n"
     ]
    }
   ],
   "source": [
    "from gensim.models import CoherenceModel\n",
    "coherence_model_lda = CoherenceModel(model=lda_model, texts=clean_text, dictionary=dic, coherence='c_v')\n",
    "coherence_lda = coherence_model_lda.get_coherence()\n",
    "print('Coherence Score: ', coherence_lda)"
   ]
  },
  {
   "cell_type": "markdown",
   "metadata": {},
   "source": [
    "**Visualize the topic model using pyLDAvis (PROVIDED)**"
   ]
  },
  {
   "cell_type": "code",
   "execution_count": 15,
   "metadata": {},
   "outputs": [
    {
     "name": "stderr",
     "output_type": "stream",
     "text": [
      "c:\\experiments\\package-env\\lib\\site-packages\\pyLDAvis\\_prepare.py:246: FutureWarning: In a future version of pandas all arguments of DataFrame.drop except for the argument 'labels' will be keyword-only.\n",
      "  default_term_info = default_term_info.sort_values(\n"
     ]
    },
    {
     "data": {
      "text/html": [
       "\n",
       "<link rel=\"stylesheet\" type=\"text/css\" href=\"https://cdn.jsdelivr.net/gh/bmabey/pyLDAvis@3.3.1/pyLDAvis/js/ldavis.v1.0.0.css\">\n",
       "\n",
       "\n",
       "<div id=\"ldavis_el2185621034215418406493745924\"></div>\n",
       "<script type=\"text/javascript\">\n",
       "\n",
       "var ldavis_el2185621034215418406493745924_data = {\"mdsDat\": {\"x\": [-0.009004294648420206, -0.07020371104898199, 0.07078817637650128, 0.07520486460235448, -0.0596409838590687, -0.16542944885430855, -0.05830638368306613, 0.14249951193569108, 0.0581067164027719, 0.01598555277652751], \"y\": [0.12392508057862182, 0.05974918728223369, 0.07929227941243788, -0.04986896817097007, 0.06972470086639757, -0.14070059251584088, 0.0252601868707665, -0.06561156013683522, -0.07645481525627401, -0.0253154989305372], \"topics\": [1, 2, 3, 4, 5, 6, 7, 8, 9, 10], \"cluster\": [1, 1, 1, 1, 1, 1, 1, 1, 1, 1], \"Freq\": [15.565197462576602, 13.798637903079833, 11.399520004211857, 10.967646385390337, 10.47418626464172, 10.294282893808294, 8.937975069106335, 8.53719458503399, 6.4164004034717115, 3.6089590286793363]}, \"tinfo\": {\"Term\": [\"airport\", \"jazeera\", \"airspace\", \"shinto\", \"kami\", \"burial\", \"aldrin\", \"caste\", \"nebula\", \"crab\", \"theatre\", \"shrine\", \"security\", \"lin\", \"area\", \"merlin\", \"hogarth\", \"club\", \"program\", \"victor\", \"class\", \"japanese\", \"faur\\u00e9\", \"college\", \"university\", \"student\", \"people\", \"cannonball\", \"natural\", \"passenger\", \"lin\", \"badminton\", \"chong\", \"semifinal\", \"coverage\", \"stall\", \"chen\", \"wei\", \"pierce\", \"lee\", \"compatriot\", \"reaver\", \"jazeera\", \"bus\", \"bahrain\", \"sweep\", \"memo\", \"palestinian\", \"quarterfinal\", \"allouni\", \"cup\", \"qatari\", \"dan\", \"masters\", \"cop\", \"correspondent\", \"allegation\", \"tournament\", \"emir\", \"viktor\", \"angle\", \"beat\", \"accuse\", \"wing\", \"malaysia\", \"championship\", \"news\", \"china\", \"newspaper\", \"report\", \"win\", \"government\", \"organization\", \"medium\", \"final\", \"lose\", \"title\", \"say\", \"world\", \"open\", \"attack\", \"aircraft\", \"effect\", \"first\", \"may\", \"use\", \"take\", \"force\", \"two\", \"make\", \"lead\", \"would\", \"one\", \"stohlman\", \"tandy\", \"aldrin\", \"ann\", \"craftool\", \"baggage\", \"gemini\", \"metakaolin\", \"toy\", \"shenzhou\", \"savonlinna\", \"armstrong\", \"akabeko\", \"podcast\", \"kaolinite\", \"vidnava\", \"nie\", \"buzz\", \"shanghai\", \"apollo\", \"latif\", \"screening\", \"gurion\", \"leather\", \"aizu\", \"hohhot\", \"trajectory\", \"dalian\", \"lovell\", \"shenyang\", \"airline\", \"security\", \"passenger\", \"check\", \"explosive\", \"lunar\", \"police\", \"airport\", \"isbn\", \"spacecraft\", \"astronaut\", \"moon\", \"luggage\", \"crew\", \"flight\", \"service\", \"use\", \"fly\", \"move\", \"become\", \"first\", \"make\", \"international\", \"time\", \"space\", \"one\", \"take\", \"new\", \"two\", \"name\", \"may\", \"air\", \"united\", \"see\", \"crab\", \"nebula\", \"supernova\", \"pulsar\", \"dibny\", \"saturnyne\", \"elongate\", \"courtney\", \"progenitor\", \"burj\", \"remnant\", \"ralph\", \"melbourne\", \"chowdhury\", \"ngc\", \"brisbane\", \"gamma\", \"chandra\", \"corona\", \"explode\", \"neutron\", \"sydney\", \"roma\", \"radiation\", \"torus\", \"messier\", \"constellation\", \"detective\", \"interstate\", \"technet\", \"emit\", \"club\", \"britain\", \"football\", \"mass\", \"captain\", \"bright\", \"star\", \"league\", \"hotel\", \"move\", \"man\", \"observe\", \"home\", \"visible\", \"object\", \"play\", \"game\", \"transit\", \"use\", \"appear\", \"year\", \"season\", \"member\", \"first\", \"find\", \"new\", \"team\", \"make\", \"one\", \"become\", \"shinto\", \"kami\", \"cannonball\", \"shrines\", \"meiji\", \"lori\", \"sam\", \"practitioner\", \"mubasher\", \"jinja\", \"buddhism\", \"buddhist\", \"purification\", \"enshrine\", \"shrine\", \"kojiki\", \"nordwig\", \"clark\", \"mackenzie\", \"\\u017eidlochovice\", \"kagura\", \"imperial\", \"chocolate\", \"dani\", \"sugar\", \"religion\", \"divination\", \"salt\", \"venerate\", \"oatmeal\", \"japanese\", \"worship\", \"priest\", \"ritual\", \"tradition\", \"mutant\", \"term\", \"various\", \"know\", \"japan\", \"regard\", \"scholar\", \"new\", \"many\", \"period\", \"call\", \"use\", \"part\", \"team\", \"become\", \"one\", \"form\", \"place\", \"include\", \"although\", \"see\", \"appear\", \"take\", \"state\", \"may\", \"renacci\", \"atmospheric\", \"dyson\", \"caldwell\", \"courtyard\", \"wicket\", \"gibb\", \"chechen\", \"theatre\", \"abrahamson\", \"noukhaev\", \"qud\", \"ohio\", \"whitcomb\", \"auditorium\", \"kheir\", \"mike\", \"oljato\", \"eberson\", \"chechnya\", \"caucus\", \"hidalgo\", \"revival\", \"entrepreneurship\", \"fabian\", \"indie\", \"congress\", \"cinema\", \"jokaste\", \"aladin\", \"asteroid\", \"theater\", \"nasa\", \"republican\", \"space\", \"expedition\", \"award\", \"science\", \"build\", \"research\", \"test\", \"mission\", \"education\", \"serve\", \"film\", \"air\", \"training\", \"student\", \"program\", \"design\", \"astronaut\", \"force\", \"include\", \"first\", \"use\", \"state\", \"international\", \"two\", \"university\", \"flight\", \"new\", \"one\", \"caste\", \"airspace\", \"slave\", \"strata\", \"vfr\", \"tuareg\", \"ifr\", \"endogamous\", \"atc\", \"stratification\", \"miguel\", \"ethnic\", \"osu\", \"susu\", \"ikramov\", \"soninke\", \"nonparticipating\", \"trsa\", \"mandinka\", \"zaghawa\", \"slavery\", \"wolof\", \"toucouleur\", \"overlie\", \"\\u00e1ngel\", \"temne\", \"mart\\u00edn\", \"hierarchical\", \"jesus\", \"s\\u00e3o\", \"noble\", \"class\", \"route\", \"altitude\", \"chart\", \"cast\", \"area\", \"africa\", \"people\", \"african\", \"traffic\", \"social\", \"control\", \"foot\", \"restrict\", \"system\", \"aircraft\", \"group\", \"operation\", \"march\", \"include\", \"low\", \"depict\", \"flight\", \"west\", \"air\", \"use\", \"find\", \"part\", \"may\", \"call\", \"burial\", \"ajman\", \"stagg\", \"sheppard\", \"airway\", \"sapphire\", \"beacon\", \"airfield\", \"sarachi\", \"cemetery\", \"chatin\", \"conservation\", \"casket\", \"balloon\", \"ansbach\", \"metamorpho\", \"allison\", \"coffin\", \"embalm\", \"kaserne\", \"lighthouse\", \"montana\", \"rectory\", \"dzhanibekov\", \"bonnett\", \"sharjah\", \"astrup\", \"biodegradable\", \"decomposition\", \"omer\", \"alabama\", \"natural\", \"green\", \"airports\", \"emirate\", \"airport\", \"light\", \"simon\", \"international\", \"preserve\", \"grave\", \"united\", \"construction\", \"set\", \"locate\", \"authority\", \"aviation\", \"new\", \"unit\", \"use\", \"ground\", \"air\", \"first\", \"one\", \"become\", \"reference\", \"number\", \"area\", \"make\", \"begin\", \"merlin\", \"faur\\u00e9\", \"barcarolle\", \"nocturne\", \"gnarrk\", \"pr\\u00e9lude\", \"morrison\", \"piano\", \"akaflieg\", \"composer\", \"victor\", \"geoffrey\", \"impromptu\", \"prose\", \"gabriel\", \"pianist\", \"mancha\", \"nico\", \"myrddin\", \"vulgate\", \"melody\", \"ambrosius\", \"nectoux\", \"mozzarella\", \"lilith\", \"akademische\", \"andante\", \"welsh\", \"orchestral\", \"copland\", \"universit\\u00e4t\", \"ultron\", \"theme\", \"contrast\", \"runaway\", \"piece\", \"write\", \"vision\", \"section\", \"compose\", \"middle\", \"music\", \"end\", \"work\", \"early\", \"version\", \"call\", \"name\", \"one\", \"know\", \"use\", \"first\", \"note\", \"time\", \"follow\", \"make\", \"second\", \"include\", \"become\", \"hogarth\", \"pasty\", \"akshar\", \"gin\", \"nipple\", \"swaminarayan\", \"fraction\", \"maharaj\", \"deri\", \"aktieselskab\", \"butka\", \"elggren\", \"progress\", \"swami\", \"gunatitanand\", \"liability\", \"bikini\", \"firework\", \"satire\", \"tate\", \"beer\", \"leicester\", \"eucharistic\", \"mandir\", \"topless\", \"debt\", \"borough\", \"alderman\", \"plate\", \"foundle\", \"ilyin\", \"bread\", \"stock\", \"satirical\", \"print\", \"sir\", \"painting\", \"william\", \"break\", \"lord\", \"artist\", \"company\", \"work\", \"arm\", \"english\", \"sign\", \"art\", \"john\", \"one\", \"picture\", \"rite\", \"london\", \"show\", \"series\", \"marriage\", \"may\", \"use\", \"first\", \"time\", \"year\", \"member\", \"take\", \"two\", \"many\", \"make\", \"reference\", \"toriyama\", \"kapla\", \"roller\", \"showa\", \"cement\", \"patent\", \"baccalaureate\", \"catherine\", \"monteverde\", \"minneapolis\", \"liberal\", \"ophthalmologist\", \"paomo\", \"simpasa\", \"downwash\", \"colorado\", \"kiln\", \"parker\", \"jps\", \"genova\", \"soup\", \"yoshikawa\", \"kaneko\", \"zhao\", \"catie\", \"endowed\", \"derham\", \"therapy\", \"whir\", \"bruggen\", \"minnesota\", \"college\", \"nursing\", \"akira\", \"program\", \"campus\", \"student\", \"lamb\", \"medical\", \"health\", \"university\", \"burn\", \"artificial\", \"school\", \"academic\", \"hospital\", \"roman\", \"art\", \"offer\", \"lab\", \"center\", \"study\", \"work\", \"make\", \"reference\", \"one\", \"education\", \"include\", \"use\", \"natural\", \"state\", \"name\", \"game\", \"two\", \"become\", \"first\", \"play\", \"high\"], \"Freq\": [282.0, 186.0, 131.0, 130.0, 104.0, 91.0, 120.0, 93.0, 99.0, 88.0, 94.0, 95.0, 133.0, 93.0, 165.0, 66.0, 52.0, 114.0, 70.0, 57.0, 80.0, 88.0, 51.0, 51.0, 84.0, 62.0, 153.0, 51.0, 69.0, 81.0, 92.1263068625591, 21.937895872745937, 21.933282620266247, 21.026084330708212, 24.489315559077493, 20.055766134944285, 17.39878771055015, 17.373258986191587, 56.23170978981781, 31.955119004211834, 14.66222874903363, 15.491434480337922, 175.67490052151285, 42.83898965260164, 11.884920678511719, 21.87074484418901, 11.753810033917315, 10.061258957480826, 9.19285539093211, 9.156779421687338, 24.213339513751595, 18.217780406632798, 16.48425355105233, 7.3741662460665065, 7.345612248096894, 7.337595723792088, 7.333865969693491, 14.567613284650534, 7.261774562434141, 6.445131637191578, 21.863452762798726, 32.05245064656245, 24.341583296252256, 57.81120913463315, 15.558581645199304, 19.765630933347673, 35.156687891347694, 34.51965722481422, 31.350579441407437, 47.13582349780443, 26.36018648806356, 47.76443130805171, 40.59936504508707, 40.690939781076935, 36.20823899802837, 25.26069979866541, 33.66802402877478, 39.42293157102912, 42.56022917068694, 41.715027739829964, 34.87918697418038, 42.61124025505753, 26.451758648256398, 45.54510913272301, 40.529061240966136, 51.672250255292596, 39.54824924810436, 32.115521612624775, 32.259987764816714, 32.07318838844629, 28.550314579860835, 29.013231670393775, 29.506581802829288, 45.698641558402464, 26.906634700137495, 114.96648033580371, 14.396341397261395, 13.502143412531979, 12.53329801075805, 26.735569367766022, 11.667640980300957, 12.503020485902153, 10.815371870069374, 11.636732079026444, 18.292709134466698, 10.73521789160173, 9.049047815483434, 8.988889516776105, 8.1380801077221, 8.127464877609816, 16.162757931937584, 10.453911724734763, 33.348064796575855, 6.361743085340007, 6.315928334457431, 6.315341485489675, 39.49988606915596, 6.302080868104448, 7.8730966767841775, 7.040491573890469, 7.038489551195992, 7.800120751741212, 7.001233204714782, 33.82333253939287, 112.30121783556594, 61.58682153547111, 29.465099822079683, 9.868970586988354, 22.29728771110004, 26.789840338258884, 137.08346155588438, 42.741849845271865, 12.562479475285064, 28.0062001386144, 21.397906274398615, 14.755443871159397, 23.908384505066874, 33.731309140947026, 32.24939675749323, 57.97673676406362, 26.378829132222666, 35.64875022991876, 39.22160091857048, 42.40801727060217, 38.425792616030506, 33.50059985901215, 34.24253451292848, 28.702814981390418, 35.88000069164103, 31.768500288195593, 32.12856067315186, 29.36475321551138, 27.37485112150536, 28.278785775489688, 27.60421316261932, 27.28811393068736, 27.31103985923317, 87.1970158415995, 97.6483373112714, 41.89726504131747, 27.957166274140132, 27.078804697673295, 27.051804046401287, 30.16183651352988, 15.737887886542946, 14.897848445915223, 14.855183719478182, 12.279403082443928, 26.218002127846567, 12.273403252123895, 10.543195934743872, 18.622735714368837, 9.665722872686954, 9.626767835394496, 8.798031958130279, 8.797295302340318, 8.795320197059679, 8.791406772126836, 8.790210767592045, 7.914825054143557, 15.759298065513928, 7.059811504689287, 7.052347795001751, 7.012868326698769, 6.182602544580113, 6.178923038515273, 6.175631667991495, 10.826488661878034, 86.32631699450225, 19.230943635601847, 35.39526373207204, 27.178888017213932, 27.05901402957474, 13.12314655288878, 50.96592981107248, 28.429297553239763, 16.59722657700217, 57.90950580406339, 37.42195566887611, 22.996303584326217, 30.975025275063068, 16.778194890924826, 22.386977002700252, 33.270937078071434, 26.622576128712907, 15.764541432397918, 49.998796024198455, 29.044709798318774, 30.8939346584503, 20.458734726245766, 28.208927115155966, 31.202019012707826, 25.770513446914073, 30.21677349154591, 25.102241196993802, 25.129481426461265, 25.763129911032102, 23.939937957178348, 128.12992936361823, 103.2327093339349, 49.91011199166912, 18.9859998775018, 18.140345343491187, 19.73669677914352, 35.3141153154377, 14.692091389903068, 12.14033665606462, 11.256585814719713, 11.251811525227438, 24.142450326056924, 9.531659795557673, 8.67389303158063, 86.88840251163839, 7.827440816432647, 7.821024882824894, 7.780226078986513, 6.952627815272006, 6.122114703078277, 6.100291907684722, 17.263692866033107, 5.272496719275324, 12.11786273869602, 5.271017969089492, 23.287568463485687, 5.2425369410396305, 5.2422991794264435, 5.23942607535259, 4.3946300241132565, 71.25101359959673, 16.41734682687269, 31.93969360264069, 15.55909455731147, 12.981745058059577, 31.913242169430113, 45.14944932528527, 25.818980059603483, 51.825570366778734, 19.45275677874814, 19.69067810965991, 16.408818263358455, 60.8730023199562, 38.33113231931287, 19.01257291398019, 31.27258170536611, 41.067881015490954, 28.059387775947858, 25.245448229320626, 27.71412887401416, 28.969557380968702, 22.819889555372946, 22.529782272827873, 25.99085085137711, 21.634092531547523, 22.999524806545146, 21.6785122088081, 22.638147119216697, 21.27298890531519, 20.1921119069486, 35.23476609375065, 26.71769341876753, 18.93397731736304, 16.356117899126478, 14.678931874680421, 13.75828376799111, 13.746832627695555, 11.247353677810604, 87.43228579199061, 10.385144259543996, 8.670957176763089, 8.639894452894685, 12.531216909507574, 6.959638295662962, 6.955019446635099, 6.954177922588555, 6.929432262340395, 6.109771374521844, 6.096180024511626, 6.092814794982553, 6.089601230446421, 5.251691144020176, 5.237291636261861, 5.220168225230335, 5.973837941306301, 5.215696274581349, 11.109858528496327, 10.395250348016443, 4.391245806285739, 4.3873012164836345, 14.506125648381202, 14.184542997264243, 31.98328357606932, 9.491324390120191, 62.34685436010308, 9.712001288134024, 30.93299570004294, 21.18634979423581, 33.22993861838394, 23.347787407969907, 21.129559487622092, 23.972591712829903, 16.897558457295393, 27.632557455954647, 21.409347599970182, 40.05105000945208, 20.402964572757302, 24.975913707156696, 25.21024738779199, 27.679292806864964, 20.950293199280715, 29.3100520103292, 28.772899671503538, 28.4859321717182, 31.208311861742043, 23.32214995756326, 22.81704833170287, 23.529123273472095, 20.226579052624686, 20.670125491121723, 23.709682614210433, 23.040645864152186, 91.37679992926826, 129.04238794964374, 43.55348238967846, 35.0533206592859, 27.42306635150547, 23.950855590854662, 18.865237986765745, 17.98887583969817, 17.159655838277374, 16.285327721560762, 17.02403166882061, 40.98662126391098, 11.173499404758322, 10.31168125611735, 10.290979801490108, 9.457725810227531, 8.625322738697205, 8.622638806688876, 8.61727860861575, 8.61738252473921, 8.616463463286658, 8.60973020954948, 8.608884400446254, 7.771232712909794, 8.540708609285767, 7.749288523658575, 7.721814633804984, 6.9016464081545825, 12.921645427060795, 6.079984175286597, 17.140509718415988, 65.85867966087686, 46.209176469115455, 16.31440720069893, 24.002268518821264, 17.128395824089594, 103.82507930551819, 17.974068643876905, 83.65316761507427, 29.92893041634609, 20.577082359349717, 29.957747549861104, 54.738114447990846, 23.98785143434872, 22.30651410994321, 37.765558738228115, 42.967909923363536, 36.711781104643585, 27.539081037402806, 27.281893742473247, 42.83739127230027, 25.685922661716987, 20.587264435905595, 26.685377715878097, 22.255866072786976, 25.968830048973906, 29.669610285571135, 24.868371929897624, 24.947654821467065, 24.9103404154306, 24.721988182805436, 88.0687390197172, 32.20822794029681, 18.33873551111541, 18.286986405604093, 18.200969621341066, 14.180948474161788, 31.353269471136983, 10.842696314678417, 10.832290879594755, 29.094930637836427, 9.178632068656002, 8.369578060127164, 8.368453208189548, 8.365154825782076, 8.361501460514607, 7.537782222582142, 7.528293087005847, 6.718409306041766, 6.7121911896108175, 6.706989211616611, 6.678738492341848, 6.663963809889722, 5.899606210946446, 5.87738539323207, 5.870427729176129, 5.855282903137693, 5.065681215789067, 5.0596997545981175, 5.055208851645343, 5.0483621197331505, 9.191032063684274, 49.03528817035315, 31.16735015640404, 10.052159099584173, 14.14740998936832, 109.62344027188038, 23.196967331938904, 10.861438670138636, 48.920223434475616, 11.690745929925553, 10.02804910746175, 32.30713503966348, 15.875510924691323, 23.208604853365806, 20.86429656685022, 17.552176322696006, 16.677588780473595, 32.995869826439204, 14.150183292962046, 38.464448823074825, 16.713153625759546, 20.72996809443685, 22.706000891943773, 19.85047883055598, 18.29098292096956, 17.47652947523064, 14.920213591962836, 15.11175938502673, 15.017041083408024, 14.224541848464673, 64.4018826743397, 50.348132027717604, 26.454665025395883, 24.810381681297777, 18.338430618438185, 17.373329100467654, 16.55831627764946, 33.860765177014976, 12.505210884049022, 13.276143797066977, 53.85129883445669, 10.801949945818652, 10.796106013031604, 10.79405678675151, 9.971607836718368, 8.32408359287084, 7.524590074214553, 7.524105493301715, 7.504608528614742, 6.6791765097843445, 6.680181697304708, 6.678723009863, 6.6704717130075055, 5.901442863911646, 5.894690165316482, 5.875705683796077, 5.857090642242747, 5.855764402207974, 5.85426015285828, 5.844277503499334, 10.856032990176779, 10.833242146777609, 22.354260013830892, 9.144871122631391, 14.140078100496776, 33.92018920720688, 37.51956015925404, 10.012540089743666, 16.588449298902923, 12.449833033840703, 17.409377399511367, 16.19776123582295, 24.033758121291733, 33.12830770592195, 23.905433184046924, 17.118907167959215, 22.3269384095353, 19.95153407697841, 23.792716555621478, 20.657802987193033, 24.150786530900806, 20.878561380368755, 14.950182952203594, 18.268453178861712, 16.475281996100815, 17.5844481479632, 15.702809161231563, 16.227401199529528, 15.78141157594763, 50.903352020698975, 16.804618229825106, 12.7051952785509, 9.602015096882992, 7.238696846473365, 7.959604866327967, 6.4257093754540495, 6.39787445147479, 6.395721623522017, 5.660784916657785, 5.654298825634599, 5.643592023828543, 10.393964846458028, 5.608520306304465, 5.601914761202518, 4.0629238902356954, 4.058180766948379, 4.052221335685773, 4.048917235867258, 4.047752425872589, 4.04749705959755, 4.047162322723512, 4.045596943384733, 4.026371207588496, 3.2648495973158544, 3.263176178399174, 3.2615946063963857, 3.255746665607289, 3.253473587215231, 3.2532962642716488, 8.305508838555225, 16.756086957613313, 5.645298358980259, 4.452017148272576, 15.171735125685, 8.538840348772634, 11.719526053089462, 17.849686394130455, 16.571246370674423, 7.810899403667633, 12.145266760676025, 20.29156561033823, 31.578948217219562, 11.254136147680718, 13.465506155371925, 8.025505823405567, 13.7212281381122, 13.434750711893725, 21.269833991986683, 9.617639690384863, 8.842094436719249, 8.148229758481987, 13.56746153886154, 11.576875584954742, 8.217289081402015, 12.166264133187035, 13.69596014955875, 12.714151679922852, 11.749041297776618, 11.106416579350421, 11.07608798511366, 11.22714271132295, 10.828408181862555, 10.203260922426558, 10.57105312913887, 10.25559136524995, 8.899207015559826, 5.469060811268457, 4.845766435126722, 4.827588955563979, 23.875914706334804, 4.146802286982335, 4.137699363075337, 15.672302586510144, 3.4664041141362585, 3.4594658371063707, 3.4582627246401167, 2.78504291381347, 2.7825396396003628, 2.1201636674680713, 2.1197012649726643, 6.875866279906896, 2.1076771577196425, 2.106120337952252, 2.1059593854530436, 2.1056216539565598, 2.105806794122625, 2.1049811287046074, 2.104955597278481, 2.1044327256159314, 2.102884864243673, 2.102573709319415, 2.1025889385911394, 2.101337898710928, 2.100802335988608, 2.0948060342068713, 4.812639782993708, 26.38936087850151, 4.13796453157125, 4.823598886372097, 24.70852467225889, 5.413462622172665, 21.349804946809222, 4.824811853072997, 4.841241251132278, 4.825375933353154, 23.412524398557927, 5.51195599606679, 5.507570563036408, 14.044626691434672, 5.108101987885818, 4.820142140303753, 6.871663000910869, 12.975503149493708, 8.507584800092358, 4.818584872616606, 8.726538727197442, 7.6519195084560465, 10.315165575118005, 10.377611561452849, 9.624656658912558, 10.552950048790969, 6.4657390062280164, 9.747750383066041, 9.697344479788873, 6.886042419550731, 7.253542663058901, 6.980080484932443, 6.228638953943152, 6.892370032645774, 6.953140799090896, 6.9170372722554525, 6.257309401724239, 5.967222233911448], \"Total\": [282.0, 186.0, 131.0, 130.0, 104.0, 91.0, 120.0, 93.0, 99.0, 88.0, 94.0, 95.0, 133.0, 93.0, 165.0, 66.0, 52.0, 114.0, 70.0, 57.0, 80.0, 88.0, 51.0, 51.0, 84.0, 62.0, 153.0, 51.0, 69.0, 81.0, 93.25866276251506, 22.80139319064841, 22.80105872235714, 21.885985402202238, 25.533136930613338, 20.967371971674794, 18.227434700667608, 18.225370710293117, 59.27457096787462, 33.69985418610928, 15.482648663243497, 16.39027410397743, 186.10343453809202, 45.5428966431249, 12.733628118215975, 23.663357548904003, 12.725874800807622, 10.903699922048466, 9.992168274995064, 9.989091451535364, 26.422551064760082, 20.000169050858297, 18.20371562368073, 8.162257289734207, 8.160837728254245, 8.159568094463904, 8.159591917483967, 16.3402731949168, 8.155882580271335, 7.24550845905976, 24.586896183748195, 36.23498702313388, 28.126841145523315, 69.6674062948623, 18.15602809287761, 23.53519927282498, 44.31606556457725, 47.093479888697935, 42.27122308694733, 72.6419586108421, 35.860680259372984, 81.23193497995655, 67.09723697160943, 67.94245969998715, 64.04310654791973, 36.62572158208859, 61.5272007994253, 83.3182684644129, 101.20577859025026, 99.12411803455086, 75.80537922098118, 121.78226275849391, 42.97413021993729, 225.05600255866008, 158.8564587364704, 347.602126189682, 179.4095007726749, 117.44524453698537, 169.99853084386825, 191.71215442350407, 82.34326220811194, 118.2123296324282, 237.79319849626347, 46.586008681977766, 27.75023755172434, 120.84717165958655, 15.193993241845956, 14.296751321078835, 13.396001666359853, 28.60866283290339, 12.499390132062436, 13.395397400440242, 11.607262757871933, 12.496586215518958, 19.656768991691358, 11.602109184896666, 9.813592752388027, 9.809150483413761, 8.915280891591156, 8.915966362305953, 17.8511574342681, 11.596233333658251, 37.31356942913839, 7.1225903271789095, 7.119290830747257, 7.1193088570493455, 44.62129335077404, 7.120030486147348, 8.908406942134386, 8.01012722517569, 8.012772033666451, 8.90250616258842, 8.011884985033367, 39.0919245197087, 133.83597402064112, 81.44419372290587, 38.192725958337604, 11.571467039336905, 31.092590561006357, 39.14084301396288, 282.11127293061656, 69.2766714157841, 15.99452845216263, 50.29714078444299, 34.57207318958528, 21.423096511042626, 46.93270762709357, 101.41440033722775, 96.68454234965894, 347.602126189682, 70.70567399127312, 137.72080919763985, 186.90120787640768, 225.05600255866008, 191.71215442350407, 143.6275015858317, 155.75486109351405, 117.13201122878127, 237.79319849626347, 179.4095007726749, 233.1912527205518, 169.99853084386825, 121.89636671144632, 158.8564587364704, 131.39422606753539, 132.995760140962, 152.67023484755418, 88.66189961739664, 99.89449640196136, 42.996214389923104, 28.947177085064013, 28.072867425195724, 28.070181093322123, 31.60079862784152, 16.65247913394907, 15.772756754951942, 15.772329476799081, 13.137397528326067, 28.05597897746708, 13.140225547098316, 11.382682644815347, 20.183603555005217, 10.505350296169764, 10.504633931327424, 9.624879055538093, 9.625673319901049, 9.625323746993166, 9.624678963221177, 9.626094655259704, 8.748297076323029, 17.5460579743592, 7.8690156168982215, 7.868838122400604, 7.8708975530692955, 6.9916896022712995, 6.991267508276177, 6.991319690338771, 12.281038374947874, 114.9721370180067, 23.474177238318386, 46.35310007890191, 34.73806476133403, 34.91989258662047, 15.765099339705305, 77.90535450666839, 41.74652480951254, 21.857318614691387, 137.72080919763985, 74.13050415426684, 38.36114787550431, 61.65807528495714, 24.312902667695226, 40.996865952977664, 87.28644520209299, 59.31521981887746, 22.839712677898923, 347.602126189682, 99.11670815513551, 145.1420793487934, 42.45772041070373, 145.93648957052636, 225.05600255866008, 113.46516601026136, 233.1912527205518, 114.75015163319195, 191.71215442350407, 237.79319849626347, 186.90120787640768, 130.043428097617, 104.90172330667625, 51.1386130071498, 19.919335857217487, 19.05423728108523, 20.7819353387736, 37.289078696606296, 15.583638211269692, 12.979153476802482, 12.116260341512374, 12.11611429355645, 26.034989459608116, 10.38155444744092, 9.514346535302542, 95.63881917449062, 8.647500057907461, 8.647119159986088, 8.645375876001681, 7.784107286577033, 6.915557571911107, 6.913182667275249, 19.78301062695024, 6.046396965142499, 13.89687738145281, 6.0463452627103536, 26.84162089949479, 6.045924107077404, 6.0461454123797, 6.045816502809542, 5.180333951657759, 88.12174331444092, 19.8937696208925, 42.76551180061757, 19.75143648773526, 17.917838694924203, 54.72205904046909, 84.5427591210538, 48.90142929408856, 140.01831381329956, 34.14901716762318, 36.266235815392, 27.83380064983836, 233.1912527205518, 113.6565203133138, 41.92406101529687, 150.96409721262637, 347.602126189682, 136.32068509732446, 114.75015163319195, 186.90120787640768, 237.79319849626347, 94.9622777320141, 91.95067937376784, 199.49553610358123, 81.3180661625409, 152.67023484755418, 99.11670815513551, 179.4095007726749, 121.91456558107656, 158.8564587364704, 36.34888160740205, 27.692193602666833, 19.89762756433799, 17.299409632735934, 15.566259049648647, 14.699906827706645, 14.699518826677405, 12.100911083899897, 94.35116839971595, 11.236782698599361, 9.503897476788662, 9.494753730080618, 13.81757386417072, 7.771421861409358, 7.771774567284345, 7.771449106780183, 7.771606915792082, 6.905640462825711, 6.905671942912069, 6.9053203237784375, 6.9057034166093905, 6.039862638196349, 6.0396564147884515, 6.034009758616998, 6.905342717004124, 6.039358789205136, 12.932790085858846, 12.131292935177116, 5.173678136980703, 5.174330358614193, 17.304967141368618, 18.022141176682943, 46.34048418735429, 12.1977335086492, 117.13201122878127, 13.034130527584422, 59.714906236062546, 36.47951482076338, 68.38370930568318, 44.980663647938904, 42.988746342507035, 54.72506201211112, 32.086545726502735, 71.13657247967036, 47.163120355329106, 131.39422606753539, 44.040992206456, 62.61903698789499, 70.20452038860532, 86.7939393299091, 50.29714078444299, 117.44524453698537, 199.49553610358123, 225.05600255866008, 347.602126189682, 121.91456558107656, 143.6275015858317, 169.99853084386825, 84.4057958092793, 101.41440033722775, 233.1912527205518, 237.79319849626347, 93.12413064835964, 131.87050721830127, 44.82717018194768, 36.1999056708753, 28.434137354716395, 24.9902331163925, 19.811456359528115, 18.954091653334103, 18.087841540146474, 17.22938426639402, 18.076484158814836, 44.033290519663616, 12.053964182078339, 11.192918841291782, 11.187331606369131, 10.330095393958185, 9.465432237200954, 9.465339351559164, 9.466723886736688, 9.467520639154714, 9.467262081497244, 9.467546637324947, 9.467077426275308, 8.603302404990172, 9.458615525767117, 8.605164232312555, 8.59862516033172, 7.742731124871897, 14.575595609069765, 6.878043513145328, 19.76251289321481, 80.52169408695973, 57.39812474132784, 19.05491621335586, 29.222108748267974, 20.657396108317357, 165.848709235083, 22.463906173333825, 153.45076387388843, 43.66227826730594, 27.570989065590823, 45.55301990441072, 98.96018537315453, 39.7006385631502, 36.40257141550418, 82.09091932206836, 121.78226275849391, 94.81179626352451, 57.30427003431269, 64.40966517409498, 199.49553610358123, 58.48996286670725, 34.33932712954289, 101.41440033722775, 56.31742092213031, 131.39422606753539, 347.602126189682, 113.46516601026136, 136.32068509732446, 158.8564587364704, 150.96409721262637, 91.04743414096681, 33.42812025000836, 19.21443627816723, 19.219260882577796, 19.22924162978787, 15.039154761140065, 33.51394722707641, 11.702090506036802, 11.701579470564813, 31.656519440559812, 10.030957152846176, 9.195606892891973, 9.196060925103867, 9.19408844104859, 9.196186705450563, 8.359023705781004, 8.364515497247888, 7.52535581424832, 7.525361720344095, 7.525707164319862, 7.528557751263942, 7.529523054532747, 6.690128136088615, 6.689100882628304, 6.693442138598171, 6.691318726400942, 5.855020305252652, 5.854893721341869, 5.85484604247188, 5.854696387496642, 10.90012875311522, 69.80827914068934, 43.064186490575615, 12.658475429042719, 20.363462467640343, 282.11127293061656, 45.86631119660896, 15.976993893719989, 143.6275015858317, 19.304010728224387, 15.206786470801449, 132.995760140962, 36.73522313150102, 75.26379244052609, 65.69688397936663, 47.60992130929031, 44.140511168851674, 233.1912527205518, 31.287963569614064, 347.602126189682, 50.06210995813814, 131.39422606753539, 225.05600255866008, 237.79319849626347, 186.90120787640768, 148.81789975574378, 79.43199831043992, 165.848709235083, 191.71215442350407, 70.25830663719567, 66.04634658013569, 51.85092889516547, 27.599166641550877, 25.928866173864908, 19.236575028456155, 18.40471277667375, 17.566669325838625, 36.04245705352793, 13.379138962810785, 14.221858192297166, 57.830463337745435, 11.710849725405033, 11.71326157498729, 11.711903010698354, 10.877191218401732, 9.205170037843226, 8.367955804888798, 8.367930741733444, 8.367676360616437, 7.53115412618362, 7.53245962511282, 7.531174131358522, 7.533148085391016, 6.695039281941639, 6.69565310712451, 6.693625982720839, 6.696031138056678, 6.694786891097282, 6.69667409491792, 6.696833811453926, 12.602924977889803, 12.578111046912092, 27.556565339159896, 10.842873544973028, 17.673489864994796, 58.54602347132141, 71.99979885775781, 13.493859551164928, 28.99516656624044, 20.24413073282269, 35.026207829079574, 33.006636847413304, 80.38250607826984, 161.9200626926048, 102.08185895886446, 52.6889338499252, 150.96409721262637, 121.89636671144632, 237.79319849626347, 140.01831381329956, 347.602126189682, 225.05600255866008, 51.656153406329466, 155.75486109351405, 108.48323129910064, 191.71215442350407, 89.74048357951621, 199.49553610358123, 186.90120787640768, 52.147145249109705, 17.673021692466765, 13.676258866119205, 10.464210702747813, 8.056894222482097, 8.86496992743133, 7.256640179989401, 7.259469053095666, 7.259726186716628, 6.45415176768474, 6.455138094041376, 6.454858854874254, 11.950563334876298, 6.457457371313411, 6.4581811890722784, 4.851408910638416, 4.850903424675851, 4.851623515397521, 4.852065635341807, 4.852227143972413, 4.852222988687539, 4.8522081579842125, 4.851602712556004, 4.853660080459435, 4.049301561927982, 4.0501194563329905, 4.050673911036213, 4.0504883396334215, 4.0504222896842546, 4.050554548113291, 10.649977261242892, 23.911679597752862, 7.367923420365001, 5.699221811615741, 22.80671062847963, 12.242233303758125, 18.618856362676627, 36.68172390415941, 38.51317790842173, 13.435773681626682, 27.683891912699575, 63.79672126251432, 161.9200626926048, 28.1063700500412, 40.363782488377296, 16.65546175540094, 56.536038373608434, 61.838145535994315, 237.79319849626347, 27.890835554266456, 23.534938858434924, 18.65183095196303, 86.28227033038512, 60.820564826303574, 20.855345910239887, 158.8564587364704, 347.602126189682, 225.05600255866008, 155.75486109351405, 145.1420793487934, 145.93648957052636, 179.4095007726749, 169.99853084386825, 113.6565203133138, 191.71215442350407, 148.81789975574378, 9.751683825948794, 6.336493990079854, 5.635138893434386, 5.63945666516537, 28.40498771174267, 4.954481189109028, 4.957482757235386, 19.229319527380355, 4.270136993201005, 4.271682175537515, 4.272167772274551, 3.584973548858293, 3.586729025707596, 2.896098652169131, 2.896085916667683, 9.421861677936615, 2.899232184204147, 2.899506440674708, 2.8995730109941737, 2.8999233296135407, 2.9003561447164943, 2.8998856005669773, 2.8999956108941087, 2.9008820634143238, 2.9006756195270804, 2.900618954744974, 2.9006903241543522, 2.9009049680329553, 2.901010642613698, 2.903102954535677, 7.314351363548401, 51.798786779357556, 6.688557114562468, 8.14666301673596, 70.20452038860532, 9.95197448940647, 62.61903698789499, 8.848550170641026, 9.157543952556445, 9.151852007083711, 84.4057958092793, 12.337445296189939, 12.419614727279411, 52.97293253461286, 11.589459821867248, 10.768890708162958, 19.26954558356504, 56.536038373608434, 49.76459282491129, 10.770386545046456, 63.98873035867121, 47.25246270995436, 161.9200626926048, 191.71215442350407, 148.81789975574378, 237.79319849626347, 32.086545726502735, 199.49553610358123, 347.602126189682, 69.80827914068934, 121.91456558107656, 121.89636671144632, 59.31521981887746, 169.99853084386825, 186.90120787640768, 225.05600255866008, 87.28644520209299, 88.54063625219622], \"Category\": [\"Default\", \"Default\", \"Default\", \"Default\", \"Default\", \"Default\", \"Default\", \"Default\", \"Default\", \"Default\", \"Default\", \"Default\", \"Default\", \"Default\", \"Default\", \"Default\", \"Default\", \"Default\", \"Default\", \"Default\", \"Default\", \"Default\", \"Default\", \"Default\", \"Default\", \"Default\", \"Default\", \"Default\", \"Default\", \"Default\", \"Topic1\", \"Topic1\", \"Topic1\", \"Topic1\", \"Topic1\", \"Topic1\", \"Topic1\", \"Topic1\", \"Topic1\", \"Topic1\", \"Topic1\", \"Topic1\", \"Topic1\", \"Topic1\", \"Topic1\", \"Topic1\", \"Topic1\", \"Topic1\", \"Topic1\", \"Topic1\", \"Topic1\", \"Topic1\", \"Topic1\", \"Topic1\", \"Topic1\", \"Topic1\", \"Topic1\", \"Topic1\", \"Topic1\", \"Topic1\", \"Topic1\", \"Topic1\", \"Topic1\", \"Topic1\", \"Topic1\", \"Topic1\", \"Topic1\", \"Topic1\", \"Topic1\", \"Topic1\", \"Topic1\", \"Topic1\", \"Topic1\", \"Topic1\", \"Topic1\", \"Topic1\", \"Topic1\", \"Topic1\", \"Topic1\", \"Topic1\", \"Topic1\", \"Topic1\", \"Topic1\", \"Topic1\", \"Topic1\", \"Topic1\", \"Topic1\", \"Topic1\", \"Topic1\", \"Topic1\", \"Topic1\", \"Topic1\", \"Topic1\", \"Topic2\", \"Topic2\", \"Topic2\", \"Topic2\", \"Topic2\", \"Topic2\", \"Topic2\", \"Topic2\", \"Topic2\", \"Topic2\", \"Topic2\", \"Topic2\", \"Topic2\", \"Topic2\", \"Topic2\", \"Topic2\", \"Topic2\", \"Topic2\", \"Topic2\", \"Topic2\", \"Topic2\", \"Topic2\", \"Topic2\", \"Topic2\", \"Topic2\", \"Topic2\", \"Topic2\", \"Topic2\", \"Topic2\", \"Topic2\", \"Topic2\", \"Topic2\", \"Topic2\", \"Topic2\", \"Topic2\", \"Topic2\", \"Topic2\", \"Topic2\", \"Topic2\", \"Topic2\", \"Topic2\", \"Topic2\", \"Topic2\", \"Topic2\", \"Topic2\", \"Topic2\", \"Topic2\", \"Topic2\", \"Topic2\", \"Topic2\", \"Topic2\", \"Topic2\", \"Topic2\", \"Topic2\", \"Topic2\", \"Topic2\", \"Topic2\", \"Topic2\", \"Topic2\", \"Topic2\", \"Topic2\", \"Topic2\", \"Topic2\", \"Topic2\", \"Topic3\", \"Topic3\", \"Topic3\", \"Topic3\", \"Topic3\", \"Topic3\", \"Topic3\", \"Topic3\", \"Topic3\", \"Topic3\", \"Topic3\", \"Topic3\", \"Topic3\", \"Topic3\", \"Topic3\", \"Topic3\", \"Topic3\", \"Topic3\", \"Topic3\", \"Topic3\", \"Topic3\", \"Topic3\", \"Topic3\", \"Topic3\", \"Topic3\", \"Topic3\", \"Topic3\", \"Topic3\", \"Topic3\", \"Topic3\", \"Topic3\", \"Topic3\", \"Topic3\", \"Topic3\", \"Topic3\", \"Topic3\", \"Topic3\", \"Topic3\", \"Topic3\", \"Topic3\", \"Topic3\", \"Topic3\", \"Topic3\", \"Topic3\", \"Topic3\", \"Topic3\", \"Topic3\", \"Topic3\", \"Topic3\", \"Topic3\", \"Topic3\", \"Topic3\", \"Topic3\", \"Topic3\", \"Topic3\", \"Topic3\", \"Topic3\", \"Topic3\", \"Topic3\", \"Topic3\", \"Topic3\", \"Topic4\", \"Topic4\", \"Topic4\", \"Topic4\", \"Topic4\", \"Topic4\", \"Topic4\", \"Topic4\", \"Topic4\", \"Topic4\", \"Topic4\", \"Topic4\", \"Topic4\", \"Topic4\", \"Topic4\", \"Topic4\", \"Topic4\", \"Topic4\", \"Topic4\", \"Topic4\", \"Topic4\", \"Topic4\", \"Topic4\", \"Topic4\", \"Topic4\", \"Topic4\", \"Topic4\", \"Topic4\", \"Topic4\", \"Topic4\", \"Topic4\", \"Topic4\", \"Topic4\", \"Topic4\", \"Topic4\", \"Topic4\", \"Topic4\", \"Topic4\", \"Topic4\", \"Topic4\", \"Topic4\", \"Topic4\", \"Topic4\", \"Topic4\", \"Topic4\", \"Topic4\", \"Topic4\", \"Topic4\", \"Topic4\", \"Topic4\", \"Topic4\", \"Topic4\", \"Topic4\", \"Topic4\", \"Topic4\", \"Topic4\", \"Topic4\", \"Topic4\", \"Topic4\", \"Topic4\", \"Topic5\", \"Topic5\", \"Topic5\", \"Topic5\", \"Topic5\", \"Topic5\", \"Topic5\", \"Topic5\", \"Topic5\", \"Topic5\", \"Topic5\", \"Topic5\", \"Topic5\", \"Topic5\", \"Topic5\", \"Topic5\", \"Topic5\", \"Topic5\", \"Topic5\", \"Topic5\", \"Topic5\", \"Topic5\", \"Topic5\", \"Topic5\", \"Topic5\", \"Topic5\", \"Topic5\", \"Topic5\", \"Topic5\", \"Topic5\", \"Topic5\", \"Topic5\", \"Topic5\", \"Topic5\", \"Topic5\", \"Topic5\", \"Topic5\", \"Topic5\", \"Topic5\", \"Topic5\", \"Topic5\", \"Topic5\", \"Topic5\", \"Topic5\", \"Topic5\", \"Topic5\", \"Topic5\", \"Topic5\", \"Topic5\", \"Topic5\", \"Topic5\", \"Topic5\", \"Topic5\", \"Topic5\", \"Topic5\", \"Topic5\", \"Topic5\", \"Topic5\", \"Topic5\", \"Topic5\", \"Topic5\", \"Topic5\", \"Topic6\", \"Topic6\", \"Topic6\", \"Topic6\", \"Topic6\", \"Topic6\", \"Topic6\", \"Topic6\", \"Topic6\", \"Topic6\", \"Topic6\", \"Topic6\", \"Topic6\", \"Topic6\", \"Topic6\", \"Topic6\", \"Topic6\", \"Topic6\", \"Topic6\", \"Topic6\", \"Topic6\", \"Topic6\", \"Topic6\", \"Topic6\", \"Topic6\", \"Topic6\", \"Topic6\", \"Topic6\", \"Topic6\", \"Topic6\", \"Topic6\", \"Topic6\", \"Topic6\", \"Topic6\", \"Topic6\", \"Topic6\", \"Topic6\", \"Topic6\", \"Topic6\", \"Topic6\", \"Topic6\", \"Topic6\", \"Topic6\", \"Topic6\", \"Topic6\", \"Topic6\", \"Topic6\", \"Topic6\", \"Topic6\", \"Topic6\", \"Topic6\", \"Topic6\", \"Topic6\", \"Topic6\", \"Topic6\", \"Topic6\", \"Topic6\", \"Topic6\", \"Topic6\", \"Topic6\", \"Topic6\", \"Topic7\", \"Topic7\", \"Topic7\", \"Topic7\", \"Topic7\", \"Topic7\", \"Topic7\", \"Topic7\", \"Topic7\", \"Topic7\", \"Topic7\", \"Topic7\", \"Topic7\", \"Topic7\", \"Topic7\", \"Topic7\", \"Topic7\", \"Topic7\", \"Topic7\", \"Topic7\", \"Topic7\", \"Topic7\", \"Topic7\", \"Topic7\", \"Topic7\", \"Topic7\", \"Topic7\", \"Topic7\", \"Topic7\", \"Topic7\", \"Topic7\", \"Topic7\", \"Topic7\", \"Topic7\", \"Topic7\", \"Topic7\", \"Topic7\", \"Topic7\", \"Topic7\", \"Topic7\", \"Topic7\", \"Topic7\", \"Topic7\", \"Topic7\", \"Topic7\", \"Topic7\", \"Topic7\", \"Topic7\", \"Topic7\", \"Topic7\", \"Topic7\", \"Topic7\", \"Topic7\", \"Topic7\", \"Topic7\", \"Topic7\", \"Topic7\", \"Topic7\", \"Topic7\", \"Topic7\", \"Topic8\", \"Topic8\", \"Topic8\", \"Topic8\", \"Topic8\", \"Topic8\", \"Topic8\", \"Topic8\", \"Topic8\", \"Topic8\", \"Topic8\", \"Topic8\", \"Topic8\", \"Topic8\", \"Topic8\", \"Topic8\", \"Topic8\", \"Topic8\", \"Topic8\", \"Topic8\", \"Topic8\", \"Topic8\", \"Topic8\", \"Topic8\", \"Topic8\", \"Topic8\", \"Topic8\", \"Topic8\", \"Topic8\", \"Topic8\", \"Topic8\", \"Topic8\", \"Topic8\", \"Topic8\", \"Topic8\", \"Topic8\", \"Topic8\", \"Topic8\", \"Topic8\", \"Topic8\", \"Topic8\", \"Topic8\", \"Topic8\", \"Topic8\", \"Topic8\", \"Topic8\", \"Topic8\", \"Topic8\", \"Topic8\", \"Topic8\", \"Topic8\", \"Topic8\", \"Topic8\", \"Topic8\", \"Topic8\", \"Topic8\", \"Topic8\", \"Topic8\", \"Topic8\", \"Topic9\", \"Topic9\", \"Topic9\", \"Topic9\", \"Topic9\", \"Topic9\", \"Topic9\", \"Topic9\", \"Topic9\", \"Topic9\", \"Topic9\", \"Topic9\", \"Topic9\", \"Topic9\", \"Topic9\", \"Topic9\", \"Topic9\", \"Topic9\", \"Topic9\", \"Topic9\", \"Topic9\", \"Topic9\", \"Topic9\", \"Topic9\", \"Topic9\", \"Topic9\", \"Topic9\", \"Topic9\", \"Topic9\", \"Topic9\", \"Topic9\", \"Topic9\", \"Topic9\", \"Topic9\", \"Topic9\", \"Topic9\", \"Topic9\", \"Topic9\", \"Topic9\", \"Topic9\", \"Topic9\", \"Topic9\", \"Topic9\", \"Topic9\", \"Topic9\", \"Topic9\", \"Topic9\", \"Topic9\", \"Topic9\", \"Topic9\", \"Topic9\", \"Topic9\", \"Topic9\", \"Topic9\", \"Topic9\", \"Topic9\", \"Topic9\", \"Topic9\", \"Topic9\", \"Topic9\", \"Topic9\", \"Topic9\", \"Topic9\", \"Topic9\", \"Topic9\", \"Topic9\", \"Topic10\", \"Topic10\", \"Topic10\", \"Topic10\", \"Topic10\", \"Topic10\", \"Topic10\", \"Topic10\", \"Topic10\", \"Topic10\", \"Topic10\", \"Topic10\", \"Topic10\", \"Topic10\", \"Topic10\", \"Topic10\", \"Topic10\", \"Topic10\", \"Topic10\", \"Topic10\", \"Topic10\", \"Topic10\", \"Topic10\", \"Topic10\", \"Topic10\", \"Topic10\", \"Topic10\", \"Topic10\", \"Topic10\", \"Topic10\", \"Topic10\", \"Topic10\", \"Topic10\", \"Topic10\", \"Topic10\", \"Topic10\", \"Topic10\", \"Topic10\", \"Topic10\", \"Topic10\", \"Topic10\", \"Topic10\", \"Topic10\", \"Topic10\", \"Topic10\", \"Topic10\", \"Topic10\", \"Topic10\", \"Topic10\", \"Topic10\", \"Topic10\", \"Topic10\", \"Topic10\", \"Topic10\", \"Topic10\", \"Topic10\", \"Topic10\", \"Topic10\", \"Topic10\", \"Topic10\", \"Topic10\", \"Topic10\", \"Topic10\", \"Topic10\", \"Topic10\", \"Topic10\", \"Topic10\", \"Topic10\"], \"logprob\": [30.0, 29.0, 28.0, 27.0, 26.0, 25.0, 24.0, 23.0, 22.0, 21.0, 20.0, 19.0, 18.0, 17.0, 16.0, 15.0, 14.0, 13.0, 12.0, 11.0, 10.0, 9.0, 8.0, 7.0, 6.0, 5.0, 4.0, 3.0, 2.0, 1.0, -4.7882, -6.2231, -6.2234, -6.2656, -6.1131, -6.3128, -6.455, -6.4564, -5.2819, -5.847, -6.6261, -6.5711, -4.1427, -5.5539, -6.8361, -6.2262, -6.8472, -7.0027, -7.0929, -7.0969, -6.1245, -6.409, -6.509, -7.3134, -7.3173, -7.3183, -7.3189, -6.6326, -7.3287, -7.448, -6.2265, -5.844, -6.1192, -5.2542, -6.5667, -6.3274, -5.7515, -5.7698, -5.8661, -5.4583, -6.0395, -5.4451, -5.6076, -5.6054, -5.7221, -6.0821, -5.7948, -5.637, -5.5604, -5.5805, -5.7595, -5.5592, -6.036, -5.4927, -5.6093, -5.3664, -5.6338, -5.842, -5.8375, -5.8433, -5.9597, -5.9436, -5.9267, -5.3688, -5.8985, -4.4463, -6.5239, -6.588, -6.6625, -5.9049, -6.7341, -6.6649, -6.8099, -6.7367, -6.2844, -6.8174, -6.9882, -6.9949, -7.0943, -7.0956, -6.4082, -6.8439, -5.6839, -7.3406, -7.3478, -7.3479, -5.5146, -7.35, -7.1274, -7.2392, -7.2395, -7.1368, -7.2448, -5.6697, -4.4697, -5.0704, -5.8077, -6.9015, -6.0864, -5.9029, -4.2703, -5.4357, -6.6602, -5.8585, -6.1276, -6.4993, -6.0167, -5.6725, -5.7174, -5.1308, -5.9183, -5.6172, -5.5217, -5.4436, -5.5422, -5.6793, -5.6574, -5.8339, -5.6107, -5.7324, -5.7211, -5.8111, -5.8813, -5.8488, -5.8729, -5.8844, -5.8836, -4.5317, -4.4185, -5.2647, -5.6692, -5.7011, -5.7021, -5.5933, -6.2438, -6.2987, -6.3015, -6.492, -5.7334, -6.4925, -6.6444, -6.0755, -6.7313, -6.7353, -6.8254, -6.8254, -6.8257, -6.8261, -6.8263, -6.9312, -6.2425, -7.0455, -7.0465, -7.0521, -7.1782, -7.1787, -7.1793, -6.6179, -4.5418, -6.0434, -5.4333, -5.6975, -5.7019, -6.4255, -5.0687, -5.6525, -6.1907, -4.941, -5.3776, -5.8646, -5.5667, -6.1798, -5.8914, -5.4952, -5.7181, -6.2421, -5.0879, -5.6311, -5.5693, -5.9815, -5.6603, -5.5594, -5.7507, -5.5915, -5.7769, -5.7759, -5.7509, -5.8243, -4.1082, -4.3243, -5.051, -6.0176, -6.0631, -5.9788, -5.397, -6.274, -6.4647, -6.5403, -6.5407, -5.7773, -6.7067, -6.801, -4.4966, -6.9036, -6.9045, -6.9097, -7.0222, -7.1494, -7.1529, -6.1127, -7.2988, -6.4666, -7.299, -5.8134, -7.3045, -7.3045, -7.3051, -7.4809, -4.6951, -6.1629, -5.4974, -6.2166, -6.3977, -5.4982, -5.1513, -5.7102, -5.0134, -5.9933, -5.9811, -6.1635, -4.8525, -5.315, -6.0162, -5.5185, -5.246, -5.6269, -5.7326, -5.6393, -5.595, -5.8336, -5.8464, -5.7035, -5.887, -5.8258, -5.8849, -5.8416, -5.9038, -5.956, -5.3532, -5.6299, -5.9743, -6.1206, -6.2288, -6.2936, -6.2944, -6.4951, -4.4444, -6.5749, -6.7553, -6.7588, -6.387, -6.9751, -6.9758, -6.9759, -6.9795, -7.1053, -7.1076, -7.1081, -7.1087, -7.2567, -7.2594, -7.2627, -7.1278, -7.2636, -6.5074, -6.5739, -7.4356, -7.4365, -6.2407, -6.2631, -5.45, -6.6649, -4.7825, -6.6419, -5.4834, -5.8619, -5.4118, -5.7647, -5.8646, -5.7383, -6.0881, -5.5962, -5.8514, -5.2251, -5.8996, -5.6973, -5.688, -5.5945, -5.8731, -5.5373, -5.5558, -5.5658, -5.4746, -5.7658, -5.7877, -5.757, -5.9082, -5.8865, -5.7494, -5.778, -4.3829, -4.0378, -5.1239, -5.341, -5.5865, -5.7219, -5.9606, -6.0082, -6.0553, -6.1076, -6.0633, -5.1847, -6.4844, -6.5646, -6.5666, -6.6511, -6.7432, -6.7435, -6.7441, -6.7441, -6.7442, -6.745, -6.7451, -6.8475, -6.7531, -6.8503, -6.8539, -6.9661, -6.339, -7.0929, -6.0565, -4.7104, -5.0647, -6.1059, -5.7198, -6.0572, -4.2552, -6.009, -4.4712, -5.4991, -5.8737, -5.4981, -4.8953, -5.7204, -5.793, -5.2665, -5.1375, -5.2948, -5.5823, -5.5917, -5.1405, -5.652, -5.8732, -5.6138, -5.7953, -5.641, -5.5078, -5.6843, -5.6811, -5.6826, -5.6902, -4.2785, -5.2844, -5.8476, -5.8504, -5.8552, -6.1047, -5.3113, -6.3731, -6.3741, -5.3861, -6.5398, -6.632, -6.6322, -6.6326, -6.633, -6.7367, -6.738, -6.8518, -6.8527, -6.8535, -6.8577, -6.8599, -6.9817, -6.9855, -6.9867, -6.9893, -7.1341, -7.1353, -7.1362, -7.1376, -6.5384, -4.8641, -5.3173, -6.4488, -6.1071, -4.0596, -5.6126, -6.3714, -4.8664, -6.2978, -6.4512, -5.2813, -5.9919, -5.6121, -5.7186, -5.8915, -5.9426, -5.2602, -6.1069, -5.1069, -5.9404, -5.725, -5.634, -5.7684, -5.8502, -5.8958, -6.0539, -6.0412, -6.0474, -6.1017, -4.5456, -4.7918, -5.4353, -5.4995, -5.8018, -5.8558, -5.9039, -5.1885, -6.1846, -6.1248, -4.7245, -6.331, -6.3316, -6.3318, -6.411, -6.5916, -6.6926, -6.6926, -6.6952, -6.8118, -6.8116, -6.8118, -6.8131, -6.9356, -6.9367, -6.9399, -6.9431, -6.9433, -6.9436, -6.9453, -6.326, -6.3281, -5.6037, -6.4976, -6.0617, -5.1867, -5.0859, -6.4069, -5.902, -6.189, -5.8537, -5.9259, -5.5313, -5.2104, -5.5366, -5.8706, -5.605, -5.7174, -5.5414, -5.6827, -5.5264, -5.672, -6.006, -5.8056, -5.9089, -5.8437, -5.9569, -5.9241, -5.9519, -4.4952, -5.6035, -5.8832, -6.1632, -6.4457, -6.3508, -6.5649, -6.5692, -6.5695, -6.6916, -6.6928, -6.6947, -6.084, -6.7009, -6.7021, -7.0233, -7.0244, -7.0259, -7.0267, -7.027, -7.0271, -7.0272, -7.0275, -7.0323, -7.242, -7.2425, -7.243, -7.2448, -7.2455, -7.2455, -6.3083, -5.6064, -6.6944, -6.9318, -5.7057, -6.2806, -5.9639, -5.5432, -5.6175, -6.3697, -5.9282, -5.415, -4.9727, -6.0044, -5.825, -6.3426, -5.8062, -5.8273, -5.3679, -6.1616, -6.2457, -6.3274, -5.8175, -5.9762, -6.3189, -5.9265, -5.8081, -5.8825, -5.9614, -6.0177, -6.0204, -6.0068, -6.043, -6.1025, -6.0671, -6.0974, -5.6638, -6.1506, -6.2716, -6.2754, -4.6769, -6.4274, -6.4296, -5.0978, -6.6066, -6.6086, -6.609, -6.8255, -6.8264, -7.0982, -7.0985, -5.9217, -7.1042, -7.1049, -7.105, -7.1051, -7.105, -7.1054, -7.1054, -7.1057, -7.1064, -7.1066, -7.1066, -7.1072, -7.1074, -7.1103, -6.2785, -4.5768, -6.4295, -6.2762, -4.6426, -6.1609, -4.7887, -6.276, -6.2726, -6.2759, -4.6965, -6.1428, -6.1436, -5.2075, -6.2189, -6.2769, -5.9223, -5.2867, -5.7088, -6.2773, -5.6834, -5.8148, -5.5161, -5.5101, -5.5854, -5.4933, -5.9832, -5.5727, -5.5779, -5.9202, -5.8683, -5.9067, -6.0206, -5.9193, -5.9105, -5.9158, -6.016, -6.0635], \"loglift\": [30.0, 29.0, 28.0, 27.0, 26.0, 25.0, 24.0, 23.0, 22.0, 21.0, 20.0, 19.0, 18.0, 17.0, 16.0, 15.0, 14.0, 13.0, 12.0, 11.0, 10.0, 9.0, 8.0, 7.0, 6.0, 5.0, 4.0, 3.0, 2.0, 1.0, 1.8479, 1.8215, 1.8213, 1.82, 1.8184, 1.8157, 1.8136, 1.8123, 1.8074, 1.807, 1.8057, 1.8037, 1.8025, 1.7989, 1.7912, 1.7814, 1.7807, 1.7797, 1.7768, 1.7731, 1.7728, 1.7668, 1.7609, 1.7586, 1.7549, 1.754, 1.7534, 1.7453, 1.744, 1.7431, 1.7427, 1.7375, 1.7156, 1.6736, 1.7057, 1.6856, 1.6286, 1.5495, 1.5613, 1.4276, 1.5523, 1.3291, 1.3577, 1.3475, 1.2899, 1.4886, 1.2572, 1.1118, 0.9939, 0.9946, 1.0839, 0.81, 1.3749, 0.2625, 0.4942, -0.046, 0.348, 0.5635, 0.1982, 0.0722, 0.8009, 0.4554, -0.2267, 1.9614, 1.9497, 1.9307, 1.9267, 1.9234, 1.914, 1.9129, 1.9117, 1.9117, 1.9099, 1.9093, 1.9087, 1.9029, 1.8995, 1.8933, 1.8894, 1.888, 1.8812, 1.8769, 1.8682, 1.8676, 1.8609, 1.8608, 1.8587, 1.8586, 1.8571, 1.8516, 1.851, 1.8484, 1.8458, 1.8358, 1.8052, 1.7011, 1.7212, 1.8215, 1.6481, 1.6015, 1.2589, 1.4977, 1.7391, 1.3951, 1.5008, 1.6077, 1.3061, 0.8798, 0.8826, 0.1896, 0.9946, 0.6291, 0.4192, 0.3116, 0.3733, 0.5249, 0.4658, 0.5743, 0.0894, 0.2494, -0.0015, 0.2246, 0.4871, 0.2547, 0.4204, 0.3967, 0.2596, 2.1549, 2.1489, 2.1457, 2.1368, 2.1355, 2.1346, 2.125, 2.1151, 2.1145, 2.1117, 2.1041, 2.1038, 2.1034, 2.095, 2.0911, 2.0883, 2.0843, 2.0818, 2.0816, 2.0814, 2.081, 2.0808, 2.0715, 2.0642, 2.0631, 2.062, 2.0562, 2.0486, 2.0481, 2.0475, 2.0455, 1.885, 1.9722, 1.9019, 1.9262, 1.9166, 1.9882, 1.7473, 1.7874, 1.8963, 1.3053, 1.488, 1.6599, 1.4832, 1.8007, 1.5666, 1.2071, 1.3705, 1.8009, 0.2325, 0.9441, 0.6244, 1.4415, 0.5281, 0.1957, 0.6893, 0.1281, 0.6518, 0.1396, -0.0509, 0.1166, 2.1954, 2.1942, 2.1859, 2.1622, 2.1611, 2.1586, 2.1558, 2.1513, 2.1434, 2.1366, 2.1362, 2.1348, 2.1248, 2.1177, 2.1143, 2.1106, 2.1098, 2.1048, 2.0973, 2.0884, 2.0851, 2.074, 2.0733, 2.0732, 2.073, 2.0682, 2.0676, 2.0676, 2.0671, 2.0457, 1.9977, 2.0182, 1.9183, 1.9716, 1.888, 1.671, 1.5829, 1.5715, 1.2163, 1.6475, 1.5995, 1.6818, 0.8672, 1.1233, 1.4195, 0.6359, 0.0744, 0.6295, 0.6961, 0.3016, 0.1051, 0.7844, 0.8038, 0.1722, 0.8861, 0.3174, 0.6902, 0.1402, 0.4643, 0.1475, 2.2251, 2.2204, 2.2066, 2.2002, 2.1976, 2.1901, 2.1893, 2.1831, 2.1801, 2.1774, 2.1645, 2.1619, 2.1585, 2.1459, 2.1452, 2.1451, 2.1416, 2.1338, 2.1316, 2.1311, 2.1305, 2.1164, 2.1137, 2.1114, 2.1114, 2.1096, 2.1043, 2.1018, 2.0923, 2.0913, 2.0798, 2.0168, 1.8855, 2.0054, 1.6257, 1.962, 1.5985, 1.7129, 1.5346, 1.6005, 1.546, 1.4308, 1.615, 1.3106, 1.4665, 1.0682, 1.4868, 1.3371, 1.2321, 1.1134, 1.3805, 0.8682, 0.3199, 0.1893, -0.1541, 0.6023, 0.4165, 0.2787, 0.8276, 0.6657, -0.0297, -0.0779, 2.2546, 2.2519, 2.2448, 2.2414, 2.2374, 2.2311, 2.2246, 2.2213, 2.2209, 2.2172, 2.2136, 2.2019, 2.1977, 2.1916, 2.1901, 2.1854, 2.1806, 2.1803, 2.1796, 2.1795, 2.1794, 2.1786, 2.1786, 2.1719, 2.1715, 2.1688, 2.166, 2.1586, 2.1531, 2.1502, 2.1312, 2.0726, 2.0567, 2.1183, 2.0768, 2.0862, 1.8052, 2.0506, 1.6669, 1.8959, 1.981, 1.8545, 1.6814, 1.7698, 1.7838, 1.4972, 1.2318, 1.3248, 1.5408, 1.4145, 0.7352, 1.4507, 1.762, 0.9385, 1.3452, 0.6523, -0.1874, 0.7557, 0.5754, 0.4209, 0.4642, 2.3816, 2.3777, 2.3682, 2.3651, 2.3599, 2.3561, 2.3482, 2.3386, 2.3377, 2.3305, 2.3261, 2.3207, 2.3206, 2.3204, 2.3197, 2.3114, 2.3095, 2.3014, 2.3005, 2.2997, 2.2951, 2.2927, 2.2891, 2.2855, 2.2837, 2.2814, 2.2701, 2.2689, 2.268, 2.2667, 2.2443, 2.0616, 2.0915, 2.1843, 2.0507, 1.4696, 1.7332, 2.0289, 1.3378, 1.9133, 1.9985, 0.9998, 1.5759, 1.2384, 1.2678, 1.417, 1.4415, 0.4594, 1.6214, 0.2135, 1.3178, 0.5682, 0.1211, -0.0683, 0.0907, 0.273, 0.7427, 0.0193, -0.1319, 0.8177, 2.4355, 2.4313, 2.4184, 2.4166, 2.4129, 2.4031, 2.4016, 2.3983, 2.3932, 2.3919, 2.3894, 2.3799, 2.3792, 2.3791, 2.3738, 2.3601, 2.3545, 2.3544, 2.3519, 2.3407, 2.3407, 2.3406, 2.3391, 2.3346, 2.3333, 2.3304, 2.3269, 2.3268, 2.3263, 2.3246, 2.3115, 2.3114, 2.2515, 2.2904, 2.2377, 1.9149, 1.8089, 2.1623, 1.9023, 1.9746, 1.7617, 1.7489, 1.2534, 0.874, 1.0091, 1.3365, 0.5495, 0.6509, 0.1587, 0.5471, -0.206, 0.0831, 1.2209, 0.3176, 0.576, 0.0718, 0.7177, -0.0484, -0.011, 2.7222, 2.6959, 2.6727, 2.6603, 2.6392, 2.6386, 2.6247, 2.62, 2.6196, 2.6152, 2.6139, 2.612, 2.6068, 2.6054, 2.6041, 2.5689, 2.5679, 2.5663, 2.5654, 2.565, 2.565, 2.5649, 2.5646, 2.5594, 2.531, 2.5303, 2.5296, 2.5279, 2.5272, 2.5271, 2.4977, 2.3907, 2.48, 2.4993, 2.3387, 2.386, 2.2834, 2.026, 1.903, 2.2039, 1.9224, 1.6008, 1.1117, 1.8311, 1.6485, 2.0162, 1.3304, 1.2196, 0.3322, 1.6816, 1.7674, 1.9182, 0.8964, 1.0874, 1.8149, 0.177, -0.4876, -0.1273, 0.1618, 0.1761, 0.1679, -0.025, -0.0073, 0.3358, -0.1516, 0.0714, 3.2303, 3.1745, 3.1708, 3.1663, 3.1481, 3.1438, 3.141, 3.1172, 3.1132, 3.1109, 3.1104, 3.0693, 3.0679, 3.0099, 3.0097, 3.0067, 3.0029, 3.0021, 3.002, 3.0017, 3.0016, 3.0014, 3.0013, 3.0008, 3.0001, 3.0, 3.0, 2.9993, 2.999, 2.9954, 2.9032, 2.6473, 2.8416, 2.7977, 2.2775, 2.7129, 2.2457, 2.7153, 2.6843, 2.6817, 2.0394, 2.516, 2.5086, 1.9942, 2.5025, 2.5179, 2.2906, 1.8499, 1.5554, 2.5174, 1.3294, 1.5012, 0.5683, 0.4054, 0.5834, 0.2068, 1.7198, 0.303, -0.2575, 1.0055, 0.4999, 0.4616, 1.068, 0.1164, 0.0304, -0.1606, 0.6863, 0.6246]}, \"token.table\": {\"Topic\": [5, 4, 5, 8, 10, 1, 3, 4, 6, 1, 4, 5, 6, 3, 4, 5, 6, 10, 1, 2, 4, 5, 6, 7, 8, 1, 2, 5, 6, 7, 8, 7, 2, 7, 1, 2, 6, 7, 2, 7, 6, 7, 7, 2, 7, 2, 8, 8, 8, 10, 9, 9, 5, 7, 5, 9, 2, 3, 5, 1, 7, 1, 1, 2, 3, 4, 5, 6, 7, 8, 9, 10, 1, 6, 8, 8, 1, 2, 2, 7, 2, 5, 10, 1, 2, 3, 4, 5, 7, 8, 9, 10, 1, 2, 3, 4, 5, 6, 7, 8, 10, 1, 2, 3, 4, 5, 6, 9, 2, 2, 5, 6, 8, 9, 10, 1, 2, 3, 4, 7, 8, 10, 2, 3, 4, 5, 6, 7, 8, 9, 10, 2, 5, 8, 2, 5, 7, 6, 5, 1, 2, 3, 4, 5, 7, 8, 9, 5, 1, 2, 3, 4, 6, 7, 9, 2, 5, 6, 7, 1, 2, 5, 6, 7, 10, 10, 1, 2, 1, 7, 8, 1, 7, 1, 3, 4, 8, 1, 2, 3, 4, 5, 6, 7, 8, 9, 10, 9, 1, 2, 3, 4, 5, 6, 7, 8, 9, 10, 9, 7, 7, 9, 8, 9, 10, 1, 2, 3, 4, 6, 7, 8, 9, 10, 1, 3, 8, 3, 3, 8, 9, 10, 4, 1, 4, 1, 2, 3, 4, 5, 6, 7, 8, 9, 7, 8, 3, 3, 4, 6, 7, 8, 10, 1, 4, 7, 9, 2, 5, 5, 1, 2, 3, 4, 5, 6, 7, 8, 9, 10, 1, 2, 10, 4, 1, 3, 4, 5, 7, 8, 9, 7, 4, 5, 6, 8, 6, 2, 6, 10, 10, 5, 2, 10, 2, 7, 10, 1, 2, 3, 4, 5, 6, 7, 8, 9, 10, 1, 2, 5, 7, 8, 3, 2, 6, 7, 7, 5, 5, 1, 2, 4, 5, 6, 7, 8, 1, 1, 2, 4, 6, 4, 1, 3, 2, 5, 4, 1, 2, 4, 6, 7, 10, 1, 2, 3, 4, 5, 7, 8, 9, 10, 7, 1, 3, 5, 7, 8, 9, 10, 4, 5, 10, 1, 2, 4, 5, 6, 7, 8, 9, 1, 3, 4, 8, 9, 8, 5, 7, 7, 3, 2, 3, 4, 5, 6, 7, 8, 9, 10, 8, 9, 1, 2, 3, 4, 6, 7, 8, 9, 1, 8, 3, 1, 3, 5, 1, 3, 2, 1, 2, 3, 4, 5, 1, 2, 3, 2, 1, 2, 1, 4, 9, 7, 1, 2, 4, 5, 6, 7, 8, 9, 10, 9, 1, 2, 3, 4, 5, 6, 7, 8, 9, 10, 3, 3, 4, 10, 5, 7, 1, 2, 3, 4, 5, 6, 7, 8, 9, 10, 5, 2, 3, 4, 5, 7, 8, 10, 1, 2, 3, 4, 5, 7, 8, 9, 9, 1, 3, 7, 1, 1, 2, 3, 6, 7, 1, 3, 1, 2, 3, 4, 5, 6, 7, 8, 9, 10, 6, 10, 1, 2, 3, 4, 5, 7, 8, 9, 10, 4, 5, 2, 6, 9, 1, 3, 5, 3, 2, 4, 5, 8, 1, 3, 4, 5, 6, 9, 1, 2, 3, 4, 5, 6, 7, 8, 1, 2, 3, 4, 5, 6, 7, 8, 9, 10, 9, 1, 2, 3, 4, 5, 6, 7, 8, 9, 10, 1, 2, 4, 5, 6, 7, 8, 1, 2, 3, 4, 5, 6, 7, 8, 9, 1, 2, 3, 4, 5, 6, 7, 8, 9, 10, 2, 4, 5, 6, 7, 8, 2, 3, 4, 5, 7, 10, 1, 2, 3, 4, 5, 6, 7, 8, 9, 10, 1, 2, 3, 4, 5, 6, 7, 8, 9, 10, 9, 9, 8, 1, 2, 3, 4, 5, 7, 10, 3, 2, 5, 10, 8, 5, 9, 8, 1, 2, 3, 4, 5, 6, 7, 8, 9, 1, 3, 7, 8, 9, 1, 3, 4, 6, 7, 8, 1, 2, 3, 4, 5, 6, 7, 9, 10, 1, 2, 3, 4, 5, 6, 7, 8, 9, 10, 9, 2, 1, 4, 5, 10, 5, 6, 1, 2, 3, 4, 5, 6, 7, 8, 9, 10, 9, 2, 1, 2, 3, 4, 5, 6, 7, 9, 10, 1, 2, 9, 10, 1, 2, 3, 5, 7, 6, 6, 1, 9, 1, 4, 10, 8, 1, 2, 3, 4, 5, 6, 7, 8, 9, 10, 5, 1, 2, 3, 4, 5, 6, 7, 9, 3, 2, 5, 6, 7, 8, 9, 10, 1, 2, 4, 7, 10, 1, 2, 3, 4, 5, 7, 8, 10, 1, 2, 4, 6, 9, 4, 1, 2, 3, 4, 5, 6, 7, 8, 9, 10, 5, 10, 4, 4, 10, 2, 10, 7, 5, 10, 1, 2, 3, 4, 5, 6, 7, 8, 9, 10, 4, 3, 5, 7, 10, 9, 10, 2, 1, 2, 3, 4, 5, 6, 7, 8, 9, 10, 1, 2, 3, 4, 5, 7, 10, 2, 6, 1, 7, 9, 9, 10, 1, 2, 3, 4, 5, 6, 7, 8, 9, 7, 8, 1, 1, 2, 3, 4, 5, 6, 7, 9, 10, 1, 3, 7, 9, 1, 2, 9, 4, 1, 2, 4, 5, 8, 9, 2, 1, 2, 3, 4, 5, 6, 7, 8, 1, 2, 7, 2, 3, 4, 5, 8, 4, 9, 1, 2, 3, 4, 5, 6, 7, 8, 9, 10, 1, 2, 5, 1, 2, 3, 4, 5, 6, 7, 8, 9, 10, 8, 6, 9, 1, 2, 3, 4, 5, 6, 7, 8, 9, 10, 1, 2, 3, 5, 6, 7, 9, 10, 2, 4, 6, 7, 8, 9, 6, 3, 5, 9, 1, 1, 2, 3, 4, 5, 6, 7, 8, 9, 10, 2, 3, 5, 10, 1, 2, 3, 4, 5, 6, 7, 9, 4, 3, 8, 1, 2, 3, 4, 5, 6, 7, 8, 9, 10, 1, 8, 3, 2, 7, 1, 2, 4, 5, 6, 7, 8, 9, 6, 5, 10, 7, 10, 1, 2, 3, 4, 5, 6, 7, 8, 10, 7, 10, 2, 3, 4, 5, 7, 8, 1, 2, 3, 4, 5, 7, 8, 10, 8, 4, 2, 3, 4, 5, 6, 7, 8, 9, 1, 3, 4, 8, 8, 1, 2, 3, 4, 5, 6, 7, 8, 9, 10, 1, 2, 5, 2, 3, 4, 6, 7, 8, 9, 10, 3, 10, 8, 3, 1, 2, 3, 4, 5, 6, 7, 8, 9, 10, 1, 2, 3, 4, 5, 7, 8, 1, 2, 5, 6, 8, 9, 2, 3, 8, 2, 9, 6, 8, 8, 6, 4, 1, 2, 3, 4, 5, 6, 7, 8, 9, 10, 5, 1, 2, 3, 4, 5, 6, 7, 8, 9, 10, 5, 10, 4, 1, 2, 3, 4, 5, 7, 8, 9, 1, 3, 4, 5, 7, 8, 9, 1, 2, 3, 4, 5, 7, 8, 9, 10, 5, 7, 5, 7, 1, 2, 3, 4, 5, 6, 7, 8, 9, 10, 1, 2, 3, 4, 5, 6, 7, 8, 9, 10, 1, 2, 3, 5, 6, 7, 8, 10, 8, 1, 3, 4, 5, 6, 7, 10, 6, 6, 6, 7, 9, 10, 1, 10, 10, 1, 2, 3, 4, 5, 6, 7, 8, 9, 1, 2, 6, 7, 9, 10, 1, 2, 3, 4, 5, 6, 7, 8, 9, 10, 2, 3, 4, 5, 7, 8, 9, 8, 1, 8, 1, 2, 3, 4, 5, 8, 9, 10, 1, 2, 4, 6, 8, 9, 10, 1, 4, 1, 2, 3, 4, 5, 6, 7, 8, 9, 10, 9, 1, 2, 3, 4, 5, 6, 7, 8, 9, 10, 2, 1, 2, 3, 4, 6, 7, 10, 4, 2, 5, 7, 8, 9, 2, 4, 6, 7, 8, 9, 1, 2, 4, 9, 10, 3, 1, 2, 3, 5, 7, 8, 10, 9, 10, 8, 8, 3, 4, 1, 5, 1, 5, 2, 3, 3, 6, 1, 7, 1, 2, 3, 4, 5, 6, 7, 8, 9, 10, 1, 2, 4, 6, 8, 9, 4, 6, 3, 5, 1, 2, 3, 4, 5, 6, 7, 10, 1, 5, 1, 2, 3, 4, 5, 7, 8, 9, 10, 1, 2, 6, 7, 8, 10, 5, 4, 9, 4, 6, 8, 9, 10, 3, 6, 8, 9, 10, 1, 2, 4, 6, 3, 6, 8, 4, 2, 4, 7, 7, 9, 2, 9, 3, 2, 1, 2, 3, 4, 5, 6, 7, 8, 9, 10, 4, 5, 6, 8, 9, 10, 2, 3, 4, 5, 7, 9, 10, 1, 2, 3, 5, 6, 10, 2, 1, 2, 3, 4, 5, 7, 8, 1, 2, 3, 4, 5, 6, 7, 8, 9, 10, 1, 2, 5, 7, 8, 9, 1, 2, 5, 6, 7, 1, 2, 3, 4, 5, 6, 7, 8, 9, 10, 1, 1, 2, 3, 4, 5, 7, 8, 9, 10, 1, 2, 3, 4, 5, 6, 7, 8, 9, 10, 1, 2, 3, 4, 5, 6, 7, 9, 10, 1, 2, 3, 4, 5, 6, 7, 8, 9, 10, 2, 7, 2, 2, 7, 4, 1, 2, 3, 4, 5, 6, 7, 8, 9, 10, 10, 4, 9, 4, 3, 5, 6, 9, 1, 5, 7, 9, 10, 3, 7, 8, 9, 6, 6, 1, 2, 3, 4, 5, 6, 9, 10, 6, 10, 1, 2, 3, 4, 5, 6, 7, 9, 10, 2, 5, 7, 1, 1, 2, 3, 5, 7, 8, 9, 1, 2, 3, 4, 5, 6, 7, 8, 9, 10, 1, 9, 2, 6, 6, 2, 3, 4, 5, 8, 10, 1, 2, 3, 5, 6, 7, 9, 10, 4, 3, 6, 9, 9, 1, 4, 3, 1, 2, 3, 4, 5, 6, 7, 10, 6, 1, 2, 3, 4, 5, 6, 7, 8, 9, 10, 2, 9, 1, 2, 3, 4, 5, 6, 7, 8, 10, 3, 6, 1, 2, 3, 4, 5, 6, 7, 8, 9, 10, 1, 2, 3, 5, 7, 8, 3, 5, 9, 4, 5, 6, 4, 8, 9, 10, 1, 2, 3, 4, 5, 6, 7, 8, 9, 1, 2, 3, 4, 5, 6, 7, 8, 9, 10, 9, 10, 3, 6, 1, 5, 2, 4, 6, 9, 2, 6, 7, 1, 2, 3, 4, 5, 6, 7, 8, 10, 2, 1, 3, 6, 6, 6, 1, 2, 3, 4, 5, 6, 7, 8, 9, 10, 4, 8, 2, 4, 5, 6, 7, 10, 1, 2, 3, 4, 5, 6, 7, 8, 9, 10, 1, 2, 3, 4, 5, 7, 8, 9, 10, 2, 8, 1, 2, 3, 4, 5, 6, 7, 8, 9, 10, 1, 2, 3, 4, 5, 6, 7, 8, 9, 10, 4, 1, 2, 3, 4, 5, 7, 8, 10, 6, 1, 5, 8, 2, 1, 1, 2, 3, 5, 7, 8, 9, 2, 4, 6, 8, 8, 1, 8, 1, 2, 3, 4, 5, 6, 7, 8, 9, 10, 5, 5, 2, 3, 4, 5, 7, 9, 10, 1, 3, 5, 7, 1, 5, 7, 8, 6, 1, 2, 3, 4, 5, 6, 7, 8, 9, 10, 1, 2, 3, 4, 5, 6, 7, 8, 9, 10, 1, 4, 6, 9, 1, 2, 3, 4, 5, 6, 7, 8, 9, 10, 1, 2, 4, 5, 7, 8, 9, 1, 2, 3, 4, 5, 6, 7, 8, 9, 10, 10, 6, 10, 6, 4], \"Freq\": [0.88993444727257, 0.1725705969683208, 0.2588558954524812, 0.0862852984841604, 0.43142649242080205, 0.8532774752709781, 0.035553228136290756, 0.035553228136290756, 0.035553228136290756, 0.044515855447574276, 0.044515855447574276, 0.08903171089514855, 0.801285398056337, 0.022903065064032495, 0.022903065064032495, 0.22903065064032493, 0.6870919519209748, 0.022903065064032495, 0.09893889852753593, 0.21309916605930815, 0.015221369004236297, 0.3044273800847259, 0.19787779705507186, 0.15982437454448112, 0.007610684502118149, 0.3530891857812922, 0.11495926978925793, 0.1067478933757395, 0.3530891857812922, 0.04926825848111054, 0.016422752827036848, 0.9400029844518284, 0.8697448492938347, 0.10232292344633348, 0.06380461090056115, 0.4856239829653821, 0.05317050908380096, 0.3899170666145404, 0.15799690975513056, 0.7899845487756528, 0.9782323790296084, 0.007583196736663631, 0.9360743573015556, 0.8426930210023024, 0.957277877447865, 0.9481034719376304, 0.8963751508507661, 0.9716619310207738, 0.3682489374897428, 0.6137482291495713, 0.9505523496784247, 0.9296341666524437, 0.09174203558964414, 0.8256783203067973, 0.7730468916312668, 0.740651434703675, 0.9516151550815156, 0.00827491439201318, 0.02482474317603954, 0.8578860402320794, 0.9564212060617472, 0.90098284149923, 0.14756868388894115, 0.12297390324078429, 0.11067651291670587, 0.27054258712972545, 0.07378434194447057, 0.061486951620392145, 0.09837912259262743, 0.09837912259262743, 0.012297390324078429, 0.024594780648156858, 0.10495978977846, 0.83967831822768, 0.9294699442485596, 0.896053180801265, 0.8947855734040102, 0.08134414303672821, 0.9214167583964982, 0.8699257916608429, 0.8843967624879677, 0.05359980378714956, 0.02679990189357478, 0.16142586146986557, 0.05044558170933299, 0.29258437391413133, 0.22196055952106516, 0.09080204707679938, 0.04035646536746639, 0.09080204707679938, 0.030267349025599796, 0.010089116341866598, 0.012059183392046128, 0.10853265052841514, 0.036177550176138384, 0.042207141872161444, 0.0663255086562537, 0.6270775363863986, 0.09044387544034596, 0.006029591696023064, 0.006029591696023064, 0.24905386172376745, 0.03557912310339535, 0.0711582462067907, 0.0711582462067907, 0.0711582462067907, 0.0711582462067907, 0.3913703541373489, 0.9157150906951366, 0.2830053265187565, 0.19456616198164506, 0.01768783290742228, 0.03537566581484456, 0.2476296607039119, 0.2299418277964896, 0.08051779559663166, 0.08051779559663166, 0.16103559119326333, 0.08051779559663166, 0.08051779559663166, 0.08051779559663166, 0.48310677357979004, 0.07224417745550182, 0.07224417745550182, 0.07224417745550182, 0.07224417745550182, 0.07224417745550182, 0.03612208872775091, 0.07224417745550182, 0.43346506473301094, 0.10836626618325274, 0.05778687655577437, 0.8668031483366155, 0.05778687655577437, 0.5566916839269015, 0.4175187629451761, 0.853968003409724, 0.9398578576812507, 0.9750040169226546, 0.46170865919648096, 0.23745016758676163, 0.1055334078163385, 0.05276670390816925, 0.026383351954084627, 0.05276670390816925, 0.03957502793112694, 0.013191675977042313, 0.9006951937935557, 0.1470281783186662, 0.23104428021504686, 0.0630120764222855, 0.08401610189638067, 0.08401610189638067, 0.378072458533713, 0.04200805094819034, 0.43044358791675247, 0.045309851359658156, 0.13592955407897447, 0.3851337365570943, 0.18420861210960035, 0.2344473245031277, 0.5191333613997827, 0.016746237464509123, 0.016746237464509123, 0.016746237464509123, 0.8068611018690984, 0.964853323481256, 0.9704388162809583, 0.9423865601064249, 0.8701243251351187, 0.9420574301274984, 0.029838323526155265, 0.9249880293108133, 0.8831243676055384, 0.027597636487673074, 0.027597636487673074, 0.027597636487673074, 0.11235882442175915, 0.20866638821183844, 0.12841008505343904, 0.14981176589567888, 0.07490588294783944, 0.05885462231615956, 0.09630756379007928, 0.08560672336895936, 0.04815378189503964, 0.03745294147391972, 0.8243644221062367, 0.08539915473601126, 0.1707983094720225, 0.07116596228000938, 0.07116596228000938, 0.07116596228000938, 0.15656511701602063, 0.19926469438402628, 0.08539915473601126, 0.07116596228000938, 0.014233192456001876, 0.824588669329629, 0.8539864663596426, 0.896399770963972, 0.7406175036273316, 0.1672822682174073, 0.710949639923981, 0.08364113410870365, 0.18175596977857544, 0.05193027707959299, 0.025965138539796494, 0.10386055415918598, 0.025965138539796494, 0.12982569269898248, 0.025965138539796494, 0.4414073551765404, 0.025965138539796494, 0.06343125269635586, 0.8246062850526261, 0.06343125269635586, 0.9518959118998617, 0.8094000401847992, 0.1278000063449683, 0.04260000211498943, 0.6889180409104302, 0.9078818285702358, 0.03840984846763415, 0.9218363632232196, 0.08774019515641215, 0.0584934634376081, 0.08774019515641215, 0.08774019515641215, 0.48257107336026683, 0.014623365859402025, 0.1169869268752162, 0.04387009757820608, 0.02924673171880405, 0.9665291595560119, 0.021966571808091178, 0.9510326310431716, 0.162108114928594, 0.081054057464297, 0.162108114928594, 0.081054057464297, 0.081054057464297, 0.48632434478578196, 0.9441648021852652, 0.02195732098105268, 0.02195732098105268, 0.9294921212512082, 0.8963004252758137, 0.056018776579738354, 0.9248870533548705, 0.1722263801795213, 0.08611319008976065, 0.06624091545366204, 0.2053468379063523, 0.04636864081756342, 0.16560228863415508, 0.03974454927219722, 0.1457300139980565, 0.059616823908295834, 0.01987227463609861, 0.10048257268589918, 0.3014477180576975, 0.5024128634294959, 0.9777347694785815, 0.02863697239387126, 0.773198254634524, 0.08591091718161377, 0.02863697239387126, 0.02863697239387126, 0.02863697239387126, 0.02863697239387126, 0.8699376901865885, 0.048408811776493296, 0.048408811776493296, 0.822949800200386, 0.048408811776493296, 0.9771903304377634, 0.05200392029349318, 0.10400784058698637, 0.8320627246958909, 0.6894945393191105, 0.8688470439620938, 0.1408203390401888, 0.8449220342411329, 0.031589069729464736, 0.9160830221544775, 0.031589069729464736, 0.1250220148947823, 0.10939426303293451, 0.15627751861847786, 0.015627751861847786, 0.18753302234217342, 0.15627751861847786, 0.046883255585543356, 0.03125550372369557, 0.03125550372369557, 0.14064976675663007, 0.849790977682228, 0.0424895488841114, 0.0424895488841114, 0.0424895488841114, 0.0424895488841114, 0.9350766849191168, 0.034220665202995354, 0.8212959648718885, 0.10266199560898606, 0.8972224547331804, 0.9090224631627412, 0.8688952457917164, 0.026182996235745163, 0.7593068908366096, 0.026182996235745163, 0.026182996235745163, 0.10473198494298065, 0.026182996235745163, 0.026182996235745163, 0.9326600412606251, 0.7432026701513669, 0.14864053403027336, 0.04246872400864953, 0.06370308601297431, 0.8269387585408333, 0.964867476896076, 0.966380276358697, 0.08243144447532871, 0.8243144447532872, 0.9253501657697554, 0.012419013426618247, 0.08693309398632773, 0.012419013426618247, 0.8196548861568044, 0.024838026853236495, 0.03725704027985474, 0.03479103810494127, 0.13916415241976507, 0.7480073192562373, 0.008697759526235317, 0.026093278578705952, 0.017395519052470634, 0.008697759526235317, 0.017395519052470634, 0.008697759526235317, 0.9301885748374018, 0.01930547146325273, 0.03861094292650546, 0.3281930148752964, 0.03861094292650546, 0.01930547146325273, 0.01930547146325273, 0.5019422580445709, 0.10613613680422866, 0.10613613680422866, 0.7429529576296007, 0.06269914692857924, 0.2194470142500273, 0.12539829385715848, 0.15674786732144808, 0.01567478673214481, 0.06269914692857924, 0.03134957346428962, 0.31349573464289615, 0.9688264796456095, 0.19758813321209323, 0.04939703330302331, 0.5927643996362797, 0.09879406660604662, 0.9140858968092547, 0.8505511901896387, 0.07732283547178533, 0.8699806432769376, 0.88935219303805, 0.0544436600491197, 0.2177746401964788, 0.0544436600491197, 0.02722183002455985, 0.02722183002455985, 0.4355492803929576, 0.02722183002455985, 0.0544436600491197, 0.08166549007367954, 0.8300382700831718, 0.09222647445368576, 0.19199640672009324, 0.15157611056849468, 0.010105074037899644, 0.06063044422739787, 0.5557790720844804, 0.010105074037899644, 0.020210148075799288, 0.010105074037899644, 0.8577550777372741, 0.8959457810850708, 0.9349995268790734, 0.857888544952441, 0.9608178981219155, 0.9636226631046958, 0.9399550108245743, 0.9812557634726049, 0.9792434438835548, 0.06392130673211241, 0.5113704538568993, 0.10653551122018735, 0.042614204488074944, 0.25568522692844964, 0.9083150200439558, 0.03784645916849816, 0.03784645916849816, 0.873605285485324, 0.8789414387019991, 0.05493383991887495, 0.07195861146005576, 0.8635033375206692, 0.7407188929474745, 0.8539934207884023, 0.058242259449497354, 0.029121129724748677, 0.11648451889899471, 0.029121129724748677, 0.6115437242197221, 0.058242259449497354, 0.058242259449497354, 0.08736338917424603, 0.6894910440269306, 0.8264774518601552, 0.20738775240493343, 0.0576077090013704, 0.08065079260191856, 0.04608616720109632, 0.3226031704076742, 0.10369387620246671, 0.0576077090013704, 0.04608616720109632, 0.06912925080164448, 0.01152154180027408, 0.8581616663947521, 0.9617827630877203, 0.8270034342883932, 0.6905872469078044, 0.9548877090278448, 0.8969815383681969, 0.19592119700777907, 0.05877635910233372, 0.10775665835427849, 0.13714483790544535, 0.06857241895272267, 0.03918423940155581, 0.04898029925194477, 0.23510543640933487, 0.06857241895272267, 0.02938817955116686, 0.8688510038705728, 0.09349713196213796, 0.062331421308091974, 0.031165710654045987, 0.5298170811187818, 0.031165710654045987, 0.062331421308091974, 0.18699426392427593, 0.6050151536967615, 0.09307925441488638, 0.09307925441488638, 0.06980944081116479, 0.023269813603721594, 0.023269813603721594, 0.06980944081116479, 0.023269813603721594, 0.929532331364492, 0.031644769860941474, 0.9493430958282442, 0.9301878448016885, 0.8582762112015496, 0.09821512442582923, 0.04910756221291462, 0.04910756221291462, 0.09821512442582923, 0.6875058709808047, 0.0814263394893304, 0.8956897343826343, 0.16172673177596222, 0.11196466046028154, 0.14928621394704206, 0.04976207131568069, 0.024881035657840344, 0.04976207131568069, 0.062202589144600855, 0.2985724278940841, 0.062202589144600855, 0.037321553486760514, 0.9496630241752432, 0.6895080088780026, 0.1734227955969102, 0.024774685085272887, 0.049549370170545774, 0.09909874034109155, 0.024774685085272887, 0.024774685085272887, 0.1981974806821831, 0.32207090610854755, 0.024774685085272887, 0.9459398989311475, 0.82863637945889, 0.0454201804225118, 0.931113698661492, 0.8244698168809151, 0.07672164996995216, 0.15344329993990433, 0.7672164996995217, 0.9350334842307503, 0.8641946579465902, 0.08641946579465902, 0.8688924280651915, 0.964302878760229, 0.23323308375538973, 0.08481203045650536, 0.1060150380706317, 0.44526315989665316, 0.06360902284237901, 0.06360902284237901, 0.5621213888658461, 0.046843449072153834, 0.0780724151202564, 0.046843449072153834, 0.062457932096205114, 0.015614483024051279, 0.0780724151202564, 0.10930138116835895, 0.09694605302040629, 0.05287966528385798, 0.22914521623005124, 0.14982571830426428, 0.05287966528385798, 0.2203319386827416, 0.03525311018923866, 0.13219916320964495, 0.01762655509461933, 0.008813277547309664, 0.8244662817107022, 0.20439357083137677, 0.18662021684603966, 0.1377434933863626, 0.03554670797067422, 0.12441347789735976, 0.026660030978005664, 0.10219678541568838, 0.09331010842301983, 0.057763400452345605, 0.03110336947433994, 0.06902372815619166, 0.33525810818721663, 0.009860532593741665, 0.20707118446857498, 0.266234380031025, 0.088744793343675, 0.029581597781225, 0.08485881912023854, 0.3677215495210337, 0.028286273040079513, 0.028286273040079513, 0.1272882286803578, 0.15557450172043732, 0.1272882286803578, 0.04242940956011927, 0.028286273040079513, 0.14748823212950005, 0.14748823212950005, 0.05530808704856252, 0.07374411606475002, 0.10139815958903128, 0.16592426114568756, 0.05530808704856252, 0.14748823212950005, 0.07374411606475002, 0.018436029016187506, 0.15113107035938586, 0.05037702345312862, 0.02518851172656431, 0.6045242814375434, 0.12594255863282156, 0.02518851172656431, 0.06472059031420599, 0.7550735536657366, 0.021573530104735332, 0.043147060209470664, 0.043147060209470664, 0.06472059031420599, 0.27246739641231443, 0.1617775166198117, 0.059602242965193786, 0.059602242965193786, 0.24692357799865997, 0.017029212275769652, 0.07663145524096343, 0.06811684910307861, 0.034058424551539304, 0.008514606137884826, 0.06318298321499984, 0.09477447482249976, 0.14742696083499962, 0.24220143565749938, 0.021060994404999946, 0.13689646363249966, 0.06318298321499984, 0.13689646363249966, 0.07371348041749981, 0.03159149160749992, 0.7406393283599578, 0.8268289251195535, 0.9193549878099299, 0.269745270250316, 0.0337181587812895, 0.45519514354740825, 0.067436317562579, 0.0337181587812895, 0.0337181587812895, 0.1011544763438685, 0.9519608265622203, 0.9437700796328993, 0.03495444739381109, 0.6896734060436456, 0.9392999020504084, 0.9524121275719662, 0.9556382496554742, 0.9357175055004895, 0.5909006108477373, 0.04924171757064477, 0.04924171757064477, 0.14772515271193432, 0.03693128817798358, 0.04924171757064477, 0.04924171757064477, 0.012310429392661193, 0.012310429392661193, 0.13152022643575617, 0.06576011321787809, 0.6576011321787809, 0.06576011321787809, 0.06576011321787809, 0.02322115152967873, 0.1625480607077511, 0.02322115152967873, 0.02322115152967873, 0.7198556974200406, 0.04644230305935746, 0.07990074735852712, 0.07990074735852712, 0.23970224207558136, 0.03995037367926356, 0.03995037367926356, 0.0998759341981589, 0.33957817627374026, 0.03995037367926356, 0.05992556051889534, 0.14766095097584397, 0.13711374019185513, 0.042188843135955424, 0.05273605391994428, 0.08437768627191085, 0.39024679900758763, 0.042188843135955424, 0.06328326470393313, 0.021094421567977712, 0.010547210783988856, 0.9290541445558147, 0.8427784382551353, 0.10926750118183517, 0.21853500236367035, 0.10926750118183517, 0.5463375059091758, 0.8278333961404662, 0.9040737547393285, 0.2145907326200032, 0.1807079853642132, 0.0451769963410533, 0.03388274725578998, 0.10164824176736993, 0.1807079853642132, 0.0903539926821066, 0.07905974359684327, 0.011294249085263325, 0.06776549451157995, 0.9780017632100524, 0.8980281269103386, 0.03243695153889996, 0.06487390307779992, 0.5027727488529493, 0.08109237884724989, 0.06487390307779992, 0.03243695153889996, 0.11352933038614985, 0.04865542730834994, 0.06487390307779992, 0.09286007510894201, 0.18572015021788402, 0.18572015021788402, 0.46430037554471004, 0.045751266092074555, 0.045751266092074555, 0.7777715235652674, 0.045751266092074555, 0.09150253218414911, 0.959041054589717, 0.8938682030580766, 0.1877938281876287, 0.7511753127505147, 0.05054842353659295, 0.8593232001220802, 0.05054842353659295, 0.939106493061642, 0.13032873069651238, 0.11529080023153018, 0.025063217441636997, 0.13032873069651238, 0.14536666116149458, 0.21554366999807817, 0.06516436534825619, 0.08020229581323839, 0.05012643488327399, 0.05012643488327399, 0.8279024602640093, 0.08354945861694048, 0.23672346608133138, 0.04177472930847024, 0.02088736465423512, 0.16013646234913592, 0.10443682327117561, 0.341160289352507, 0.00696245488474504, 0.8582134774412898, 0.6206995677076197, 0.028869747335238123, 0.028869747335238123, 0.057739494670476246, 0.17321848401142875, 0.057739494670476246, 0.028869747335238123, 0.2635507767565544, 0.08785025891885147, 0.556384973152726, 0.029283419639617156, 0.029283419639617156, 0.011347937096883618, 0.03404381129065085, 0.04539174838753447, 0.8057035338787368, 0.022695874193767236, 0.011347937096883618, 0.011347937096883618, 0.05673968548441809, 0.9457106497622212, 0.01074671192911615, 0.03761349175190652, 0.8919018027579374, 0.0686078309813798, 0.9078708850710416, 0.01617124820500846, 0.03234249641001692, 0.19405497846010153, 0.0808562410250423, 0.27491121948514385, 0.01617124820500846, 0.1293699856400677, 0.04851374461502538, 0.21022622666510998, 0.01617124820500846, 0.77314434607143, 0.6897567305312522, 0.8679070536356637, 0.9818713816443546, 0.6896562161979867, 0.9175106463315096, 0.7890798930493406, 0.9301451474471006, 0.900732914006072, 0.6898378166800772, 0.0928449975289247, 0.07856115175524397, 0.10712884330260541, 0.3713799901156988, 0.03570961443420181, 0.04285153732104217, 0.04285153732104217, 0.14998038062364757, 0.04999346020788253, 0.021425768660521084, 0.9251228616858611, 0.18569435661711187, 0.09284717830855593, 0.2785415349256678, 0.46423589154277967, 0.33903859300632383, 0.5650643216772063, 0.8423901592521409, 0.35218424947394306, 0.08500999125233108, 0.12144284464618725, 0.0971542757169498, 0.0485771378584749, 0.13358712911080597, 0.07286570678771236, 0.0485771378584749, 0.0485771378584749, 0.012144284464618725, 0.023954089701189587, 0.14372453820713751, 0.6707145116333084, 0.023954089701189587, 0.047908179402379174, 0.047908179402379174, 0.023954089701189587, 0.8740221780085061, 0.08964330030856474, 0.9495590047149243, 0.029673718897341383, 0.824366941764046, 0.8245027524331326, 0.7022196130660772, 0.06540748365702014, 0.04360498910468009, 0.06540748365702014, 0.06540748365702014, 0.06540748365702014, 0.08720997820936018, 0.501457374703821, 0.10901247276170022, 0.021802494552340044, 0.9297929605208641, 0.8961037712087712, 0.9865035298037645, 0.030442844148105084, 0.12177137659242034, 0.12177137659242034, 0.06088568829621017, 0.09132853244431524, 0.1522142207405254, 0.3196498635551034, 0.06088568829621017, 0.015221422074052542, 0.37529827597237997, 0.053614039424625705, 0.10722807884925141, 0.42891231539700564, 0.29771266581171796, 0.07442816645292949, 0.5954253316234359, 0.962374277177414, 0.6825804085243191, 0.05460643268194553, 0.0819096490229183, 0.0819096490229183, 0.027303216340972766, 0.0819096490229183, 0.8986233599723772, 0.22226035652690862, 0.06838780200827957, 0.051290851506209684, 0.051290851506209684, 0.06838780200827957, 0.44452071305381724, 0.08548475251034947, 0.034193901004139785, 0.18671437146997788, 0.7001788930124171, 0.09335718573498894, 0.7075640724382258, 0.16081001646323315, 0.03216200329264663, 0.03216200329264663, 0.03216200329264663, 0.899268180960307, 0.8265067260588997, 0.16691690777888818, 0.19821382798742973, 0.1304038342022564, 0.08867460725753434, 0.08345845388944409, 0.05216153368090256, 0.07824230052135384, 0.0938907606256246, 0.05737768704899281, 0.05216153368090256, 0.8812500133923348, 0.05507812583702092, 0.05507812583702092, 0.05395889378650295, 0.16187668135950883, 0.49911976752515225, 0.05395889378650295, 0.05395889378650295, 0.026979446893251473, 0.026979446893251473, 0.06744861723312869, 0.026979446893251473, 0.013489723446625737, 0.9560279937575881, 0.9506984789753308, 0.8241203408750805, 0.05279063606258545, 0.08798439343764243, 0.1055812721251709, 0.3343406950630412, 0.017596878687528485, 0.1055812721251709, 0.05279063606258545, 0.13197659015646362, 0.08798439343764243, 0.026395318031292726, 0.15525620220149686, 0.10867934154104779, 0.09315372132089811, 0.09315372132089811, 0.41919174594404146, 0.062102480880598734, 0.031051240440299367, 0.015525620220149684, 0.047949336553991376, 0.09589867310798275, 0.2876960193239483, 0.09589867310798275, 0.047949336553991376, 0.383594692431931, 0.9303812936173361, 0.7772453700429779, 0.086360596671442, 0.086360596671442, 0.8576058988980909, 0.2580946366682867, 0.17625975187102505, 0.006294991138250895, 0.1258998227650179, 0.09442486707376342, 0.15737477845627237, 0.07553989365901073, 0.02517996455300358, 0.07553989365901073, 0.006294991138250895, 0.21839917016632768, 0.10919958508316384, 0.10919958508316384, 0.5459979254158193, 0.6034518058522358, 0.07359168364051656, 0.08831002036861986, 0.10302835709672317, 0.01471833672810331, 0.02943667345620662, 0.05887334691241324, 0.02943667345620662, 0.944671766939118, 0.9132263336720193, 0.9293113203902709, 0.10963673339742573, 0.1576028042587995, 0.19186428344549503, 0.13019362090944306, 0.12334132507210395, 0.04796607086137376, 0.09593214172274751, 0.054818366698712866, 0.07537525421073019, 0.020556887512017324, 0.9429607149080583, 0.9690165060431798, 0.8895849541081243, 0.9600468401429091, 0.9570495648274442, 0.14275025216543377, 0.11420020173234702, 0.028550050433086754, 0.028550050433086754, 0.05710010086617351, 0.08565015129926026, 0.48535085736247485, 0.05710010086617351, 0.9404483665431201, 0.9007146238670204, 0.7022994400613392, 0.2734350457878117, 0.6835876144695292, 0.03654632679187066, 0.2923706143349653, 0.03654632679187066, 0.09136581697967666, 0.438555921502448, 0.01827316339593533, 0.03654632679187066, 0.01827316339593533, 0.01827316339593533, 0.9296737587895456, 0.7025535725848276, 0.607426690463162, 0.26032572448421226, 0.028925080498245808, 0.057850160996491616, 0.028925080498245808, 0.9677417889909775, 0.13796026984370643, 0.2613984060196543, 0.42114187636499856, 0.03630533416939643, 0.029044267335517144, 0.050827467837155, 0.029044267335517144, 0.029044267335517144, 0.8961859292123422, 0.9245595270483153, 0.030296937086408092, 0.030296937086408092, 0.18178162251844854, 0.12118774834563237, 0.030296937086408092, 0.030296937086408092, 0.48475099338252947, 0.060593874172816184, 0.3472091572056666, 0.03654833233743859, 0.5847733173990174, 0.018274166168719293, 0.9560599209659979, 0.06562951969633057, 0.22149962897511566, 0.18048117916490905, 0.0820368996204132, 0.03281475984816529, 0.0410184498102066, 0.0738332096583719, 0.1640737992408264, 0.0738332096583719, 0.057425829734289245, 0.04315880671237729, 0.23737343691807508, 0.6905409073980366, 0.014324948448945898, 0.014324948448945898, 0.05729979379578359, 0.042974845346837695, 0.7019224739983491, 0.042974845346837695, 0.014324948448945898, 0.10027463914262129, 0.9810350272517699, 0.010010561502569081, 0.9292263899039837, 0.9350961247010664, 0.10720813799117551, 0.13722641662870466, 0.1286497655894106, 0.26158785669846824, 0.1029198124715285, 0.012864976558941062, 0.1415147421483517, 0.0643248827947053, 0.03859492967682319, 0.004288325519647021, 0.7897813028775782, 0.04513036016443304, 0.02256518008221652, 0.02256518008221652, 0.04513036016443304, 0.02256518008221652, 0.02256518008221652, 0.7333594283807771, 0.09462702301687446, 0.07097026726265585, 0.023656755754218616, 0.04731351150843723, 0.023656755754218616, 0.049545166564273685, 0.9413581647212, 0.9560308571988461, 0.897266731940759, 0.868821137115972, 0.8602144925525497, 0.10120170500618232, 0.9641763674648773, 0.9508282109535667, 0.9251636125265181, 0.21294655669526028, 0.05807633364416189, 0.09679388940693649, 0.21294655669526028, 0.038717555762774594, 0.019358777881387297, 0.019358777881387297, 0.29038166822080946, 0.019358777881387297, 0.019358777881387297, 0.9469799123970635, 0.1888407734799304, 0.08812569429063419, 0.03776815469598608, 0.06294692449331013, 0.05035753959464811, 0.2643770828719026, 0.1888407734799304, 0.012589384898662027, 0.06294692449331013, 0.05035753959464811, 0.2990181538026427, 0.5980363076052854, 0.7721509920648957, 0.024392108439385926, 0.07317632531815778, 0.5366263856664903, 0.0975684337575437, 0.14635265063631556, 0.04878421687877185, 0.024392108439385926, 0.024392108439385926, 0.07820412490617008, 0.5995649576139707, 0.07820412490617008, 0.13034020817695013, 0.02606804163539003, 0.07820412490617008, 0.02606804163539003, 0.020094608299485922, 0.30141912449228886, 0.040189216598971844, 0.16075686639588738, 0.060283824898457766, 0.16075686639588738, 0.040189216598971844, 0.060283824898457766, 0.1808514746953733, 0.9408308671111426, 0.07237160516239559, 0.8688549646190047, 0.8540152501636222, 0.1261600423801499, 0.1513920508561799, 0.10933870339612993, 0.12195470763414491, 0.09672269915811493, 0.07990136017409495, 0.08410669492009994, 0.10092803390411993, 0.08831202966610494, 0.04625868220605497, 0.42371121007463, 0.11097198359097453, 0.050441810723170236, 0.010088362144634048, 0.12106034573560857, 0.020176724289268096, 0.12106034573560857, 0.12106034573560857, 0.020176724289268096, 0.010088362144634048, 0.10470423925489875, 0.10470423925489875, 0.08725353271241562, 0.08725353271241562, 0.4886197831895275, 0.12215494579738187, 0.017450706542483124, 0.8368262580222972, 0.8959671495068539, 0.6110534777661285, 0.0596149734405979, 0.04471123008044842, 0.0596149734405979, 0.0596149734405979, 0.13413369024134528, 0.02980748672029895, 0.9125628576493235, 0.9298754854135735, 0.05370899160082682, 0.2148359664033073, 0.6445078992099218, 0.05370899160082682, 0.9171198832956613, 0.8364166845328258, 0.6897725667871271, 0.1907267410036681, 0.07335643884756465, 0.08802772661707758, 0.20539802877318103, 0.06602079496280819, 0.18339109711891163, 0.08069208273232112, 0.05868515107805172, 0.05868515107805172, 0.03683503836021476, 0.7612574594444385, 0.04911338448028635, 0.14734015344085905, 0.9619181312523571, 0.8073499216815728, 0.045617237889756364, 0.12381821712933869, 0.039100489619791165, 0.1107847205894083, 0.013033496539930389, 0.5474068546770763, 0.03258374134982597, 0.019550244809895582, 0.06516748269965195, 0.0065167482699651945, 0.07155795329334597, 0.09541060439112796, 0.4532003708578578, 0.07155795329334597, 0.02385265109778199, 0.19082120878225592, 0.11926325548890994, 0.8690768304236999, 0.027745056296102803, 0.9433319140674953, 0.1075622131923219, 0.1792703553205365, 0.0358540710641073, 0.0717081421282146, 0.2151244263846438, 0.0358540710641073, 0.358540710641073, 0.0358540710641073, 0.05124173807414163, 0.11956405550633048, 0.06832231743218885, 0.017080579358047212, 0.5807396981736052, 0.10248347614828326, 0.05124173807414163, 0.9447558891712712, 0.03374128175611683, 0.10875395449065982, 0.10875395449065982, 0.07612776814346187, 0.2501340953285176, 0.10875395449065982, 0.08700316359252785, 0.06525237269439589, 0.06525237269439589, 0.09787855904159383, 0.021750790898131964, 0.7406635124541202, 0.11456532542764401, 0.09165226034211521, 0.37806557391122525, 0.057282662713822007, 0.10310879288487962, 0.022913065085528803, 0.022913065085528803, 0.10310879288487962, 0.034369597628293204, 0.06873919525658641, 0.9170953214672528, 0.12774379944285638, 0.6898165169914244, 0.1021950395542851, 0.025548759888571276, 0.025548759888571276, 0.025548759888571276, 0.025548759888571276, 0.9625480132843677, 0.1036054127899857, 0.1036054127899857, 0.6216324767399142, 0.05180270639499285, 0.1036054127899857, 0.02338332824501727, 0.7482665038405526, 0.02338332824501727, 0.02338332824501727, 0.02338332824501727, 0.1402999694701036, 0.08769348778874415, 0.08769348778874415, 0.08769348778874415, 0.6577011584155811, 0.04384674389437208, 0.9510068679205789, 0.07122048512436721, 0.17092916429848132, 0.014244097024873444, 0.3561024256218361, 0.014244097024873444, 0.02848819404974689, 0.3561024256218361, 0.8367806370111599, 0.083678063701116, 0.9392154280949851, 0.9236764629951687, 0.9672791207833273, 0.9632468866418195, 0.899992392775677, 0.049999577376426504, 0.9007054077063614, 0.9478918838607501, 0.05699285853616479, 0.9118857365786366, 0.9267186869822535, 0.035643026422394364, 0.9151768850747865, 0.8968438089599733, 0.08735508310046723, 0.13439243553918034, 0.14111205731613938, 0.12767281376222134, 0.12767281376222134, 0.06719621776959017, 0.1142335702083033, 0.06719621776959017, 0.06719621776959017, 0.06719621776959017, 0.1378692849583776, 0.05514771398335105, 0.5514771398335104, 0.05514771398335105, 0.1102954279667021, 0.08272157097502657, 0.8568782073974118, 0.11176672270401024, 0.9134229191227806, 0.9628906984822508, 0.647008986249788, 0.05506459457445004, 0.06883074321806255, 0.01376614864361251, 0.1376614864361251, 0.05506459457445004, 0.01376614864361251, 0.01376614864361251, 0.1639648872949909, 0.737841992827459, 0.13339065085748086, 0.04446355028582696, 0.06669532542874043, 0.04446355028582696, 0.5113308282870099, 0.02223177514291348, 0.04446355028582696, 0.02223177514291348, 0.08892710057165391, 0.054941173720166984, 0.24723528174075143, 0.6043529109218369, 0.027470586860083492, 0.027470586860083492, 0.027470586860083492, 0.8278616624212609, 0.5948602664409471, 0.38241017128346605, 0.8100676631765629, 0.05062922894853518, 0.05062922894853518, 0.10125845789707036, 0.8872895760964474, 0.914463687070222, 0.1556860792066988, 0.20758143894226508, 0.25947679867783136, 0.36326751814896385, 0.13937737576014977, 0.017422171970018722, 0.017422171970018722, 0.8014199106208612, 0.11316384116989386, 0.05658192058494693, 0.792146888189257, 0.8269731637221824, 0.026817503541352195, 0.9386126239473268, 0.9309033800340193, 0.9400440365909895, 0.8243911563900799, 0.17546255138936204, 0.7018502055574481, 0.9618748062307044, 0.960262250269416, 0.4680846196012556, 0.06001084866682764, 0.04800867893346211, 0.04800867893346211, 0.09601735786692422, 0.036006509200096584, 0.036006509200096584, 0.12002169733365528, 0.06001084866682764, 0.012002169733365528, 0.5748406479333219, 0.03592754049583262, 0.14371016198333048, 0.10778262148749787, 0.03592754049583262, 0.07185508099166524, 0.2642859160355585, 0.09438782715555662, 0.037755130862222645, 0.28316348146666986, 0.037755130862222645, 0.018877565431111323, 0.2642859160355585, 0.08223793585907187, 0.10965058114542915, 0.10965058114542915, 0.575665551013503, 0.054825290572714576, 0.027412645286357288, 0.842780572200648, 0.30618695196651813, 0.023552842458962935, 0.4710568491792587, 0.04710568491792587, 0.09421136983585174, 0.023552842458962935, 0.023552842458962935, 0.17829188524288378, 0.1560053995875233, 0.05571621413840118, 0.10028918544912213, 0.14486215675984307, 0.022286485655360472, 0.1225756711044826, 0.17829188524288378, 0.022286485655360472, 0.022286485655360472, 0.2069310409475592, 0.0344885068245932, 0.0689770136491864, 0.0689770136491864, 0.5863046160180845, 0.0344885068245932, 0.044830995880633995, 0.8368452564385012, 0.014943665293544664, 0.06724649382095099, 0.02988733058708933, 0.18995189225298154, 0.17685176175277592, 0.15065150075236466, 0.15065150075236466, 0.05895058725092531, 0.05240052200082249, 0.06550065250102811, 0.06550065250102811, 0.05895058725092531, 0.026200261000411246, 0.9595181397629422, 0.21374349345696608, 0.016441807188997393, 0.1808598790789713, 0.13153445751197915, 0.09865084313398435, 0.03288361437799479, 0.11509265032298174, 0.1973016862679687, 0.016441807188997393, 0.02811493343415676, 0.18274706732201895, 0.11245973373662704, 0.0702873335853919, 0.3936090680781946, 0.02811493343415676, 0.0702873335853919, 0.02811493343415676, 0.0702873335853919, 0.04217240015123514, 0.18617246937884996, 0.33097327889573325, 0.031028744896474992, 0.010342914965491664, 0.1448008095168833, 0.2275441292408166, 0.031028744896474992, 0.010342914965491664, 0.010342914965491664, 0.13286601267006393, 0.09300620886904475, 0.053146405068025565, 0.07971960760203835, 0.026573202534012783, 0.039859803801019174, 0.305591829141147, 0.1727258164710831, 0.039859803801019174, 0.053146405068025565, 0.8623489811105164, 0.8966842330087628, 0.8737020080887803, 0.9476825182181653, 0.9365604697273737, 0.9842865715898914, 0.19702773159427736, 0.08112906595058479, 0.15066826533680033, 0.04635946625747703, 0.12748853220806183, 0.13907839877243108, 0.03476959969310777, 0.057949332821846285, 0.16225813190116958, 0.011589866564369257, 0.8866102351463643, 0.9096724609415209, 0.0731920370872488, 0.9538470627832515, 0.06004036481760859, 0.30020182408804297, 0.12008072963521718, 0.4803229185408687, 0.12517999401540308, 0.06258999700770154, 0.688489967084717, 0.12517999401540308, 0.6905842100724132, 0.08168444230621055, 0.08168444230621055, 0.08168444230621055, 0.735159980755895, 0.981547570846201, 0.9506444336836879, 0.08780976559608282, 0.04390488279804141, 0.021952441399020705, 0.021952441399020705, 0.08780976559608282, 0.6585732419706212, 0.04390488279804141, 0.021952441399020705, 0.871240744326899, 0.6895704872807947, 0.008537375816477772, 0.24758389867785538, 0.025612127449433315, 0.03414950326591109, 0.5293173006216219, 0.059761630715344405, 0.059761630715344405, 0.017074751632955545, 0.008537375816477772, 0.8127779470886659, 0.18756414163584598, 0.9367956332110998, 0.9538629842127266, 0.05134435271272164, 0.02567217635636082, 0.6546404970872008, 0.2438856753854278, 0.01283608817818041, 0.01283608817818041, 0.01283608817818041, 0.18865670308035806, 0.05741725745923941, 0.04921479210791949, 0.17225177237771822, 0.18865670308035806, 0.18865670308035806, 0.05741725745923941, 0.024607396053959747, 0.024607396053959747, 0.05741725745923941, 0.1357234519072215, 0.8143407114433289, 0.9874209296190581, 0.9668533481334265, 0.9286460707251193, 0.04790875338085982, 0.015969584460286606, 0.09581750676171964, 0.39923961150716514, 0.09581750676171964, 0.33536127366601876, 0.02116291813483272, 0.08465167253933088, 0.14814042694382906, 0.33860669015732353, 0.10581459067416361, 0.06348875440449817, 0.06348875440449817, 0.16930334507866177, 0.8269458297124574, 0.9768301836787616, 0.8934220056263621, 0.92915828243085, 0.9024283291977325, 0.929707458230878, 0.04225942991958537, 0.9349586018336516, 0.01218161531455979, 0.17054261440383706, 0.07308969188735873, 0.04872646125823916, 0.15836099908927725, 0.46290138195327196, 0.07308969188735873, 0.01218161531455979, 0.8723410935875573, 0.2229536330446789, 0.17836290643574315, 0.11147681652233946, 0.1281983390006904, 0.10590297569622249, 0.061312249087286705, 0.04459072660893579, 0.0836076123917546, 0.061312249087286705, 0.01672152247835092, 0.9729646439845442, 0.8243637161481453, 0.19172087955338624, 0.16557712325065174, 0.21786463585612073, 0.21786463585612073, 0.0610020980397138, 0.008714585434244828, 0.06971668347395862, 0.052287512605468975, 0.008714585434244828, 0.8582070718767638, 0.929674296041887, 0.08279833864869428, 0.023656668185341224, 0.011828334092670612, 0.5322750341701775, 0.011828334092670612, 0.2247383477607416, 0.04731333637068245, 0.023656668185341224, 0.023656668185341224, 0.011828334092670612, 0.2093571170532333, 0.18609521515842958, 0.023261901894803698, 0.4884999397908777, 0.046523803789607396, 0.046523803789607396, 0.0554873025461481, 0.7768222356460734, 0.1109746050922962, 0.01059870287735632, 0.9220871503299998, 0.0529935143867816, 0.07257798551395858, 0.7983578406535444, 0.07257798551395858, 0.689440027177505, 0.14766794332146702, 0.21829174230129905, 0.1412475979596641, 0.12840690723605827, 0.051362762894423306, 0.06420345361802914, 0.05778310825622622, 0.11556621651245244, 0.07704414434163497, 0.5526011188260913, 0.03250594816624067, 0.016252974083120333, 0.08126487041560165, 0.016252974083120333, 0.04875892224936099, 0.03250594816624067, 0.1625297408312033, 0.03250594816624067, 0.016252974083120333, 0.7408685063632601, 0.9229175351287953, 0.8895648885189572, 0.9506629759909893, 0.9179773080333969, 0.06119848720222647, 0.9704825927428441, 0.7255339341615271, 0.055810302627809776, 0.16743090788342935, 0.10881002465537457, 0.7616701725876219, 0.10881002465537457, 0.022706118774803833, 0.09082447509921533, 0.15894283142362683, 0.022706118774803833, 0.4541223754960767, 0.15894283142362683, 0.045412237549607666, 0.022706118774803833, 0.022706118774803833, 0.8738937351705378, 0.1313501637392742, 0.7005342066094623, 0.17513355165236558, 0.9508375416585025, 0.9603751949099286, 0.18823692087897959, 0.17058970954657526, 0.1000008642169579, 0.10588326799442602, 0.1411776906592347, 0.041176826442276784, 0.06470644155214923, 0.08235365288455357, 0.06470644155214923, 0.041176826442276784, 0.07950319378405381, 0.874535131624592, 0.31961172473723093, 0.03196117247372309, 0.06392234494744618, 0.06392234494744618, 0.4474564146321233, 0.06392234494744618, 0.18797591722850818, 0.20301399060678882, 0.030076146756561308, 0.02255711006742098, 0.12030458702624523, 0.15789977047194687, 0.24060917405249047, 0.007519036689140327, 0.015038073378280654, 0.007519036689140327, 0.023695055307803005, 0.10662774888511352, 0.07108516592340901, 0.04739011061560601, 0.23695055307803004, 0.035542582961704504, 0.17771291480852253, 0.023695055307803005, 0.2724931360397346, 0.07934665974401739, 0.8728132571841912, 0.14959632315834648, 0.16685743736892492, 0.143842618421487, 0.11795094710561933, 0.08918242342132195, 0.0863055710528922, 0.10932039000033011, 0.06904445684231376, 0.04027593315801636, 0.0287685236842974, 0.02044930003959792, 0.04089860007919584, 0.12269580023758751, 0.5316818010295459, 0.02044930003959792, 0.1022465001979896, 0.04089860007919584, 0.061347900118793756, 0.02044930003959792, 0.04089860007919584, 0.8270181534084697, 0.05693795225663423, 0.05693795225663423, 0.24673112644541498, 0.15183453935102462, 0.05693795225663423, 0.05693795225663423, 0.32264839612092727, 0.05693795225663423, 0.9495628322805962, 0.017291924399078933, 0.03458384879815787, 0.9337639175502623, 0.8973357202402401, 0.8280992333253879, 0.04113042418948639, 0.04113042418948639, 0.6992172112212687, 0.04113042418948639, 0.08226084837897278, 0.04113042418948639, 0.08226084837897278, 0.07410778185501937, 0.07410778185501937, 0.07410778185501937, 0.7410778185501937, 0.9294724132205776, 0.9327656633288087, 0.8962197150709594, 0.035512989892867886, 0.14205195957147154, 0.08878247473216971, 0.017756494946433943, 0.2130779393572073, 0.39064288882154674, 0.05326948483930183, 0.035512989892867886, 0.035512989892867886, 0.6894149130725276, 0.9007360718326183, 0.9523869888489737, 0.08178459681552273, 0.16356919363104547, 0.054523064543681825, 0.054523064543681825, 0.08178459681552273, 0.49070758089313643, 0.08178459681552273, 0.7250280756513068, 0.055771390434715906, 0.055771390434715906, 0.13942847608678977, 0.8325270465003269, 0.12918523135349902, 0.014353914594833223, 0.014353914594833223, 0.9506158611903017, 0.06793475630554083, 0.1543971734216837, 0.03705532162120409, 0.04940709549493878, 0.12351773873734696, 0.05558298243180613, 0.043231208558071436, 0.20380426891662248, 0.19762838197975513, 0.06175886936867348, 0.4248769250033954, 0.08892772848908276, 0.049404293605045974, 0.16797459825715633, 0.07904686976807357, 0.029642576163027585, 0.07904686976807357, 0.049404293605045974, 0.019761717442018392, 0.009880858721009196, 0.05026699409194911, 0.8042719054711858, 0.05026699409194911, 0.05026699409194911, 0.24532127985442115, 0.17764644403251187, 0.17764644403251187, 0.06767483582190928, 0.1268903171660799, 0.025378063433215983, 0.050756126866431966, 0.09305289925512526, 0.00845935447773866, 0.01691870895547732, 0.06944463844792063, 0.06944463844792063, 0.13888927689584127, 0.06944463844792063, 0.027777855379168253, 0.5277792522041969, 0.09722249382708889, 0.13779601401422437, 0.1515756154156468, 0.21358382172204776, 0.09645720980995705, 0.09645720980995705, 0.06200820630640096, 0.0757878077078234, 0.06889800700711218, 0.0757878077078234, 0.027559202802844872, 0.6896823790597001, 0.9506184716174587, 0.6894454708186275, 0.951513461508425, 0.8676090015315868], \"Term\": [\"abrahamson\", \"academic\", \"academic\", \"academic\", \"academic\", \"accuse\", \"accuse\", \"accuse\", \"accuse\", \"africa\", \"africa\", \"africa\", \"africa\", \"african\", \"african\", \"african\", \"african\", \"african\", \"air\", \"air\", \"air\", \"air\", \"air\", \"air\", \"air\", \"aircraft\", \"aircraft\", \"aircraft\", \"aircraft\", \"aircraft\", \"aircraft\", \"airfield\", \"airline\", \"airline\", \"airport\", \"airport\", \"airport\", \"airport\", \"airports\", \"airports\", \"airspace\", \"airspace\", \"airway\", \"aizu\", \"ajman\", \"akabeko\", \"akademische\", \"akaflieg\", \"akira\", \"akira\", \"akshar\", \"aktieselskab\", \"alabama\", \"alabama\", \"aladin\", \"alderman\", \"aldrin\", \"aldrin\", \"aldrin\", \"allegation\", \"allison\", \"allouni\", \"although\", \"although\", \"although\", \"although\", \"although\", \"although\", \"although\", \"although\", \"although\", \"although\", \"altitude\", \"altitude\", \"ambrosius\", \"andante\", \"angle\", \"angle\", \"ann\", \"ansbach\", \"apollo\", \"apollo\", \"apollo\", \"appear\", \"appear\", \"appear\", \"appear\", \"appear\", \"appear\", \"appear\", \"appear\", \"appear\", \"area\", \"area\", \"area\", \"area\", \"area\", \"area\", \"area\", \"area\", \"area\", \"arm\", \"arm\", \"arm\", \"arm\", \"arm\", \"arm\", \"arm\", \"armstrong\", \"art\", \"art\", \"art\", \"art\", \"art\", \"art\", \"artificial\", \"artificial\", \"artificial\", \"artificial\", \"artificial\", \"artificial\", \"artificial\", \"artist\", \"artist\", \"artist\", \"artist\", \"artist\", \"artist\", \"artist\", \"artist\", \"artist\", \"asteroid\", \"asteroid\", \"asteroid\", \"astronaut\", \"astronaut\", \"astrup\", \"atc\", \"atmospheric\", \"attack\", \"attack\", \"attack\", \"attack\", \"attack\", \"attack\", \"attack\", \"attack\", \"auditorium\", \"authority\", \"authority\", \"authority\", \"authority\", \"authority\", \"authority\", \"authority\", \"aviation\", \"aviation\", \"aviation\", \"aviation\", \"award\", \"award\", \"award\", \"award\", \"award\", \"award\", \"baccalaureate\", \"badminton\", \"baggage\", \"bahrain\", \"balloon\", \"barcarolle\", \"beacon\", \"beacon\", \"beat\", \"beat\", \"beat\", \"beat\", \"become\", \"become\", \"become\", \"become\", \"become\", \"become\", \"become\", \"become\", \"become\", \"become\", \"beer\", \"begin\", \"begin\", \"begin\", \"begin\", \"begin\", \"begin\", \"begin\", \"begin\", \"begin\", \"begin\", \"bikini\", \"biodegradable\", \"bonnett\", \"borough\", \"bread\", \"bread\", \"bread\", \"break\", \"break\", \"break\", \"break\", \"break\", \"break\", \"break\", \"break\", \"break\", \"bright\", \"bright\", \"bright\", \"brisbane\", \"britain\", \"britain\", \"britain\", \"bruggen\", \"buddhism\", \"buddhist\", \"buddhist\", \"build\", \"build\", \"build\", \"build\", \"build\", \"build\", \"build\", \"build\", \"build\", \"burial\", \"burial\", \"burj\", \"burn\", \"burn\", \"burn\", \"burn\", \"burn\", \"burn\", \"bus\", \"bus\", \"bus\", \"butka\", \"buzz\", \"buzz\", \"caldwell\", \"call\", \"call\", \"call\", \"call\", \"call\", \"call\", \"call\", \"call\", \"call\", \"call\", \"campus\", \"campus\", \"campus\", \"cannonball\", \"captain\", \"captain\", \"captain\", \"captain\", \"captain\", \"captain\", \"captain\", \"casket\", \"cast\", \"cast\", \"cast\", \"cast\", \"caste\", \"catherine\", \"catherine\", \"catherine\", \"catie\", \"caucus\", \"cement\", \"cement\", \"cemetery\", \"cemetery\", \"cemetery\", \"center\", \"center\", \"center\", \"center\", \"center\", \"center\", \"center\", \"center\", \"center\", \"center\", \"championship\", \"championship\", \"championship\", \"championship\", \"championship\", \"chandra\", \"chart\", \"chart\", \"chart\", \"chatin\", \"chechen\", \"chechnya\", \"check\", \"check\", \"check\", \"check\", \"check\", \"check\", \"check\", \"chen\", \"china\", \"china\", \"china\", \"china\", \"chocolate\", \"chong\", \"chowdhury\", \"cinema\", \"cinema\", \"clark\", \"class\", \"class\", \"class\", \"class\", \"class\", \"class\", \"club\", \"club\", \"club\", \"club\", \"club\", \"club\", \"club\", \"club\", \"club\", \"coffin\", \"college\", \"college\", \"college\", \"college\", \"college\", \"college\", \"college\", \"colorado\", \"colorado\", \"colorado\", \"company\", \"company\", \"company\", \"company\", \"company\", \"company\", \"company\", \"company\", \"compatriot\", \"compose\", \"compose\", \"compose\", \"compose\", \"composer\", \"congress\", \"congress\", \"conservation\", \"constellation\", \"construction\", \"construction\", \"construction\", \"construction\", \"construction\", \"construction\", \"construction\", \"construction\", \"construction\", \"contrast\", \"contrast\", \"control\", \"control\", \"control\", \"control\", \"control\", \"control\", \"control\", \"control\", \"cop\", \"copland\", \"corona\", \"correspondent\", \"courtney\", \"courtyard\", \"coverage\", \"crab\", \"craftool\", \"crew\", \"crew\", \"crew\", \"crew\", \"crew\", \"cup\", \"cup\", \"cup\", \"dalian\", \"dan\", \"dan\", \"dani\", \"dani\", \"debt\", \"decomposition\", \"depict\", \"depict\", \"depict\", \"depict\", \"depict\", \"depict\", \"depict\", \"depict\", \"derham\", \"deri\", \"design\", \"design\", \"design\", \"design\", \"design\", \"design\", \"design\", \"design\", \"design\", \"design\", \"detective\", \"dibny\", \"divination\", \"downwash\", \"dyson\", \"dzhanibekov\", \"early\", \"early\", \"early\", \"early\", \"early\", \"early\", \"early\", \"early\", \"early\", \"early\", \"eberson\", \"education\", \"education\", \"education\", \"education\", \"education\", \"education\", \"education\", \"effect\", \"effect\", \"effect\", \"effect\", \"effect\", \"effect\", \"effect\", \"effect\", \"elggren\", \"elongate\", \"elongate\", \"embalm\", \"emir\", \"emirate\", \"emirate\", \"emirate\", \"emirate\", \"emirate\", \"emit\", \"emit\", \"end\", \"end\", \"end\", \"end\", \"end\", \"end\", \"end\", \"end\", \"end\", \"end\", \"endogamous\", \"endowed\", \"english\", \"english\", \"english\", \"english\", \"english\", \"english\", \"english\", \"english\", \"english\", \"enshrine\", \"entrepreneurship\", \"ethnic\", \"ethnic\", \"eucharistic\", \"expedition\", \"expedition\", \"expedition\", \"explode\", \"explosive\", \"explosive\", \"fabian\", \"faur\\u00e9\", \"film\", \"film\", \"film\", \"film\", \"film\", \"film\", \"final\", \"final\", \"final\", \"final\", \"final\", \"final\", \"final\", \"final\", \"find\", \"find\", \"find\", \"find\", \"find\", \"find\", \"find\", \"find\", \"find\", \"find\", \"firework\", \"first\", \"first\", \"first\", \"first\", \"first\", \"first\", \"first\", \"first\", \"first\", \"first\", \"flight\", \"flight\", \"flight\", \"flight\", \"flight\", \"flight\", \"flight\", \"fly\", \"fly\", \"fly\", \"fly\", \"fly\", \"fly\", \"fly\", \"fly\", \"fly\", \"follow\", \"follow\", \"follow\", \"follow\", \"follow\", \"follow\", \"follow\", \"follow\", \"follow\", \"follow\", \"foot\", \"foot\", \"foot\", \"foot\", \"foot\", \"foot\", \"football\", \"football\", \"football\", \"football\", \"football\", \"football\", \"force\", \"force\", \"force\", \"force\", \"force\", \"force\", \"force\", \"force\", \"force\", \"force\", \"form\", \"form\", \"form\", \"form\", \"form\", \"form\", \"form\", \"form\", \"form\", \"form\", \"foundle\", \"fraction\", \"gabriel\", \"game\", \"game\", \"game\", \"game\", \"game\", \"game\", \"game\", \"gamma\", \"gemini\", \"gemini\", \"genova\", \"geoffrey\", \"gibb\", \"gin\", \"gnarrk\", \"government\", \"government\", \"government\", \"government\", \"government\", \"government\", \"government\", \"government\", \"government\", \"grave\", \"grave\", \"grave\", \"grave\", \"grave\", \"green\", \"green\", \"green\", \"green\", \"green\", \"green\", \"ground\", \"ground\", \"ground\", \"ground\", \"ground\", \"ground\", \"ground\", \"ground\", \"ground\", \"group\", \"group\", \"group\", \"group\", \"group\", \"group\", \"group\", \"group\", \"group\", \"group\", \"gunatitanand\", \"gurion\", \"health\", \"health\", \"health\", \"health\", \"hidalgo\", \"hierarchical\", \"high\", \"high\", \"high\", \"high\", \"high\", \"high\", \"high\", \"high\", \"high\", \"high\", \"hogarth\", \"hohhot\", \"home\", \"home\", \"home\", \"home\", \"home\", \"home\", \"home\", \"home\", \"home\", \"hospital\", \"hospital\", \"hospital\", \"hospital\", \"hotel\", \"hotel\", \"hotel\", \"hotel\", \"hotel\", \"ifr\", \"ikramov\", \"ilyin\", \"ilyin\", \"imperial\", \"imperial\", \"imperial\", \"impromptu\", \"include\", \"include\", \"include\", \"include\", \"include\", \"include\", \"include\", \"include\", \"include\", \"include\", \"indie\", \"international\", \"international\", \"international\", \"international\", \"international\", \"international\", \"international\", \"international\", \"interstate\", \"isbn\", \"isbn\", \"isbn\", \"isbn\", \"isbn\", \"isbn\", \"isbn\", \"japan\", \"japan\", \"japan\", \"japan\", \"japan\", \"japanese\", \"japanese\", \"japanese\", \"japanese\", \"japanese\", \"japanese\", \"japanese\", \"japanese\", \"jazeera\", \"jazeera\", \"jazeera\", \"jesus\", \"jesus\", \"jinja\", \"john\", \"john\", \"john\", \"john\", \"john\", \"john\", \"john\", \"john\", \"john\", \"john\", \"jokaste\", \"jps\", \"kagura\", \"kami\", \"kaneko\", \"kaolinite\", \"kapla\", \"kaserne\", \"kheir\", \"kiln\", \"know\", \"know\", \"know\", \"know\", \"know\", \"know\", \"know\", \"know\", \"know\", \"know\", \"kojiki\", \"lab\", \"lab\", \"lab\", \"lab\", \"lamb\", \"lamb\", \"latif\", \"lead\", \"lead\", \"lead\", \"lead\", \"lead\", \"lead\", \"lead\", \"lead\", \"lead\", \"lead\", \"league\", \"league\", \"league\", \"league\", \"league\", \"league\", \"league\", \"leather\", \"leather\", \"lee\", \"lee\", \"leicester\", \"liability\", \"liberal\", \"light\", \"light\", \"light\", \"light\", \"light\", \"light\", \"light\", \"light\", \"light\", \"lighthouse\", \"lilith\", \"lin\", \"locate\", \"locate\", \"locate\", \"locate\", \"locate\", \"locate\", \"locate\", \"locate\", \"locate\", \"london\", \"london\", \"london\", \"london\", \"lord\", \"lord\", \"lord\", \"lori\", \"lose\", \"lose\", \"lose\", \"lose\", \"lose\", \"lose\", \"lovell\", \"low\", \"low\", \"low\", \"low\", \"low\", \"low\", \"low\", \"low\", \"luggage\", \"luggage\", \"luggage\", \"lunar\", \"lunar\", \"lunar\", \"lunar\", \"lunar\", \"mackenzie\", \"maharaj\", \"make\", \"make\", \"make\", \"make\", \"make\", \"make\", \"make\", \"make\", \"make\", \"make\", \"malaysia\", \"malaysia\", \"malaysia\", \"man\", \"man\", \"man\", \"man\", \"man\", \"man\", \"man\", \"man\", \"man\", \"man\", \"mancha\", \"mandinka\", \"mandir\", \"many\", \"many\", \"many\", \"many\", \"many\", \"many\", \"many\", \"many\", \"many\", \"many\", \"march\", \"march\", \"march\", \"march\", \"march\", \"march\", \"march\", \"march\", \"marriage\", \"marriage\", \"marriage\", \"marriage\", \"marriage\", \"marriage\", \"mart\\u00edn\", \"mass\", \"mass\", \"mass\", \"masters\", \"may\", \"may\", \"may\", \"may\", \"may\", \"may\", \"may\", \"may\", \"may\", \"may\", \"medical\", \"medical\", \"medical\", \"medical\", \"medium\", \"medium\", \"medium\", \"medium\", \"medium\", \"medium\", \"medium\", \"medium\", \"meiji\", \"melbourne\", \"melody\", \"member\", \"member\", \"member\", \"member\", \"member\", \"member\", \"member\", \"member\", \"member\", \"member\", \"memo\", \"merlin\", \"messier\", \"metakaolin\", \"metamorpho\", \"middle\", \"middle\", \"middle\", \"middle\", \"middle\", \"middle\", \"middle\", \"middle\", \"miguel\", \"mike\", \"minneapolis\", \"minnesota\", \"minnesota\", \"mission\", \"mission\", \"mission\", \"mission\", \"mission\", \"mission\", \"mission\", \"mission\", \"mission\", \"montana\", \"monteverde\", \"moon\", \"moon\", \"moon\", \"moon\", \"moon\", \"morrison\", \"move\", \"move\", \"move\", \"move\", \"move\", \"move\", \"move\", \"move\", \"mozzarella\", \"mubasher\", \"music\", \"music\", \"music\", \"music\", \"music\", \"music\", \"music\", \"music\", \"mutant\", \"mutant\", \"mutant\", \"mutant\", \"myrddin\", \"name\", \"name\", \"name\", \"name\", \"name\", \"name\", \"name\", \"name\", \"name\", \"name\", \"nasa\", \"nasa\", \"nasa\", \"natural\", \"natural\", \"natural\", \"natural\", \"natural\", \"natural\", \"natural\", \"natural\", \"nebula\", \"nebula\", \"nectoux\", \"neutron\", \"new\", \"new\", \"new\", \"new\", \"new\", \"new\", \"new\", \"new\", \"new\", \"new\", \"news\", \"news\", \"news\", \"news\", \"news\", \"news\", \"news\", \"newspaper\", \"newspaper\", \"newspaper\", \"newspaper\", \"newspaper\", \"newspaper\", \"ngc\", \"ngc\", \"nico\", \"nie\", \"nipple\", \"noble\", \"noble\", \"nocturne\", \"nonparticipating\", \"nordwig\", \"note\", \"note\", \"note\", \"note\", \"note\", \"note\", \"note\", \"note\", \"note\", \"note\", \"noukhaev\", \"number\", \"number\", \"number\", \"number\", \"number\", \"number\", \"number\", \"number\", \"number\", \"number\", \"nursing\", \"nursing\", \"oatmeal\", \"object\", \"object\", \"object\", \"object\", \"object\", \"object\", \"object\", \"object\", \"observe\", \"observe\", \"observe\", \"observe\", \"observe\", \"observe\", \"observe\", \"offer\", \"offer\", \"offer\", \"offer\", \"offer\", \"offer\", \"offer\", \"offer\", \"offer\", \"ohio\", \"ohio\", \"oljato\", \"omer\", \"one\", \"one\", \"one\", \"one\", \"one\", \"one\", \"one\", \"one\", \"one\", \"one\", \"open\", \"open\", \"open\", \"open\", \"open\", \"open\", \"open\", \"open\", \"open\", \"open\", \"operation\", \"operation\", \"operation\", \"operation\", \"operation\", \"operation\", \"operation\", \"ophthalmologist\", \"orchestral\", \"organization\", \"organization\", \"organization\", \"organization\", \"organization\", \"organization\", \"organization\", \"osu\", \"overlie\", \"painting\", \"painting\", \"painting\", \"painting\", \"palestinian\", \"paomo\", \"parker\", \"part\", \"part\", \"part\", \"part\", \"part\", \"part\", \"part\", \"part\", \"part\", \"passenger\", \"passenger\", \"passenger\", \"passenger\", \"pasty\", \"patent\", \"people\", \"people\", \"people\", \"people\", \"people\", \"people\", \"people\", \"people\", \"people\", \"people\", \"period\", \"period\", \"period\", \"period\", \"period\", \"period\", \"period\", \"pianist\", \"piano\", \"piano\", \"picture\", \"picture\", \"picture\", \"picture\", \"picture\", \"picture\", \"picture\", \"picture\", \"piece\", \"piece\", \"piece\", \"piece\", \"piece\", \"piece\", \"piece\", \"pierce\", \"pierce\", \"place\", \"place\", \"place\", \"place\", \"place\", \"place\", \"place\", \"place\", \"place\", \"place\", \"plate\", \"play\", \"play\", \"play\", \"play\", \"play\", \"play\", \"play\", \"play\", \"play\", \"play\", \"podcast\", \"police\", \"police\", \"police\", \"police\", \"police\", \"police\", \"police\", \"practitioner\", \"preserve\", \"preserve\", \"preserve\", \"preserve\", \"preserve\", \"priest\", \"priest\", \"priest\", \"priest\", \"priest\", \"priest\", \"print\", \"print\", \"print\", \"print\", \"print\", \"progenitor\", \"program\", \"program\", \"program\", \"program\", \"program\", \"program\", \"program\", \"progress\", \"progress\", \"prose\", \"pr\\u00e9lude\", \"pulsar\", \"purification\", \"qatari\", \"qatari\", \"quarterfinal\", \"qud\", \"radiation\", \"radiation\", \"ralph\", \"ralph\", \"reaver\", \"rectory\", \"reference\", \"reference\", \"reference\", \"reference\", \"reference\", \"reference\", \"reference\", \"reference\", \"reference\", \"reference\", \"regard\", \"regard\", \"regard\", \"regard\", \"regard\", \"regard\", \"religion\", \"religion\", \"remnant\", \"renacci\", \"report\", \"report\", \"report\", \"report\", \"report\", \"report\", \"report\", \"report\", \"republican\", \"republican\", \"research\", \"research\", \"research\", \"research\", \"research\", \"research\", \"research\", \"research\", \"research\", \"restrict\", \"restrict\", \"restrict\", \"restrict\", \"restrict\", \"restrict\", \"revival\", \"rite\", \"rite\", \"ritual\", \"ritual\", \"ritual\", \"ritual\", \"roller\", \"roma\", \"roman\", \"roman\", \"roman\", \"roman\", \"route\", \"route\", \"route\", \"route\", \"runaway\", \"runaway\", \"runaway\", \"salt\", \"sam\", \"sam\", \"sapphire\", \"sarachi\", \"satire\", \"satirical\", \"satirical\", \"saturnyne\", \"savonlinna\", \"say\", \"say\", \"say\", \"say\", \"say\", \"say\", \"say\", \"say\", \"say\", \"say\", \"scholar\", \"scholar\", \"scholar\", \"scholar\", \"scholar\", \"scholar\", \"school\", \"school\", \"school\", \"school\", \"school\", \"school\", \"school\", \"science\", \"science\", \"science\", \"science\", \"science\", \"science\", \"screening\", \"season\", \"season\", \"season\", \"season\", \"season\", \"season\", \"season\", \"second\", \"second\", \"second\", \"second\", \"second\", \"second\", \"second\", \"second\", \"second\", \"second\", \"section\", \"section\", \"section\", \"section\", \"section\", \"section\", \"security\", \"security\", \"security\", \"security\", \"security\", \"see\", \"see\", \"see\", \"see\", \"see\", \"see\", \"see\", \"see\", \"see\", \"see\", \"semifinal\", \"series\", \"series\", \"series\", \"series\", \"series\", \"series\", \"series\", \"series\", \"series\", \"serve\", \"serve\", \"serve\", \"serve\", \"serve\", \"serve\", \"serve\", \"serve\", \"serve\", \"serve\", \"service\", \"service\", \"service\", \"service\", \"service\", \"service\", \"service\", \"service\", \"service\", \"set\", \"set\", \"set\", \"set\", \"set\", \"set\", \"set\", \"set\", \"set\", \"set\", \"shanghai\", \"sharjah\", \"shenyang\", \"shenzhou\", \"sheppard\", \"shinto\", \"show\", \"show\", \"show\", \"show\", \"show\", \"show\", \"show\", \"show\", \"show\", \"show\", \"showa\", \"shrine\", \"shrine\", \"shrines\", \"sign\", \"sign\", \"sign\", \"sign\", \"simon\", \"simon\", \"simon\", \"simon\", \"simpasa\", \"sir\", \"sir\", \"sir\", \"sir\", \"slave\", \"slavery\", \"social\", \"social\", \"social\", \"social\", \"social\", \"social\", \"social\", \"social\", \"soninke\", \"soup\", \"space\", \"space\", \"space\", \"space\", \"space\", \"space\", \"space\", \"space\", \"space\", \"spacecraft\", \"spacecraft\", \"stagg\", \"stall\", \"star\", \"star\", \"star\", \"star\", \"star\", \"star\", \"star\", \"state\", \"state\", \"state\", \"state\", \"state\", \"state\", \"state\", \"state\", \"state\", \"state\", \"stock\", \"stock\", \"stohlman\", \"strata\", \"stratification\", \"student\", \"student\", \"student\", \"student\", \"student\", \"student\", \"study\", \"study\", \"study\", \"study\", \"study\", \"study\", \"study\", \"study\", \"sugar\", \"supernova\", \"susu\", \"swami\", \"swaminarayan\", \"sweep\", \"sweep\", \"sydney\", \"system\", \"system\", \"system\", \"system\", \"system\", \"system\", \"system\", \"system\", \"s\\u00e3o\", \"take\", \"take\", \"take\", \"take\", \"take\", \"take\", \"take\", \"take\", \"take\", \"take\", \"tandy\", \"tate\", \"team\", \"team\", \"team\", \"team\", \"team\", \"team\", \"team\", \"team\", \"team\", \"technet\", \"temne\", \"term\", \"term\", \"term\", \"term\", \"term\", \"term\", \"term\", \"term\", \"term\", \"term\", \"test\", \"test\", \"test\", \"test\", \"test\", \"test\", \"theater\", \"theater\", \"theater\", \"theatre\", \"theatre\", \"theatre\", \"theme\", \"theme\", \"theme\", \"therapy\", \"time\", \"time\", \"time\", \"time\", \"time\", \"time\", \"time\", \"time\", \"time\", \"title\", \"title\", \"title\", \"title\", \"title\", \"title\", \"title\", \"title\", \"title\", \"title\", \"topless\", \"toriyama\", \"torus\", \"toucouleur\", \"tournament\", \"tournament\", \"toy\", \"tradition\", \"tradition\", \"tradition\", \"traffic\", \"traffic\", \"traffic\", \"training\", \"training\", \"training\", \"training\", \"training\", \"training\", \"training\", \"training\", \"training\", \"trajectory\", \"transit\", \"transit\", \"transit\", \"trsa\", \"tuareg\", \"two\", \"two\", \"two\", \"two\", \"two\", \"two\", \"two\", \"two\", \"two\", \"two\", \"ultron\", \"ultron\", \"unit\", \"unit\", \"unit\", \"unit\", \"unit\", \"unit\", \"united\", \"united\", \"united\", \"united\", \"united\", \"united\", \"united\", \"united\", \"united\", \"united\", \"university\", \"university\", \"university\", \"university\", \"university\", \"university\", \"university\", \"university\", \"university\", \"universit\\u00e4t\", \"universit\\u00e4t\", \"use\", \"use\", \"use\", \"use\", \"use\", \"use\", \"use\", \"use\", \"use\", \"use\", \"various\", \"various\", \"various\", \"various\", \"various\", \"various\", \"various\", \"various\", \"various\", \"various\", \"venerate\", \"version\", \"version\", \"version\", \"version\", \"version\", \"version\", \"version\", \"version\", \"vfr\", \"victor\", \"victor\", \"victor\", \"vidnava\", \"viktor\", \"visible\", \"visible\", \"visible\", \"visible\", \"visible\", \"visible\", \"visible\", \"vision\", \"vision\", \"vision\", \"vision\", \"vulgate\", \"wei\", \"welsh\", \"west\", \"west\", \"west\", \"west\", \"west\", \"west\", \"west\", \"west\", \"west\", \"whir\", \"whitcomb\", \"wicket\", \"william\", \"william\", \"william\", \"william\", \"william\", \"william\", \"william\", \"win\", \"win\", \"win\", \"win\", \"wing\", \"wing\", \"wing\", \"wing\", \"wolof\", \"work\", \"work\", \"work\", \"work\", \"work\", \"work\", \"work\", \"work\", \"work\", \"work\", \"world\", \"world\", \"world\", \"world\", \"world\", \"world\", \"world\", \"world\", \"world\", \"world\", \"worship\", \"worship\", \"worship\", \"worship\", \"would\", \"would\", \"would\", \"would\", \"would\", \"would\", \"would\", \"would\", \"would\", \"would\", \"write\", \"write\", \"write\", \"write\", \"write\", \"write\", \"write\", \"year\", \"year\", \"year\", \"year\", \"year\", \"year\", \"year\", \"year\", \"year\", \"year\", \"yoshikawa\", \"zaghawa\", \"zhao\", \"\\u00e1ngel\", \"\\u017eidlochovice\"]}, \"R\": 30, \"lambda.step\": 0.01, \"plot.opts\": {\"xlab\": \"PC1\", \"ylab\": \"PC2\"}, \"topic.order\": [9, 4, 6, 2, 8, 1, 3, 10, 7, 5]};\n",
       "\n",
       "function LDAvis_load_lib(url, callback){\n",
       "  var s = document.createElement('script');\n",
       "  s.src = url;\n",
       "  s.async = true;\n",
       "  s.onreadystatechange = s.onload = callback;\n",
       "  s.onerror = function(){console.warn(\"failed to load library \" + url);};\n",
       "  document.getElementsByTagName(\"head\")[0].appendChild(s);\n",
       "}\n",
       "\n",
       "if(typeof(LDAvis) !== \"undefined\"){\n",
       "   // already loaded: just create the visualization\n",
       "   !function(LDAvis){\n",
       "       new LDAvis(\"#\" + \"ldavis_el2185621034215418406493745924\", ldavis_el2185621034215418406493745924_data);\n",
       "   }(LDAvis);\n",
       "}else if(typeof define === \"function\" && define.amd){\n",
       "   // require.js is available: use it to load d3/LDAvis\n",
       "   require.config({paths: {d3: \"https://d3js.org/d3.v5\"}});\n",
       "   require([\"d3\"], function(d3){\n",
       "      window.d3 = d3;\n",
       "      LDAvis_load_lib(\"https://cdn.jsdelivr.net/gh/bmabey/pyLDAvis@3.3.1/pyLDAvis/js/ldavis.v3.0.0.js\", function(){\n",
       "        new LDAvis(\"#\" + \"ldavis_el2185621034215418406493745924\", ldavis_el2185621034215418406493745924_data);\n",
       "      });\n",
       "    });\n",
       "}else{\n",
       "    // require.js not available: dynamically load d3 & LDAvis\n",
       "    LDAvis_load_lib(\"https://d3js.org/d3.v5.js\", function(){\n",
       "         LDAvis_load_lib(\"https://cdn.jsdelivr.net/gh/bmabey/pyLDAvis@3.3.1/pyLDAvis/js/ldavis.v3.0.0.js\", function(){\n",
       "                 new LDAvis(\"#\" + \"ldavis_el2185621034215418406493745924\", ldavis_el2185621034215418406493745924_data);\n",
       "            })\n",
       "         });\n",
       "}\n",
       "</script>"
      ],
      "text/plain": [
       "PreparedData(topic_coordinates=              x         y  topics  cluster       Freq\n",
       "topic                                                \n",
       "8     -0.009004  0.123925       1        1  15.565197\n",
       "3     -0.070204  0.059749       2        1  13.798638\n",
       "5      0.070788  0.079292       3        1  11.399520\n",
       "1      0.075205 -0.049869       4        1  10.967646\n",
       "7     -0.059641  0.069725       5        1  10.474186\n",
       "0     -0.165429 -0.140701       6        1  10.294283\n",
       "2     -0.058306  0.025260       7        1   8.937975\n",
       "9      0.142500 -0.065612       8        1   8.537195\n",
       "6      0.058107 -0.076455       9        1   6.416400\n",
       "4      0.015986 -0.025315      10        1   3.608959, topic_info=          Term        Freq       Total Category  logprob  loglift\n",
       "147    airport  282.000000  282.000000  Default  30.0000  30.0000\n",
       "5457   jazeera  186.000000  186.000000  Default  29.0000  29.0000\n",
       "148   airspace  131.000000  131.000000  Default  28.0000  28.0000\n",
       "2203    shinto  130.000000  130.000000  Default  27.0000  27.0000\n",
       "1776      kami  104.000000  104.000000  Default  26.0000  26.0000\n",
       "...        ...         ...         ...      ...      ...      ...\n",
       "38         two    6.892370  169.998531  Topic10  -5.9193   0.1164\n",
       "4       become    6.953141  186.901208  Topic10  -5.9105   0.0304\n",
       "55       first    6.917037  225.056003  Topic10  -5.9158  -0.1606\n",
       "83        play    6.257309   87.286445  Topic10  -6.0160   0.6863\n",
       "308       high    5.967222   88.540636  Topic10  -6.0635   0.6246\n",
       "\n",
       "[654 rows x 6 columns], token_table=       Topic      Freq          Term\n",
       "term                                \n",
       "8262       5  0.889934    abrahamson\n",
       "1171       4  0.172571      academic\n",
       "1171       5  0.258856      academic\n",
       "1171       8  0.086285      academic\n",
       "1171      10  0.431426      academic\n",
       "...      ...       ...           ...\n",
       "11319     10  0.689682     yoshikawa\n",
       "3321       6  0.950618       zaghawa\n",
       "8875      10  0.689445          zhao\n",
       "7018       6  0.951513         ángel\n",
       "3859       4  0.867609  židlochovice\n",
       "\n",
       "[1856 rows x 3 columns], R=30, lambda_step=0.01, plot_opts={'xlab': 'PC1', 'ylab': 'PC2'}, topic_order=[9, 4, 6, 2, 8, 1, 3, 10, 7, 5])"
      ]
     },
     "execution_count": 15,
     "metadata": {},
     "output_type": "execute_result"
    }
   ],
   "source": [
    "import pyLDAvis\n",
    "import pyLDAvis.gensim_models as gensimvis\n",
    "pyLDAvis.enable_notebook()\n",
    "vis = gensimvis.prepare(lda_model, doc_token_matrix, dic)\n",
    "vis"
   ]
  },
  {
   "cell_type": "markdown",
   "metadata": {},
   "source": [
    "### Hyperparameter tuning (PROVIDED)\n",
    "\n",
    "First, let's differentiate between model hyperparameters and model parameters :\n",
    "\n",
    "- `Model hyperparameters` can be thought of as settings for a machine learning algorithm that are tuned by the data scientist before training. Examples would be the number of trees in the random forest, or in our case, number of topics K\n",
    "\n",
    "- `Model parameters` can be thought of as what the model learns during training, such as the weights for each word in a given topic.\n",
    "\n",
    "Now that we have the baseline coherence score for the default LDA model, let's perform a series of sensitivity tests to help determine the following model hyperparameters: \n",
    "- Number of Topics (K)\n",
    "- Dirichlet hyperparameter alpha: Document-Topic Density\n",
    "- Dirichlet hyperparameter beta: Word-Topic Density\n",
    "\n",
    "We'll perform these tests in sequence, one parameter at a time by keeping others constant and run them over the two difference validation corpus sets. We'll use `C_v` as our choice of metric for performance comparison "
   ]
  },
  {
   "cell_type": "code",
   "execution_count": null,
   "metadata": {},
   "outputs": [],
   "source": [
    "# supporting function\n",
    "def compute_coherence_values(corpus, dictionary, k, a, b):\n",
    "    \n",
    "    lda_model = gensim.models.LdaMulticore(corpus=doc_term_matrix,\n",
    "                                           id2word=dictionary,\n",
    "                                           num_topics=k, \n",
    "                                           random_state=100,\n",
    "                                           chunksize=100,\n",
    "                                           passes=10,\n",
    "                                           alpha=a,\n",
    "                                           eta=b)\n",
    "    \n",
    "    coherence_model_lda = CoherenceModel(model=lda_model, texts=doc_term_matrix, dictionary=dictionary, coherence='c_v')\n",
    "    \n",
    "    return coherence_model_lda.get_coherence()"
   ]
  },
  {
   "cell_type": "markdown",
   "metadata": {},
   "source": [
    "Let's call the function, and iterate it over the range of topics, alpha, and beta parameter values"
   ]
  },
  {
   "cell_type": "code",
   "execution_count": null,
   "metadata": {},
   "outputs": [],
   "source": [
    "import numpy as np\n",
    "import tqdm\n",
    "import gensim\n",
    "\n",
    "corpus = doc_term_matrix\n",
    "grid = {}\n",
    "grid['Validation_Set'] = {}\n",
    "\n",
    "# Topics range\n",
    "min_topics = 2\n",
    "max_topics = 11\n",
    "step_size = 1\n",
    "topics_range = range(min_topics, max_topics, step_size)\n",
    "\n",
    "# Alpha parameter\n",
    "alpha = list(np.arange(0.01, 1, 0.3))\n",
    "alpha.append('symmetric')\n",
    "alpha.append('asymmetric')\n",
    "\n",
    "# Beta parameter\n",
    "beta = list(np.arange(0.01, 1, 0.3))\n",
    "beta.append('symmetric')\n",
    "\n",
    "# Validation sets\n",
    "num_of_docs = len(corpus)\n",
    "corpus_sets = [corpus]\n",
    "\n",
    "corpus_title = ['100% Corpus']\n",
    "\n",
    "model_results = {'Validation_Set': [],\n",
    "                 'Topics': [],\n",
    "                 'Alpha': [],\n",
    "                 'Beta': [],\n",
    "                 'Coherence': []\n",
    "                }\n",
    "\n",
    "# Can take a long time to run\n",
    "if 1 == 1:\n",
    "    pbar = tqdm.tqdm(total=(len(beta)*len(alpha)*len(topics_range)*len(corpus_title)))\n",
    "    \n",
    "    # iterate through validation corpuses\n",
    "    for i in range(len(corpus_sets)):\n",
    "        # iterate through number of topics\n",
    "        for k in topics_range:\n",
    "            # iterate through alpha values\n",
    "            for a in alpha:\n",
    "                # iterare through beta values\n",
    "                for b in beta:\n",
    "                    # get the coherence score for the given parameters\n",
    "                    cv = compute_coherence_values(corpus=corpus_sets[i], dictionary=dictionary, \n",
    "                                                  k=k, a=a, b=b)\n",
    "                    # Save the model results\n",
    "                    model_results['Validation_Set'].append(corpus_title[i])\n",
    "                    model_results['Topics'].append(k)\n",
    "                    model_results['Alpha'].append(a)\n",
    "                    model_results['Beta'].append(b)\n",
    "                    model_results['Coherence'].append(cv)\n",
    "                    \n",
    "                    pbar.update(1)\n",
    "    pd.DataFrame(model_results).to_csv('lda_tuning_results.csv', index=False)\n",
    "    pbar.close()"
   ]
  },
  {
   "cell_type": "markdown",
   "metadata": {},
   "source": [
    "### Final Model Training\n",
    "\n",
    "Based on external evaluation (Code to be added from Excel based analysis), train the final model"
   ]
  },
  {
   "cell_type": "code",
   "execution_count": null,
   "metadata": {},
   "outputs": [],
   "source": [
    "lda_model = gensim.models.LdaMulticore(corpus=corpus,\n",
    "                                           id2word=dictionary,\n",
    "                                           num_topics=16, \n",
    "                                           random_state=100,\n",
    "                                           chunksize=100,\n",
    "                                           passes=10,\n",
    "                                           alpha=0.01,\n",
    "                                           eta=0.9)"
   ]
  },
  {
   "cell_type": "code",
   "execution_count": null,
   "metadata": {},
   "outputs": [],
   "source": [
    "from gensim.models import CoherenceModel\n",
    "\n",
    "# Compute Perplexity\n",
    "print('Perplexity:', lda_model.log_perplexity(doc_term_matrix))\n",
    "# Compute Coherence Score\n",
    "coherence_model_lda = CoherenceModel(model=lda_model, texts=lemmas, dictionary=dictionary, coherence='c_v')\n",
    "coherence_lda = coherence_model_lda.get_coherence()\n",
    "print('Coherence Score: ', coherence_lda)"
   ]
  }
 ],
 "metadata": {
  "kernelspec": {
   "display_name": "Python 3 (ipykernel)",
   "language": "python",
   "name": "python3"
  },
  "language_info": {
   "codemirror_mode": {
    "name": "ipython",
    "version": 3
   },
   "file_extension": ".py",
   "mimetype": "text/x-python",
   "name": "python",
   "nbconvert_exporter": "python",
   "pygments_lexer": "ipython3",
   "version": "3.9.6"
  }
 },
 "nbformat": 4,
 "nbformat_minor": 4
}
